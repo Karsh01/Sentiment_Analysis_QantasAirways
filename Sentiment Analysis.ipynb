{
 "cells": [
  {
   "cell_type": "markdown",
   "id": "09aa84c9",
   "metadata": {},
   "source": [
    "### Importing necessary libraries"
   ]
  },
  {
   "cell_type": "code",
   "execution_count": 68,
   "id": "bb26587f",
   "metadata": {},
   "outputs": [],
   "source": [
    "import pandas as pd \n",
    "import numpy as np \n",
    "import matplotlib.pyplot as plt \n",
    "import seaborn as sns \n",
    "import requests \n",
    "from bs4 import BeautifulSoup \n",
    "import string  \n",
    "import pickle\n",
    "from nltk.corpus import stopwords \n",
    "import re \n",
    "from nltk.tokenize import RegexpTokenizer \n",
    "import nltk \n",
    "from sklearn.feature_extraction.text import CountVectorizer,TfidfVectorizer\n",
    "from sklearn.metrics import classification_report, confusion_matrix \n",
    "from sklearn.metrics import roc_curve, auc \n",
    "from sklearn.model_selection import train_test_split\n",
    "from sklearn.metrics import accuracy_score,confusion_matrix,precision_score\n",
    "from xgboost import XGBClassifier"
   ]
  },
  {
   "cell_type": "markdown",
   "id": "62fd931c",
   "metadata": {
    "heading_collapsed": true
   },
   "source": [
    "### Web Scraping"
   ]
  },
  {
   "cell_type": "code",
   "execution_count": 2,
   "id": "2369ff59",
   "metadata": {
    "hidden": true
   },
   "outputs": [],
   "source": [
    "url = 'https://www.airlinequality.com/airline-reviews/qantas-airways/'\n",
    "response = requests.get(url)\n",
    "html_content = response.text"
   ]
  },
  {
   "cell_type": "code",
   "execution_count": 3,
   "id": "2e2eec91",
   "metadata": {
    "hidden": true
   },
   "outputs": [
    {
     "data": {
      "text/plain": [
       "<Response [200]>"
      ]
     },
     "execution_count": 3,
     "metadata": {},
     "output_type": "execute_result"
    }
   ],
   "source": [
    "response"
   ]
  },
  {
   "cell_type": "code",
   "execution_count": 4,
   "id": "34771de2",
   "metadata": {
    "hidden": true
   },
   "outputs": [
    {
     "data": {
      "text/plain": [
       "'<!doctype html>\\n\\n<!--[if lt IE 7]> <html class=\"no-js lt-ie9 lt-ie8 lt-ie7 lt-ie10\" lang=\"en-GB\"> <![endif]-->\\n<!--[if IE 7]>    <html class=\"no-js lt-ie9 lt-ie8 lt-ie10\" lang=\"en-GB\"> <![endif]-->\\n<!--[if IE 8]>    <html class=\"no-js lt-ie9 lt-ie10\" lang=\"en-GB\"> <![endif]-->\\n<!--[if IE 9]>    <html class=\"no-js lt-ie10\" lang=\"en-GB\"> <![endif]-->\\n<!--[if gt IE 8]><!-->\\n<html lang=\"en-GB\">\\n<!--<![endif]-->\\n\\n<head>\\n    <meta charset=\"utf-8\">\\n\\n    <title>Qantas Airways Customer Reviews - SKYTRAX</title><link rel=\"preload\" as=\"image\" href=\"https://www.airlinequality.com/wp-content/themes/airlinequality2014new/library/images/nav/grad-header.jpg\" fetchpriority=\"high\">\\n\\n    <!-- Google Chrome Frame for IE -->\\n    <meta http-equiv=\"X-UA-Compatible\" content=\"IE=edge,chrome=1\">\\n\\n    <!-- mobile meta -->\\n    <meta name=\"HandheldFriendly\" content=\"True\">\\n    <meta name=\"MobileOptimized\" content=\"320\">\\n    <meta name=\"viewport\"\\n        content=\"width=device-width, initial-scale=1.0, minimum-scale=1.0, maximum-scale=1.0, user-scalable=no\" />\\n    <!-- icons & favicons -->\\n    <link rel=\"apple-touch-icon\" href=\"https://www.airlinequality.com/wp-content/themes/airlinequality2014new/library/images/apple-icon-touch.png\">\\n    <link rel=\"icon\" href=\"https://www.airlinequality.com/wp-content/themes/airlinequality2014new/favicon.png\">\\n    <!--[if IE]>\\n\\t\\t\\t<link rel=\"shortcut icon\" href=\"https://www.airlinequality.com/wp-content/themes/airlinequality2014new/favicon.ico\">\\n\\t\\t<![endif]-->\\n    <meta name=\"msapplication-TileColor\" content=\"#f01d4f\">\\n    <meta name=\"msapplication-TileImage\"\\n        content=\"https://www.airlinequality.com/wp-content/themes/airlinequality2014new/library/images/win8-tile-icon.png\">\\n\\n    <link rel=\"pingback\" href=\"https://www.airlinequality.com/xmlrpc.php\">\\n    <link href=\"https://fonts.googleapis.com/css?family=Source+Sans+Pro\" rel=\"stylesheet\">\\n    <link href=\"https://fonts.googleapis.com/css?family=Montserrat:300,300i,500,700|Playfair+Display:400i,900\"\\n        rel=\"stylesheet\">\\n\\n    <script src=\"https://www.airlinequality.com/wp-content/themes/airlinequality2014new/static_homepage_assets/js/static/modernizr-2.6.2.min.js\" defer>\\n    </script>\\n\\n    <meta name=\\'robots\\' content=\\'index, follow, max-image-preview:large, max-snippet:-1, max-video-preview:-1\\' />\\n\\n\\t<!-- This site is optimized with the Yoast SEO plugin v22.9 - https://yoast.com/wordpress/plugins/seo/ -->\\n\\t<title>Qantas Airways Customer Reviews - SKYTRAX</title>\\n\\t<meta name=\"description\" content=\"Read Verified Qantas Airways customer reviews, view Qantas Airways Photos, check customer ratings and opinions about Qantas Airways standards.\" />\\n\\t<link rel=\"canonical\" href=\"https://www.airlinequality.com/airline-reviews/qantas-airways/\" />\\n\\t<link rel=\"next\" href=\"https://www.airlinequality.com/airline-reviews/qantas-airways/page/2/\" />\\n\\t<meta property=\"og:locale\" content=\"en_GB\" />\\n\\t<meta property=\"og:type\" content=\"website\" />\\n\\t<meta property=\"og:title\" content=\"Customer Reviews - SKYTRAX\" />\\n\\t<meta property=\"og:description\" content=\"Read Verified [name] customer reviews, view [name] Photos, check customer ratings and opinions about [name] standards.\" />\\n\\t<meta property=\"og:url\" content=\"https://www.airlinequality.com/review_airline/\" />\\n\\t<meta property=\"og:site_name\" content=\"SKYTRAX\" />\\n\\t<script type=\"application/ld+json\" class=\"yoast-schema-graph\">{\"@context\":\"https://schema.org\",\"@graph\":[{\"@type\":\"CollectionPage\",\"@id\":\"https://www.airlinequality.com/review_airline/\",\"url\":\"https://www.airlinequality.com/review_airline/\",\"name\":\"Customer Reviews - SKYTRAX\",\"isPartOf\":{\"@id\":\"https://www.airlinequality.com/#website\"},\"description\":\"Read Verified [name] customer reviews, view [name] Photos, check customer ratings and opinions about [name] standards.\",\"breadcrumb\":{\"@id\":\"https://www.airlinequality.com/review_airline/#breadcrumb\"},\"inLanguage\":\"en-GB\"},{\"@type\":\"BreadcrumbList\",\"@id\":\"https://www.airlinequality.com/review_airline/#breadcrumb\",\"itemListElement\":[{\"@type\":\"ListItem\",\"position\":1,\"name\":\"Home\",\"item\":\"https://www.airlinequality.com/\"},{\"@type\":\"ListItem\",\"position\":2,\"name\":\"Airline Reviews\"}]},{\"@type\":\"WebSite\",\"@id\":\"https://www.airlinequality.com/#website\",\"url\":\"https://www.airlinequality.com/\",\"name\":\"SKYTRAX\",\"description\":\"Air Travel Ratings &amp; Reviews | Airline Rating and Reviews | Airport Rating and Reviews | Seat Reviews\",\"potentialAction\":[{\"@type\":\"SearchAction\",\"target\":{\"@type\":\"EntryPoint\",\"urlTemplate\":\"https://www.airlinequality.com/?s={search_term_string}\"},\"query-input\":\"required name=search_term_string\"}],\"inLanguage\":\"en-GB\"}]}</script>\\n\\t<!-- / Yoast SEO plugin. -->\\n\\n\\n<link rel=\\'dns-prefetch\\' href=\\'//cdn.jsdelivr.net\\' />\\n<link rel=\\'stylesheet\\' id=\\'wgs-css\\' href=\\'https://www.airlinequality.com/wp-content/plugins/wp-google-search/wgs.css\\' type=\\'text/css\\' media=\\'all\\' />\\n<link rel=\\'stylesheet\\' id=\\'wgs2-css\\' href=\\'https://www.airlinequality.com/wp-content/plugins/wp-google-search/wgs2.css\\' type=\\'text/css\\' media=\\'all\\' />\\n<style id=\\'wp-emoji-styles-inline-css\\' type=\\'text/css\\'>\\n\\n\\timg.wp-smiley, img.emoji {\\n\\t\\tdisplay: inline !important;\\n\\t\\tborder: none !important;\\n\\t\\tbox-shadow: none !important;\\n\\t\\theight: 1em !important;\\n\\t\\twidth: 1em !important;\\n\\t\\tmargin: 0 0.07em !important;\\n\\t\\tvertical-align: -0.1em !important;\\n\\t\\tbackground: none !important;\\n\\t\\tpadding: 0 !important;\\n\\t}\\n</style>\\n<link rel=\\'stylesheet\\' id=\\'wp-block-library-css\\' href=\\'https://www.airlinequality.com/wp-includes/css/dist/block-library/style.min.css\\' type=\\'text/css\\' media=\\'all\\' />\\n<style id=\\'classic-theme-styles-inline-css\\' type=\\'text/css\\'>\\n/*! This file is auto-generated */\\n.wp-block-button__link{color:#fff;background-color:#32373c;border-radius:9999px;box-shadow:none;text-decoration:none;padding:calc(.667em + 2px) calc(1.333em + 2px);font-size:1.125em}.wp-block-file__button{background:#32373c;color:#fff;text-decoration:none}\\n</style>\\n<style id=\\'global-styles-inline-css\\' type=\\'text/css\\'>\\nbody{--wp--preset--color--black: #000000;--wp--preset--color--cyan-bluish-gray: #abb8c3;--wp--preset--color--white: #ffffff;--wp--preset--color--pale-pink: #f78da7;--wp--preset--color--vivid-red: #cf2e2e;--wp--preset--color--luminous-vivid-orange: #ff6900;--wp--preset--color--luminous-vivid-amber: #fcb900;--wp--preset--color--light-green-cyan: #7bdcb5;--wp--preset--color--vivid-green-cyan: #00d084;--wp--preset--color--pale-cyan-blue: #8ed1fc;--wp--preset--color--vivid-cyan-blue: #0693e3;--wp--preset--color--vivid-purple: #9b51e0;--wp--preset--gradient--vivid-cyan-blue-to-vivid-purple: linear-gradient(135deg,rgba(6,147,227,1) 0%,rgb(155,81,224) 100%);--wp--preset--gradient--light-green-cyan-to-vivid-green-cyan: linear-gradient(135deg,rgb(122,220,180) 0%,rgb(0,208,130) 100%);--wp--preset--gradient--luminous-vivid-amber-to-luminous-vivid-orange: linear-gradient(135deg,rgba(252,185,0,1) 0%,rgba(255,105,0,1) 100%);--wp--preset--gradient--luminous-vivid-orange-to-vivid-red: linear-gradient(135deg,rgba(255,105,0,1) 0%,rgb(207,46,46) 100%);--wp--preset--gradient--very-light-gray-to-cyan-bluish-gray: linear-gradient(135deg,rgb(238,238,238) 0%,rgb(169,184,195) 100%);--wp--preset--gradient--cool-to-warm-spectrum: linear-gradient(135deg,rgb(74,234,220) 0%,rgb(151,120,209) 20%,rgb(207,42,186) 40%,rgb(238,44,130) 60%,rgb(251,105,98) 80%,rgb(254,248,76) 100%);--wp--preset--gradient--blush-light-purple: linear-gradient(135deg,rgb(255,206,236) 0%,rgb(152,150,240) 100%);--wp--preset--gradient--blush-bordeaux: linear-gradient(135deg,rgb(254,205,165) 0%,rgb(254,45,45) 50%,rgb(107,0,62) 100%);--wp--preset--gradient--luminous-dusk: linear-gradient(135deg,rgb(255,203,112) 0%,rgb(199,81,192) 50%,rgb(65,88,208) 100%);--wp--preset--gradient--pale-ocean: linear-gradient(135deg,rgb(255,245,203) 0%,rgb(182,227,212) 50%,rgb(51,167,181) 100%);--wp--preset--gradient--electric-grass: linear-gradient(135deg,rgb(202,248,128) 0%,rgb(113,206,126) 100%);--wp--preset--gradient--midnight: linear-gradient(135deg,rgb(2,3,129) 0%,rgb(40,116,252) 100%);--wp--preset--font-size--small: 13px;--wp--preset--font-size--medium: 20px;--wp--preset--font-size--large: 36px;--wp--preset--font-size--x-large: 42px;--wp--preset--spacing--20: 0.44rem;--wp--preset--spacing--30: 0.67rem;--wp--preset--spacing--40: 1rem;--wp--preset--spacing--50: 1.5rem;--wp--preset--spacing--60: 2.25rem;--wp--preset--spacing--70: 3.38rem;--wp--preset--spacing--80: 5.06rem;--wp--preset--shadow--natural: 6px 6px 9px rgba(0, 0, 0, 0.2);--wp--preset--shadow--deep: 12px 12px 50px rgba(0, 0, 0, 0.4);--wp--preset--shadow--sharp: 6px 6px 0px rgba(0, 0, 0, 0.2);--wp--preset--shadow--outlined: 6px 6px 0px -3px rgba(255, 255, 255, 1), 6px 6px rgba(0, 0, 0, 1);--wp--preset--shadow--crisp: 6px 6px 0px rgba(0, 0, 0, 1);}:where(.is-layout-flex){gap: 0.5em;}:where(.is-layout-grid){gap: 0.5em;}body .is-layout-flex{display: flex;}body .is-layout-flex{flex-wrap: wrap;align-items: center;}body .is-layout-flex > *{margin: 0;}body .is-layout-grid{display: grid;}body .is-layout-grid > *{margin: 0;}:where(.wp-block-columns.is-layout-flex){gap: 2em;}:where(.wp-block-columns.is-layout-grid){gap: 2em;}:where(.wp-block-post-template.is-layout-flex){gap: 1.25em;}:where(.wp-block-post-template.is-layout-grid){gap: 1.25em;}.has-black-color{color: var(--wp--preset--color--black) !important;}.has-cyan-bluish-gray-color{color: var(--wp--preset--color--cyan-bluish-gray) !important;}.has-white-color{color: var(--wp--preset--color--white) !important;}.has-pale-pink-color{color: var(--wp--preset--color--pale-pink) !important;}.has-vivid-red-color{color: var(--wp--preset--color--vivid-red) !important;}.has-luminous-vivid-orange-color{color: var(--wp--preset--color--luminous-vivid-orange) !important;}.has-luminous-vivid-amber-color{color: var(--wp--preset--color--luminous-vivid-amber) !important;}.has-light-green-cyan-color{color: var(--wp--preset--color--light-green-cyan) !important;}.has-vivid-green-cyan-color{color: var(--wp--preset--color--vivid-green-cyan) !important;}.has-pale-cyan-blue-color{color: var(--wp--preset--color--pale-cyan-blue) !important;}.has-vivid-cyan-blue-color{color: var(--wp--preset--color--vivid-cyan-blue) !important;}.has-vivid-purple-color{color: var(--wp--preset--color--vivid-purple) !important;}.has-black-background-color{background-color: var(--wp--preset--color--black) !important;}.has-cyan-bluish-gray-background-color{background-color: var(--wp--preset--color--cyan-bluish-gray) !important;}.has-white-background-color{background-color: var(--wp--preset--color--white) !important;}.has-pale-pink-background-color{background-color: var(--wp--preset--color--pale-pink) !important;}.has-vivid-red-background-color{background-color: var(--wp--preset--color--vivid-red) !important;}.has-luminous-vivid-orange-background-color{background-color: var(--wp--preset--color--luminous-vivid-orange) !important;}.has-luminous-vivid-amber-background-color{background-color: var(--wp--preset--color--luminous-vivid-amber) !important;}.has-light-green-cyan-background-color{background-color: var(--wp--preset--color--light-green-cyan) !important;}.has-vivid-green-cyan-background-color{background-color: var(--wp--preset--color--vivid-green-cyan) !important;}.has-pale-cyan-blue-background-color{background-color: var(--wp--preset--color--pale-cyan-blue) !important;}.has-vivid-cyan-blue-background-color{background-color: var(--wp--preset--color--vivid-cyan-blue) !important;}.has-vivid-purple-background-color{background-color: var(--wp--preset--color--vivid-purple) !important;}.has-black-border-color{border-color: var(--wp--preset--color--black) !important;}.has-cyan-bluish-gray-border-color{border-color: var(--wp--preset--color--cyan-bluish-gray) !important;}.has-white-border-color{border-color: var(--wp--preset--color--white) !important;}.has-pale-pink-border-color{border-color: var(--wp--preset--color--pale-pink) !important;}.has-vivid-red-border-color{border-color: var(--wp--preset--color--vivid-red) !important;}.has-luminous-vivid-orange-border-color{border-color: var(--wp--preset--color--luminous-vivid-orange) !important;}.has-luminous-vivid-amber-border-color{border-color: var(--wp--preset--color--luminous-vivid-amber) !important;}.has-light-green-cyan-border-color{border-color: var(--wp--preset--color--light-green-cyan) !important;}.has-vivid-green-cyan-border-color{border-color: var(--wp--preset--color--vivid-green-cyan) !important;}.has-pale-cyan-blue-border-color{border-color: var(--wp--preset--color--pale-cyan-blue) !important;}.has-vivid-cyan-blue-border-color{border-color: var(--wp--preset--color--vivid-cyan-blue) !important;}.has-vivid-purple-border-color{border-color: var(--wp--preset--color--vivid-purple) !important;}.has-vivid-cyan-blue-to-vivid-purple-gradient-background{background: var(--wp--preset--gradient--vivid-cyan-blue-to-vivid-purple) !important;}.has-light-green-cyan-to-vivid-green-cyan-gradient-background{background: var(--wp--preset--gradient--light-green-cyan-to-vivid-green-cyan) !important;}.has-luminous-vivid-amber-to-luminous-vivid-orange-gradient-background{background: var(--wp--preset--gradient--luminous-vivid-amber-to-luminous-vivid-orange) !important;}.has-luminous-vivid-orange-to-vivid-red-gradient-background{background: var(--wp--preset--gradient--luminous-vivid-orange-to-vivid-red) !important;}.has-very-light-gray-to-cyan-bluish-gray-gradient-background{background: var(--wp--preset--gradient--very-light-gray-to-cyan-bluish-gray) !important;}.has-cool-to-warm-spectrum-gradient-background{background: var(--wp--preset--gradient--cool-to-warm-spectrum) !important;}.has-blush-light-purple-gradient-background{background: var(--wp--preset--gradient--blush-light-purple) !important;}.has-blush-bordeaux-gradient-background{background: var(--wp--preset--gradient--blush-bordeaux) !important;}.has-luminous-dusk-gradient-background{background: var(--wp--preset--gradient--luminous-dusk) !important;}.has-pale-ocean-gradient-background{background: var(--wp--preset--gradient--pale-ocean) !important;}.has-electric-grass-gradient-background{background: var(--wp--preset--gradient--electric-grass) !important;}.has-midnight-gradient-background{background: var(--wp--preset--gradient--midnight) !important;}.has-small-font-size{font-size: var(--wp--preset--font-size--small) !important;}.has-medium-font-size{font-size: var(--wp--preset--font-size--medium) !important;}.has-large-font-size{font-size: var(--wp--preset--font-size--large) !important;}.has-x-large-font-size{font-size: var(--wp--preset--font-size--x-large) !important;}\\n.wp-block-navigation a:where(:not(.wp-element-button)){color: inherit;}\\n:where(.wp-block-post-template.is-layout-flex){gap: 1.25em;}:where(.wp-block-post-template.is-layout-grid){gap: 1.25em;}\\n:where(.wp-block-columns.is-layout-flex){gap: 2em;}:where(.wp-block-columns.is-layout-grid){gap: 2em;}\\n.wp-block-pullquote{font-size: 1.5em;line-height: 1.6;}\\n</style>\\n<link rel=\\'stylesheet\\' id=\\'tablepress-default-css\\' href=\\'https://www.airlinequality.com/wp-content/tablepress-combined.min.css\\' type=\\'text/css\\' media=\\'all\\' />\\n<link rel=\\'stylesheet\\' id=\\'slick-css\\' href=\\'//cdn.jsdelivr.net/jquery.slick/1.3.11/slick.css\\' type=\\'text/css\\' media=\\'all\\' />\\n<link rel=\\'stylesheet\\' id=\\'joints-stylesheet-css\\' href=\\'https://www.airlinequality.com/wp-content/themes/airlinequality2014new/library/css/style.css\\' type=\\'text/css\\' media=\\'all\\' />\\n<link rel=\\'stylesheet\\' id=\\'foundation-icons-css\\' href=\\'https://www.airlinequality.com/wp-content/themes/airlinequality2014new/library/css/icons/foundation-icons.css\\' type=\\'text/css\\' media=\\'all\\' />\\n<script type=\"text/javascript\" src=\"https://www.airlinequality.com/wp-content/themes/airlinequality2014new/library/js/vendor/jquery.js\" id=\"jquery-js\"></script>\\n<script type=\"text/javascript\" src=\"https://www.airlinequality.com/wp-content/themes/airlinequality2014new/library/js/vendor/modernizr.js\" id=\"modernizr-js\" defer></script>\\n<script type=\"text/javascript\" src=\"https://www.airlinequality.com/wp-content/themes/airlinequality2014new/library/js/vendor/picturefill.min.js\" id=\"picturefill-js\" defer></script>\\n<link rel=\"https://api.w.org/\" href=\"https://www.airlinequality.com/wp-json/\" />\\n\\t\\t<link rel=\"icon\" type=\"image/png\" href=\"https://www.airlinequality.com/wp-content/plugins/gendall-default/img/favicon.png\" />\\t\\t<style type=\"text/css\" id=\"wp-custom-css\">\\n\\t\\t\\t.home #main > section.layout-section.layout-2.border-top > div.col-content > div:nth-child(3), .home #main > section.layout-section.layout-2.border-top > div.col-content > div:nth-child(4) > section {\\n\\tdisplay:none;\\n}\\n\\n.captcha {\\n\\tfloat: none;\\n\\ttext-align: left;\\n\\tmargin-bottom: 20px;\\n}\\n\\n#main > section .accordion-toggle {\\n\\tcolor: #f78152;\\n\\tbackground: none;\\n\\tfont-size: 16px;\\n\\tmargin: 10px 0 0 21px;\\n}\\n#main > section .accordion-toggle:hover {\\n\\tbackground: transparent;\\n}\\n#main > section .accordion-toggle .arrow-down {\\n\\tborder-color: #f78152 transparent transparent transparent;\\n\\t\\n}\\n\\n.home .button:not(.button-hero):not(.button-inverted), .new-button {\\n  font-weight: 700;\\n  padding: 0.67143em 0.87566em;\\n  transition: background, color;\\n  transition-duration: .2s;\\n  cursor: pointer;\\n  background: #0192d1;\\n  display: block;\\n  font-size: 1em;\\n  text-decoration: none;\\n  text-align: center;\\n  padding: 12px 45px;\\n  border: 2px solid #0192d1;\\n  line-height: 1;\\n  color: #ffffff; }\\n  .home .button:not(.button-hero):not(.button-inverted):focus, .new-button:focus {\\n    outline: none;\\n    box-shadow: inset #77b255 0 0 0 0.2em; }\\n  .home .button:not(.button-hero):not(.button-inverted):hover, .new-button:hover {\\n\\t\\ttext-decoration: none;\\n    background: #ff6e3b;\\n    border-color: #ff6e3b; }\\n  .home .button:not(.button-hero):not(.button-inverted).cta {\\n    border-radius: 0.13646em; }\\n  .home .button:not(.button-hero):not(.button-inverted).submit-search {\\n    padding: 0.87566em 2.89287em; }\\n  .home .button:not(.button-hero):not(.button-inverted).centered {\\n    width: 14em;\\n    padding-right: 1.142em;\\n    padding-left: 1.142em;\\n    margin: 0 auto; }\\n\\n@media screen and (min-width: 700px) {\\n    .new-button {\\n      display: inline-block;\\n\\t\\t\\tfont-size: 14px;\\n    }\\n}\\n\\n\\n.home .button.button-inverted, .new-button.button-inverted {\\n      background: #fff;\\n      border: 2px solid #0192d1;\\n      padding: 12px 45px;\\n      color: #0192d1;\\n}\\n\\n.home .button.button-inverted:hover, .new-button.button-inverted:hover {\\n  background: #0192d1;\\n  color: #fff;\\n}\\n\\n@media screen and (min-width: 768px) {\\n\\t.new-buttons {\\n\\t\\t\\tmargin-left: calc(1.1rem + 88px);\\n\\t}\\n}\\n\\n.termly-styles-consent-banner-d8e726 .termly-styles-main-bdb6e9 p,\\n.tcfConsentSettings .tcfCategoriesTabContent .consentSettingsRowContainer div {\\n\\tcolor: #fff;\\n}\\t\\t</style>\\n\\t\\t    <script src=\"https://www.google.com/jsapi\" type=\"text/javascript\" defer></script>\\n    <script type=\"text/javascript\">\\n    google.load(\"search\", \"1\");\\n\\n    // Call this function when the page has been loaded\\n    function initialize() {\\n        var searchControl = new google.search.SearchControl();\\n        searchControl.addSearcher(new google.search.WebSearch());\\n        searchControl.addSearcher(new google.search.NewsSearch());\\n        searchControl.draw(document.getElementById(\"searchcontrol\"));\\n    }\\n    google.setOnLoadCallback(initialize);\\n    </script>\\n    <script src=\\'https://www.google.com/recaptcha/api.js\\'></script>\\n    <script>\\n    (adsbygoogle = window.adsbygoogle || []).push({\\n\\n        google_ad_client: \"ca-pub-7401091822721150\",\\n\\n        enable_page_level_ads: true\\n\\n    });\\n    </script>\\n\\n</head>\\n<body data-rsssl=1 class=\"archive post-type-archive post-type-archive-review_airline js-legacy-header\">\\n\\n\\n<!--\\n<div class=\"off-canvas-wrap\" data-offcanvas>\\n    <div class=\"inner-wrap\">\\n-->\\n        <div id=\"container\">\\n            <header class=\"header header--legacy\" role=\"banner\">\\n                <div id=\"inner-header\">\\n                    <div id=\"mainMenu\"  class=\"top\">\\n                        <div class=\"brand-logo\">\\n                            <a href=\"https://www.airlinequality.com\" rel=\"nofollow\">\\n\\t                            <img src=\"https://www.airlinequality.com/wp-content/themes/airlinequality2014new/library/images/skytrax.svg\" onerror=\"this.src=\\'https://www.airlinequality.com/wp-content/themes/airlinequality2014new/library/images/skytrax.png\\'\" alt=\"SKYTRAX\" />\\n                            </a>\\n                            <small>\\n                                Air Travel Ratings &amp; Reviews | Airline Rating and Reviews | Airport Rating and Reviews | Seat Reviews                            </small>\\n                        </div>\\n                        <div class=\"menu-container\">\\n\\t                        \\r\\n\\t<div class=\"gcs-input nav-search\">\\r\\n\\r\\n\\t\\t<div class=\"gcs-input\">\\r\\n\\t\\t\\t\\t\\t\\t<form class=\"custom_search_form custom_search_form_header\" action=\"/search \">\\r\\n\\t\\t\\t\\t<input type=\"text\" class=\"custom_search_form_input\" name=\"search\" title=\"search\" id=\"\" dir=\"ltr\" spellcheck=\"false\" placeholder=\"\" value=\"\">\\r\\n\\t\\t\\t\\t<input type=\"submit\" value=\"Search\" class=\"custom_search_form_button desktop-search-button\" title=\"search\">\\r\\n\\t\\t\\t\\t<button class=\"button button-hero submit-search uppercase display text-heavy mobile-search-button\" aria-label=\"Submit Search\">\\r\\n\\t\\t\\t\\t\\t<svg class=\"button-icon\">\\r\\n\\t\\t\\t\\t\\t\\t<use xlink:href=\"#search\" />\\r\\n\\t\\t\\t\\t\\t</svg>\\r\\n\\t\\t\\t\\t</button>\\r\\n\\t\\t\\t</form>\\r\\n\\t\\t</div>\\r\\n\\t</div>\\r\\n\\t                        <nav class=\"nav-user\">\\n\\n\\t<ul class=\"sub-nav\">\\n\\t\\t\\t\\t\\t<li><a href=\"https://www.airlinequality.com/sign-in\">Log In</a></li>\\n\\t\\t\\t<li><a href=\"https://www.airlinequality.com/reviewer/reviewer-signup\">Join</a></li>\\n\\t\\t\\t</ul>\\n</nav>\\n                        </div>\\n                    </div>\\n                    <a class=\"menu-toggle\" href=\"#mainMenu\"><span>Menu</span></a>\\n                    \\n                    <div class=\"bottom\">\\n                        <!-- Darren changed 2016-12-07 -->\\n                        <div class=\"nav-main-outer\">\\n                            <div class=\"nav-main\">\\n                                <nav class=\"top-bar\" data-topbar data-options=\"is_hover: true\">\\r\\n    <section class=\"top-bar-section  nav__main\">\\r\\n        <div class=\"top-bar top-bar-section\">\\r\\n            <ul id=\"menu-primary-site-navigation\" class=\"menu-class\">\\n<li class=\\'airline-reviews  has-dropdown not-click\\'><a href=\\'#\\' target=\\'\\'>Airline Reviews</a>\\n<div class=\"dropdown\">\\n       <div class=\"nav-links\">\\n         <ul class=\"nav-links__list\">\\n\\t<li class=\\'airline-reviews  navSectionTitle not-click\\'><a href=\\'#\\' target=\\'\\'>Airline Reviews</a>\\n\\t\\n\\t</li>\\n\\t<li class=\\'latest-airline-reviews  not-click\\'><a href=\\'https://www.airlinequality.com/review-pages/latest-airline-reviews/\\' target=\\'\\'>Latest Airline Reviews</a>\\n\\t\\n\\t</li>\\n\\t<li class=\\'a-z-airline-reviews  not-click\\'><a href=\\'https://www.airlinequality.com/review-pages/a-z-airline-reviews/\\' target=\\'\\'>A-Z Airline Reviews</a>\\n\\t\\n\\t</li>\\n\\t<li class=\\'airline-review-scores  not-click\\'><a href=\\'https://www.airlinequality.com/review-pages/a-z-airline-reviews/airline-review-ratings/\\' target=\\'\\'>Airline Review Scores</a>\\n\\t\\n\\t</li>\\n\\t<li class=\\'a-z-airline-photos  not-click\\'><a href=\\'https://www.airlinequality.com/review-pages/a-z-airline-photos/\\' target=\\'\\'>A-Z Airline Photos</a>\\n\\t\\n\\t</li>\\n\\t<li class=\\'airline-lounges  navSectionTitle not-click\\'><a href=\\'#\\' target=\\'\\'>Airline Lounges</a>\\n\\t\\n\\t</li>\\n\\t<li class=\\'latest-lounge-reviews  not-click\\'><a href=\\'https://www.airlinequality.com/review-pages/latest-lounge-reviews/\\' target=\\'\\'>Latest Lounge Reviews</a>\\n\\t\\n\\t</li>\\n\\t<li class=\\'a-z-airline-lounge-reviews  not-click\\'><a href=\\'https://www.airlinequality.com/review-pages/a-z-lounge-reviews/\\' target=\\'\\'>A-Z Airline Lounge Reviews</a>\\n\\t\\n\\t</li>\\n\\t<li class=\\'lounge-photo-galleries  not-click\\'><a href=\\'https://www.airlinequality.com/info/lounge-photo-galleries/\\' target=\\'\\'>Lounge Photo Galleries</a>\\n\\t\\n\\t</li>\\n\\t<li class=\\'airline-lounge-scores  not-click\\'><a href=\\'https://www.airlinequality.com/review-pages/a-z-lounge-reviews/airline-lounge-review-ratings/\\' target=\\'\\'>Airline Lounge Scores</a>\\n\\t\\n\\t</li>\\n\\t<li class=\\'a-z-lounge-photos  not-click\\'><a href=\\'https://www.airlinequality.com/review-pages/a-z-lounge-photos/\\' target=\\'\\'>A-Z Lounge Photos</a>\\n\\t\\n\\t</li>\\n\\t</ul>\\n\\t<ul  class=\\'nav-links__list\\'>\\n\\t<li class=\\'seperator\\'>\\n\\t</li>\\n\\t<li class=\\'airline-seats  navSectionTitle not-click\\'><a href=\\'#\\' target=\\'\\'>Airline Seats</a>\\n\\t\\n\\t</li>\\n\\t<li class=\\'latest-seat-reviews  not-click\\'><a href=\\'https://www.airlinequality.com/review-pages/latest-seat-reviews/\\' target=\\'\\'>Latest Seat Reviews</a>\\n\\t\\n\\t</li>\\n\\t<li class=\\'a-z-airline-seat-reviews  not-click\\'><a href=\\'https://www.airlinequality.com/review-pages/a-z-seat-reviews/\\' target=\\'\\'>A-Z Airline Seat Reviews</a>\\n\\t\\n\\t</li>\\n\\t<li class=\\'airline-seat-scores  not-click\\'><a href=\\'https://www.airlinequality.com/review-pages/a-z-seat-reviews/airline-seat-review-ratings/\\' target=\\'\\'>Airline Seat Scores</a>\\n\\t\\n\\t</li>\\n\\t<li class=\\'a-z-seat-photos  not-click\\'><a href=\\'https://www.airlinequality.com/review-pages/a-z-seat-photos/\\' target=\\'\\'>A-Z Seat Photos</a>\\n\\t\\n\\t</li></ul>\\n</div>\\n</div>\\n</li>\\n<li class=\\'airport-reviews  has-dropdown not-click\\'><a href=\\'#\\' target=\\'\\'>Airport Reviews</a>\\n<div class=\"dropdown\">\\n       <div class=\"nav-links\">\\n         <ul class=\"nav-links__list\">\\n\\t<li class=\\'airport-reviews  navSectionTitle not-click\\'><a href=\\'#\\' target=\\'\\'>Airport Reviews</a>\\n\\t\\n\\t</li>\\n\\t<li class=\\'latest-airport-reviews  not-click\\'><a href=\\'https://www.airlinequality.com/review-pages/latest-airport-reviews/\\' target=\\'\\'>Latest Airport Reviews</a>\\n\\t\\n\\t</li>\\n\\t<li class=\\'a-z-airport-reviews  not-click\\'><a href=\\'https://www.airlinequality.com/review-pages/a-z-airport-reviews/\\' target=\\'\\'>A-Z Airport Reviews</a>\\n\\t\\n\\t</li>\\n\\t<li class=\\'airport-review-scores  not-click\\'><a href=\\'https://www.airlinequality.com/review-pages/a-z-airport-reviews/airport-review-ratings/\\' target=\\'\\'>Airport Review Scores</a>\\n\\t\\n\\t</li>\\n\\t<li class=\\'a-z-airport-photos  not-click\\'><a href=\\'https://www.airlinequality.com/review-pages/a-z-airport-photos/\\' target=\\'\\'>A-Z Airport Photos</a>\\n\\t\\n\\t</li></ul>\\n</div>\\n</div>\\n</li>\\n<li class=\\'write-a-review  not-click\\'><a href=\\'https://www.airlinequality.com/write-a-review/\\' target=\\'\\'>Write A Review</a>\\n\\n</li>\\n<li class=\\'airport-airline-rating  has-dropdown not-click\\'><a href=\\'#\\' target=\\'\\'>Airport &amp; Airline Rating</a>\\n<div class=\"dropdown\">\\n       <div class=\"nav-links\">\\n         <ul class=\"nav-links__list\">\\n\\t<li class=\\'airline-rating  navSectionTitle not-click\\'><a href=\\'#\\' target=\\'\\'>Airline Rating</a>\\n\\t\\n\\t</li>\\n\\t<li class=\\'a-z-airline-ratings  not-click\\'><a href=\\'https://skytraxratings.com/a-z-of-airline-ratings\\' target=\\'_blank\\'>A-Z Airline Ratings</a>\\n\\t\\n\\t</li>\\n\\t<li class=\\'5-star-airlines  not-click\\'><a href=\\'https://skytraxratings.com/worlds-5-star-airlines\\' target=\\'_blank\\'>5-Star Airlines</a>\\n\\t\\n\\t</li>\\n\\t</ul>\\n\\t<ul  class=\\'nav-links__list\\'>\\n\\t<li class=\\'seperator\\'>\\n\\t</li>\\n\\t<li class=\\'airport-rating  navSectionTitle not-click\\'><a href=\\'#\\' target=\\'\\'>Airport Rating</a>\\n\\t\\n\\t</li>\\n\\t<li class=\\'a-z-airport-ratings  not-click\\'><a href=\\'https://skytraxratings.com/a-z-of-airport-ratings\\' target=\\'_blank\\'>A-Z Airport Ratings</a>\\n\\t\\n\\t</li>\\n\\t<li class=\\'5-star-airports  not-click\\'><a href=\\'https://skytraxratings.com/airports?stars=5\\' target=\\'_blank\\'>5-Star Airports</a>\\n\\t\\n\\t</li></ul>\\n</div>\\n</div>\\n</li>\\n<li class=\\'skytrax-awards  has-dropdown not-click\\'><a href=\\'#\\' target=\\'\\'>Skytrax Awards</a>\\n<div class=\"dropdown\">\\n       <div class=\"nav-links\">\\n         <ul class=\"nav-links__list\">\\n\\t<li class=\\'airline-awards  navSectionTitle not-click\\'><a href=\\'#\\' target=\\'\\'>Airline Awards</a>\\n\\t\\n\\t</li>\\n\\t<li class=\\'worlds-best-airline  not-click\\'><a href=\\'https://www.worldairlineawards.com/worlds-top-10-airlines-2023/\\' target=\\'_blank\\'>World&#039;s Best Airline</a>\\n\\t\\n\\t</li>\\n\\t<li class=\\'worlds-top-100-airlines  not-click\\'><a href=\\'https://www.worldairlineawards.com/worlds-top-100-airlines-2023/\\' target=\\'_blank\\'>World&#039;s Top 100 Airlines</a>\\n\\t\\n\\t</li>\\n\\t<li class=\\'about-the-awards  not-click\\'><a href=\\'https://www.worldairlineawards.com/about-us/\\' target=\\'_blank\\'>About the Awards</a>\\n\\t\\n\\t</li>\\n\\t</ul>\\n\\t<ul  class=\\'nav-links__list\\'>\\n\\t<li class=\\'seperator\\'>\\n\\t</li>\\n\\t<li class=\\'airport-awards  navSectionTitle not-click\\'><a href=\\'#\\' target=\\'\\'>Airport Awards</a>\\n\\t\\n\\t</li>\\n\\t<li class=\\'worlds-best-airport  not-click\\'><a href=\\'https://www.worldairportawards.com/the-worlds-top-10-airports-of-2023/\\' target=\\'_blank\\'>World&#039;s Best Airport</a>\\n\\t\\n\\t</li>\\n\\t<li class=\\'worlds-top-100-airports  not-click\\'><a href=\\'https://www.worldairportawards.com/worlds-top-100-airports-2023/\\' target=\\'_blank\\'>World&#039;s Top 100 Airports</a>\\n\\t\\n\\t</li>\\n\\t<li class=\\'about-the-awards  not-click\\'><a href=\\'https://www.worldairportawards.com/about-us/\\' target=\\'_blank\\'>About the Awards</a>\\n\\t\\n\\t</li></ul>\\n</div>\\n</div>\\n</li>\\n<li class=\\'information  has-dropdown not-click\\'><a href=\\'#\\' target=\\'\\'>Information</a>\\n<div class=\"dropdown\">\\n       <div class=\"nav-links\">\\n         <ul class=\"nav-links__list\">\\n\\t<li class=\\'information  navSectionTitle not-click\\'><a href=\\'#\\' target=\\'\\'>Information</a>\\n\\t\\n\\t</li>\\n\\t<li class=\\'about-us  not-click\\'><a href=\\'https://www.airlinequality.com/about-us/\\' target=\\'\\'>About Us</a>\\n\\t\\n\\t</li>\\n\\t<li class=\\'site-map  not-click\\'><a href=\\'https://www.airlinequality.com/site-map/\\' target=\\'\\'>Site Map</a>\\n\\t\\n\\t</li>\\n\\t</ul>\\n\\t<ul  class=\\'nav-links__list\\'>\\n\\t<li class=\\'seperator\\'>\\n\\t</li>\\n\\t<li class=\\'help-support  navSectionTitle not-click\\'><a href=\\'#\\' target=\\'\\'>Help &amp; Support</a>\\n\\t\\n\\t</li>\\n\\t<li class=\\'contact-us  not-click\\'><a href=\\'https://www.airlinequality.com/contact-us/\\' target=\\'\\'>Contact Us</a>\\n\\t\\n\\t</li>\\n\\t<li class=\\'faqs  not-click\\'><a href=\\'https://www.airlinequality.com/info/support/\\' target=\\'\\'>FAQs</a>\\n\\t\\n\\t</li>\\n\\t<li class=\\'register-as-a-member  not-click\\'><a href=\\'https://www.airlinequality.com/info/reviewer-signup/\\' target=\\'\\'>Register as a Member</a>\\n\\t\\n\\t</li>\\n\\t<li class=\\'editorial-policy  not-click\\'><a href=\\'https://www.airlinequality.com/info/editorial-policy/\\' target=\\'\\'>Editorial Policy</a>\\n\\t\\n\\t</li>\\n\\t<li class=\\'respond-to-reviews  not-click\\'><a href=\\'https://www.airlinequality.com/info/skychat/\\' target=\\'\\'>Respond to Reviews</a>\\n\\t\\n\\t</li></ul>\\n</div>\\n</div>\\n</li></ul>        </div>\\r\\n    </section>\\r\\n</nav>\\r\\n                            </div>\\n                        </div>\\n                        \\n                                    <div class=\\'ds-search-outer\\'>\\n                                        <div class=\\'ds-search\\'>\\r\\n\\t<div class=\"gcs-input nav-search\">\\r\\n\\r\\n\\t\\t<div class=\"gcs-input\">\\r\\n\\t\\t\\t\\t\\t\\t<form class=\"custom_search_form custom_search_form_header\" action=\"/search \">\\r\\n\\t\\t\\t\\t<input type=\"text\" class=\"custom_search_form_input\" name=\"search\" title=\"search\" id=\"\" dir=\"ltr\" spellcheck=\"false\" placeholder=\"\" value=\"\">\\r\\n\\t\\t\\t\\t<input type=\"submit\" value=\"Search\" class=\"custom_search_form_button desktop-search-button\" title=\"search\">\\r\\n\\t\\t\\t\\t<button class=\"button button-hero submit-search uppercase display text-heavy mobile-search-button\" aria-label=\"Submit Search\">\\r\\n\\t\\t\\t\\t\\t<svg class=\"button-icon\">\\r\\n\\t\\t\\t\\t\\t\\t<use xlink:href=\"#search\" />\\r\\n\\t\\t\\t\\t\\t</svg>\\r\\n\\t\\t\\t\\t</button>\\r\\n\\t\\t\\t</form>\\r\\n\\t\\t</div>\\r\\n\\t</div>\\r\\n\\n                                        </div>\\n                                    </div>\\n                                                            <!-- Darren changed 2016-12-07 -->\\n                    </div>\\n                </div>\\n                \\n                <div class=\"dummyheader\">\\n                    <div class=\"top\">\\n                        <div class=\"brand-logo\">\\n                            <a href=\"https://www.airlinequality.com\" rel=\"nofollow\">\\n\\t                            <img src=\"https://www.airlinequality.com/wp-content/themes/airlinequality2014new/library/images/skytrax.svg\" onerror=\"this.src=\\'https://www.airlinequality.com/wp-content/themes/airlinequality2014new/library/images/skytrax.png\\'\" alt=\"SKYTRAX\" />\\n                            </a>\\n                        </div>\\n                    </div>\\n                    <a class=\"menu-toggle\" href=\"#mainMenu\"><span>Menu</span></a>\\n                </div>\\n            </header>\\n\\t<div id=\"content\" itemscope itemtype=\"http://schema.org/Airline\">\\n\\t\\t<div id=\"inner-content\" class=\"clearfix\">\\n\\t\\t\\t<div id=\"main\" role=\"main\">\\n\\t\\t\\t\\t<section class=\"layout-section layout-1 \">\\n\\t\\t\\t\\t\\t<div class=\\'col-content\\'>\\n\\t\\t\\t\\t\\t\\t<section class=\"comp_review-header\">\\n\\t\\t\\t\\t\\t\\t\\t<div class=\"review-ad\">\\n\\t\\t\\t\\t\\t\\t\\t\\t\\t\\t\\t\\t\\t\\t\\t\\t        <div class=\"aq-ad\">\\n\\t        <script async src=\"//pagead2.googlesyndication.com/pagead/js/adsbygoogle.js\"></script>\\n\\t\\t\\t<ins class=\"adsbygoogle\"\\n\\t\\t\\t     style=\"display:block;\"\\n\\t\\t\\t     data-ad-client=\"ca-pub-7401091822721150\"\\n\\t\\t\\t     data-ad-slot=\"8663246558\"\\n\\t\\t\\t     data-ad-format=\"auto\"></ins>\\n\\t\\t\\t<script>\\n\\t\\t\\t(adsbygoogle = window.adsbygoogle || []).push({});\\n\\t\\t\\t</script>\\n        </div>\\n                                        &nbsp;\\n\\t\\t\\t\\t\\t\\t\\t\\t\\t\\t\\t\\t\\t\\t\\t</div>\\n\\t\\t\\t\\t\\t\\t\\t<div class=\"review-info\">\\n\\t\\t\\t\\t\\t\\t\\t\\t<div class=\"review-heading\">\\n\\t\\t\\t\\t\\t\\t\\t\\t\\t<div class=\"info\">\\n\\t\\t\\t\\t\\t\\t\\t\\t\\t\\t<div class=\"logo\">\\n                                            <img width=\"150\" height=\"33\" src=\"https://www.airlinequality.com/wp-content/uploads/2015/04/QANTAS_1000-150x33.png\" class=\"attachment-rating_long size-rating_long\" alt=\"\" decoding=\"async\" srcset=\"https://www.airlinequality.com/wp-content/uploads/2015/04/QANTAS_1000-150x33.png 150w, https://www.airlinequality.com/wp-content/uploads/2015/04/QANTAS_1000-300x65.png 300w, https://www.airlinequality.com/wp-content/uploads/2015/04/QANTAS_1000-120x26.png 120w, https://www.airlinequality.com/wp-content/uploads/2015/04/QANTAS_1000-600x130.png 600w, https://www.airlinequality.com/wp-content/uploads/2015/04/QANTAS_1000-960x217.png 960w, https://www.airlinequality.com/wp-content/uploads/2015/04/QANTAS_1000.png 1000w\" sizes=\"(max-width: 150px) 100vw, 150px\" />\\t\\t\\t\\t\\t\\t\\t\\t\\t\\t</div>\\n\\t\\t\\t\\t\\t\\t\\t\\t\\t\\t<h1 itemprop=\"name\">\\n\\t\\t\\t\\t\\t\\t\\t\\t\\t\\t\\tQantas Airways\\t\\t\\t\\t\\t\\t\\t\\t\\t\\t</h1>\\n\\t\\t\\t\\t\\t\\t\\t\\t\\t\\t<h2>Customer Reviews</h2>\\n\\n\\t\\t\\t\\t\\t\\t\\t\\t\\t\\t\\t\\t\\t\\t\\t\\t\\t\\t\\t\\t\\n\\t\\t\\t\\t\\t\\t\\t\\t\\t</div>\\n\\n\\t\\t\\t\\t\\t\\t\\t\\t\\t<div class=\"rating\">\\n\\t\\t\\t\\t\\t\\t\\t\\t\\t\\t\\t\\t\\t\\t\\t\\t\\t\\t\\t\\t<img srcset=\"https://www.airlinequality.com/wp-content/themes/airlinequality2014new/library/images/skytrax-rating-airline-4.png 1x, https://www.airlinequality.com/wp-content/themes/airlinequality2014new/library/images/skytrax-rating-airline-4x2.png 2x\" class=\"skytrax-rating\" alt=\"4 star Skytrax Rating\" />\\n\\t\\t\\t\\t\\t\\t\\t\\t\\t</div>\\n\\t\\t\\t\\t\\t\\t\\t\\t</div>\\n\\t\\t\\t\\t\\t\\t\\t\\t<div class=\"customer-rating\">\\n\\t\\t\\t\\t\\t\\t\\t\\t\\t<div class=\"ratings\">\\n\\t\\t\\t\\t\\t\\t\\t\\t\\t\\t<table class=\"review-ratings\">\\n\\t\\t\\t\\t\\t\\t\\t\\t\\t\\t\\t\\t\\t\\t\\t\\t\\t\\t\\t\\t\\t\\t<tr>\\n\\t\\t\\t\\t\\t\\t\\t\\t\\t\\t\\t\\t<td class=\"review-rating-header food-beverages\">Food &amp; Beverages</td>\\n\\t\\t\\t\\t\\t\\t\\t\\t\\t\\t\\t\\t<td class=\"review-rating-stars stars\">\\n\\t\\t\\t\\t\\t\\t\\t\\t\\t\\t\\t\\t\\t<span class=\"star fill\">1</span><span class=\"star fill\">2</span><span class=\"star fill\">3</span><span class=\"star\">4</span><span class=\"star\">5</span>\\t\\t\\t\\t\\t\\t\\t\\t\\t\\t\\t\\t</td>\\n\\t\\t\\t\\t\\t\\t\\t\\t\\t\\t\\t</tr>\\n\\t\\t\\t\\t\\t\\t\\t\\t\\t\\t\\t\\t\\t\\t\\t\\t\\t\\t\\t\\t\\t\\t<tr>\\n\\t\\t\\t\\t\\t\\t\\t\\t\\t\\t\\t\\t<td class=\"review-rating-header inflight-entertainment\">Inflight Entertainment</td>\\n\\t\\t\\t\\t\\t\\t\\t\\t\\t\\t\\t\\t<td class=\"review-rating-stars stars\">\\n\\t\\t\\t\\t\\t\\t\\t\\t\\t\\t\\t\\t\\t<span class=\"star fill\">1</span><span class=\"star fill\">2</span><span class=\"star fill\">3</span><span class=\"star\">4</span><span class=\"star\">5</span>\\t\\t\\t\\t\\t\\t\\t\\t\\t\\t\\t\\t</td>\\n\\t\\t\\t\\t\\t\\t\\t\\t\\t\\t\\t</tr>\\n\\t\\t\\t\\t\\t\\t\\t\\t\\t\\t\\t\\t\\t\\t\\t\\t\\t\\t\\t\\t\\t\\t<tr>\\n\\t\\t\\t\\t\\t\\t\\t\\t\\t\\t\\t\\t<td class=\"review-rating-header seat-comfort\">Seat Comfort</td>\\n\\t\\t\\t\\t\\t\\t\\t\\t\\t\\t\\t\\t<td class=\"review-rating-stars stars\">\\n\\t\\t\\t\\t\\t\\t\\t\\t\\t\\t\\t\\t\\t<span class=\"star fill\">1</span><span class=\"star fill\">2</span><span class=\"star fill\">3</span><span class=\"star\">4</span><span class=\"star\">5</span>\\t\\t\\t\\t\\t\\t\\t\\t\\t\\t\\t\\t</td>\\n\\t\\t\\t\\t\\t\\t\\t\\t\\t\\t\\t</tr>\\n\\t\\t\\t\\t\\t\\t\\t\\t\\t\\t\\t\\t\\t\\t\\t\\t\\t\\t\\t\\t\\t\\t<tr>\\n\\t\\t\\t\\t\\t\\t\\t\\t\\t\\t\\t\\t<td class=\"review-rating-header staff-service\">Staff Service</td>\\n\\t\\t\\t\\t\\t\\t\\t\\t\\t\\t\\t\\t<td class=\"review-rating-stars stars\">\\n\\t\\t\\t\\t\\t\\t\\t\\t\\t\\t\\t\\t\\t<span class=\"star fill\">1</span><span class=\"star fill\">2</span><span class=\"star fill\">3</span><span class=\"star fill\">4</span><span class=\"star\">5</span>\\t\\t\\t\\t\\t\\t\\t\\t\\t\\t\\t\\t</td>\\n\\t\\t\\t\\t\\t\\t\\t\\t\\t\\t\\t</tr>\\n\\t\\t\\t\\t\\t\\t\\t\\t\\t\\t\\t\\t\\t\\t\\t\\t\\t\\t\\t\\t\\t\\t<tr>\\n\\t\\t\\t\\t\\t\\t\\t\\t\\t\\t\\t\\t<td class=\"review-rating-header value-for-money\">Value for Money</td>\\n\\t\\t\\t\\t\\t\\t\\t\\t\\t\\t\\t\\t<td class=\"review-rating-stars stars\">\\n\\t\\t\\t\\t\\t\\t\\t\\t\\t\\t\\t\\t\\t<span class=\"star fill\">1</span><span class=\"star fill\">2</span><span class=\"star fill\">3</span><span class=\"star\">4</span><span class=\"star\">5</span>\\t\\t\\t\\t\\t\\t\\t\\t\\t\\t\\t\\t</td>\\n\\t\\t\\t\\t\\t\\t\\t\\t\\t\\t\\t</tr>\\n\\t\\t\\t\\t\\t\\t\\t\\t\\t\\t\\t\\t\\t\\t\\t\\t\\t\\t\\t\\t\\t</table>\\n\\t\\t\\t\\t\\t\\t\\t\\t\\t</div>\\n\\t\\t\\t\\t\\t\\t\\t\\t\\t<div class=\"rating-totals\" itemprop=\"aggregateRating\" itemscope itemtype=\"http://schema.org/AggregateRating\">\\n\\t\\t\\t\\t\\t\\t\\t\\t\\t\\t<div class=\"review-count\">Customer rating from <span itemprop=\"reviewCount\">\\n\\t\\t\\t\\t\\t\\t\\t\\t\\t\\t\\t1910\\t\\t\\t\\t\\t\\t\\t\\t\\t\\t\\t</span>\\n\\t\\t\\t\\t\\t\\t\\t\\t\\t\\t\\treviews\\n\\t\\t\\t\\t\\t\\t\\t\\t\\t\\t</div>\\n\\t\\t\\t\\t\\t\\t\\t\\t\\t\\t<div class=\"customer-rating-total\">\\n\\t\\t\\t\\t\\t\\t\\t\\t\\t\\t\\t<div class=\"rating-10 rating-large\">\\n\\t\\t\\t\\t\\t\\t\\t\\t\\t\\t\\n\\t\\t\\t\\t\\t\\t\\t\\t\\t\\t\\t\\t<span itemprop=\"ratingValue\">\\n\\t\\t\\t\\t\\t\\t\\t\\t\\t\\t\\t\\t\\t6</span>/<span itemprop=\"bestRating\">10</span>\\t\\t\\t\\t\\t\\t\\t\\t\\t\\t\\t</div>\\n\\t\\t\\t\\t\\t\\t\\t\\t\\t\\t</div>\\n\\t\\t\\t\\t\\t\\t\\t\\t\\t\\t<div class=\"skytrax-rating-mob\">\\n\\t\\t\\t\\t\\t\\t\\t\\t\\t\\t\\t\\t\\t\\t\\t\\t\\t\\t\\t\\t\\t\\t<img src=\"https://www.airlinequality.com/wp-content/themes/airlinequality2014new/library/images/skytrax-rating-airline-4.png\" class=\"skytrax-rating\" alt=\"4 star Skytrax Rating\" />\\n\\t\\t\\t\\t\\t\\t\\t\\t\\t\\t</div>\\n\\t\\t\\t\\t\\t\\t\\t\\t\\t</div>\\n\\t\\t\\t\\t\\t\\t\\t\\t</div>\\n\\t\\t\\t\\t\\t\\t\\t</div>\\n\\t\\t\\t\\t\\t\\t</section>\\n\\n                        \\t        <div class=\"aq-ad\">\\n\\t        <script async src=\"//pagead2.googlesyndication.com/pagead/js/adsbygoogle.js\"></script>\\n\\t\\t\\t<ins class=\"adsbygoogle\"\\n\\t\\t\\t     style=\"display:block;\"\\n\\t\\t\\t     data-ad-client=\"ca-pub-7401091822721150\"\\n\\t\\t\\t     data-ad-slot=\"9526159642\"\\n\\t\\t\\t     data-ad-format=\"auto\"></ins>\\n\\t\\t\\t<script>\\n\\t\\t\\t(adsbygoogle = window.adsbygoogle || []).push({});\\n\\t\\t\\t</script>\\n        </div>\\n    \\t\\t\\t\\t\\t</div>\\n\\t\\t\\t\\t</section>\\n\\n\\t\\t\\t\\t\\r\\n    <section class=\"layout-section layout-1 closer-bottom full-width-bg\">\\r\\n        <div class=\\'col-content\\'>\\r\\n            <section class=\"comp comp__review-tabs\">\\r\\n                <nav class=\"write-a-review\">\\r\\n                    <a href=\"/write-a-review?type=airline&e=qantas-airways\">Write\\r\\n                        a Review</a>\\r\\n                </nav>\\r\\n                <ul class=\"tabs\">\\r\\n                                            <li class=\"tab-title airline active\">\\r\\n                            <a href=\"/airline-reviews/qantas-airways\">Airline</a>\\r\\n                        </li>\\r\\n\\r\\n                                                    <li class=\"tab-title seat \">\\r\\n                                <a href=\"/seat-reviews/qantas-airways\">Seat</a>\\r\\n                            </li>\\r\\n                                                    <li class=\"tab-title lounge \">\\r\\n                                <a href=\"/lounge-reviews/qantas-airways\">Lounge</a>\\r\\n                            </li>\\r\\n\\r\\n                                                        </ul>\\r\\n            </section>\\r\\n        </div>\\r\\n    </section>\\r\\n\\n\\t\\t\\t\\t<section class=\"layout-section layout-2 closer-top\">\\n\\t\\t\\t\\t\\t<div class=\\'col-content\\'>\\n\\t\\t\\t\\t\\t\\t<article class=\"comp comp_reviews-airline querylist position-content  \">\\n\\t\\t\\t\\t\\t\\t\\t<div class=\"pagination-controls\">\\n\\t\\t\\t\\t\\t\\t\\t\\t\\t\\t\\t\\t\\t\\t\\t\\t\\t\\t\\t\\t\\t\\t\\t\\t<div class=\"pagination-filter\">\\n\\t\\t\\t\\t\\t\\t\\t\\t\\t    <form method=\"get\">\\r\\n        <span class=\"pagination-label\">Filter Reviews by : </span>\\r\\n        <input type=\"hidden\" name=\"pagesize\" value=\"10\" />\\r\\n                    <select class=\"page-filter-selector\" name=\"filterby\" data-onchange-submit>\\r\\n                <option value=\"\" selected>Latest reviews</option>\\r\\n                <option value=\"cabin:first\" >First Class</option>\\r\\n                <option value=\"cabin:business\" >Business Class</option>\\r\\n                <option value=\"cabin:p_economy\" >Premium Economy</option>\\r\\n                <option value=\"cabin:economy\" >Economy Class</option>\\r\\n            </select>\\r\\n            </form>\\r\\n\\t\\t\\t\\t\\t\\t\\t\\t</div>\\n\\t\\t\\t\\t\\t\\t\\t\\t\\t\\t\\t\\t\\t\\t\\t\\t<div class=\"pagination-size\">\\n\\t\\t\\t\\t\\t\\t\\t\\t\\t<form method=\"get\">\\n\\t\\t\\t\\t\\t\\t\\t\\t\\t\\t<span class=\"pagination-label\">Show</span>\\n\\t\\t\\t\\t\\t\\t\\t\\t\\t\\t<input type=\"hidden\" name=\"sortby\" value=\"post_date:Desc\"/>\\n\\t\\t\\t\\t\\t\\t\\t\\t\\t\\t<ul class=\"page-size-selector\">\\n\\t\\t\\t\\t\\t\\t\\t\\t\\t\\t\\t<li>\\n\\t\\t\\t\\t\\t\\t\\t\\t\\t\\t\\t\\t<input id=\"10\" name=\"pagesize\" data-onchange-submit type=\"radio\" value=\"10\" checked/>\\n\\t\\t\\t\\t\\t\\t\\t\\t\\t\\t\\t\\t<label for=\"10\">10</label>\\n\\t\\t\\t\\t\\t\\t\\t\\t\\t\\t\\t</li>\\n\\t\\t\\t\\t\\t\\t\\t\\t\\t\\t\\t<li>\\n\\t\\t\\t\\t\\t\\t\\t\\t\\t\\t\\t\\t<input id=\"20\" name=\"pagesize\" data-onchange-submit type=\"radio\" value=\"20\" />\\n\\t\\t\\t\\t\\t\\t\\t\\t\\t\\t\\t\\t<label for=\"20\">20</label>\\n\\t\\t\\t\\t\\t\\t\\t\\t\\t\\t\\t</li>\\n\\t\\t\\t\\t\\t\\t\\t\\t\\t\\t\\t<li>\\n\\t\\t\\t\\t\\t\\t\\t\\t\\t\\t\\t\\t<input id=\"50\" name=\"pagesize\" data-onchange-submit type=\"radio\" value=\"50\" />\\n\\t\\t\\t\\t\\t\\t\\t\\t\\t\\t\\t\\t<label for=\"50\">50</label>\\n\\t\\t\\t\\t\\t\\t\\t\\t\\t\\t\\t</li>\\n\\t\\t\\t\\t\\t\\t\\t\\t\\t\\t\\t<li>\\n\\t\\t\\t\\t\\t\\t\\t\\t\\t\\t\\t\\t<input id=\"100\" name=\"pagesize\" data-onchange-submit type=\"radio\" value=\"100\" />\\n\\t\\t\\t\\t\\t\\t\\t\\t\\t\\t\\t\\t<label for=\"100\">100</label>\\n\\t\\t\\t\\t\\t\\t\\t\\t\\t\\t\\t</li>\\n\\t\\t\\t\\t\\t\\t\\t\\t\\t\\t</ul>\\n\\t\\t\\t\\t\\t\\t\\t\\t\\t</form>\\n\\t\\t\\t\\t\\t\\t\\t\\t</div>\\n\\t\\t\\t\\t\\t\\t\\t</div>\\n\\n\\t\\t\\t\\t\\t\\t\\t<article itemprop=\"review\" itemscope itemtype=\"http://schema.org/Review\" class=\"comp comp_media-review-rated list-item media position-content review-900774\">\\r\\n                    <meta itemprop=\"datePublished\" content=\"2024-07-03\">\\r\\n                    <div itemprop=\"reviewRating\" itemscope itemtype=\"http://schema.org/Rating\" class=\"rating-10\">\\r\\n                        <span itemprop=\"ratingValue\">4</span>/<span itemprop=\"bestRating\">10</span>\\r\\n                    </div>\\r\\n                <div class=\"body\" id=\"anchor900774\">\\r\\n                    <h2 class=\"text_header\">\"Significant delays\"</h2>\\r\\n                    <h3 class=\"text_sub_header userStatusWrapper\">\\r\\n                        <span itemprop=\"author\" itemscope itemtype=\"http://schema.org/Person\">\\r\\n                        \\r\\n                        <span itemprop=\"name\">C Meade</span></span> (Australia) <time itemprop=\"datePublished\" datetime=\"2024-07-03\">3rd July 2024</time></h3>\\r\\n                    <div class=\"tc_mobile\">\\r\\n                    <div class=\"text_content \" itemprop=\"reviewBody\">&#9989; <strong><a href=\"https://www.airlinequality.com/verified-reviews/\"><em>Trip Verified</em></a></strong> |  Significant delays with first announcement made after boarding was meant to commence. Departure time pushed back in 30 min intervals over and over again. Staff not giving clear reason for delays at the time. Had to approach staff to get meal voucher compensation as they didn’t want to apply policy automatically.</div>\\r\\n                    <div class=\"review-stats\">\\r\\n                        <table class=\"review-ratings\">\\r\\n                            <tr><td class=\"review-rating-header aircraft \">Aircraft</td><td class=\"review-value \">Boeing 737-800</td></tr>\\r\\n                            <tr><td class=\"review-rating-header type_of_traveller \">Type Of Traveller</td><td class=\"review-value \">Business</td></tr>\\r\\n                            <tr><td class=\"review-rating-header cabin_flown \">Seat Type</td><td class=\"review-value \">Economy Class</td></tr>\\r\\n                            <tr><td class=\"review-rating-header route \">Route</td><td class=\"review-value \">Adelaide to Sydney</td></tr>\\r\\n                            <tr><td class=\"review-rating-header date_flown \">Date Flown</td><td class=\"review-value \">June 2024</td></tr>\\r\\n                            <tr>\\r\\n                                <td class=\"review-rating-header seat_comfort\">Seat Comfort</td>\\r\\n                                <td class=\"review-rating-stars stars\"><span class=\"star fill\">1</span><span class=\"star fill\">2</span><span class=\"star fill\">3</span><span class=\"star\">4</span><span class=\"star\">5</span></td>\\r\\n                            </tr>\\r\\n                            <tr>\\r\\n                                <td class=\"review-rating-header cabin_staff_service\">Cabin Staff Service</td>\\r\\n                                <td class=\"review-rating-stars stars\"><span class=\"star fill\">1</span><span class=\"star fill\">2</span><span class=\"star fill\">3</span><span class=\"star fill\">4</span><span class=\"star\">5</span></td>\\r\\n                            </tr>\\r\\n                            <tr>\\r\\n                                <td class=\"review-rating-header food_and_beverages\">Food &amp; Beverages</td>\\r\\n                                <td class=\"review-rating-stars stars\"><span class=\"star fill\">1</span><span class=\"star fill\">2</span><span class=\"star fill\">3</span><span class=\"star\">4</span><span class=\"star\">5</span></td>\\r\\n                            </tr>\\r\\n                            <tr>\\r\\n                                <td class=\"review-rating-header inflight_entertainment\">Inflight Entertainment</td>\\r\\n                                <td class=\"review-rating-stars stars\"><span class=\"star fill\">1</span><span class=\"star fill\">2</span><span class=\"star fill\">3</span><span class=\"star fill\">4</span><span class=\"star\">5</span></td>\\r\\n                            </tr>\\r\\n                            <tr>\\r\\n                                <td class=\"review-rating-header ground_service\">Ground Service</td>\\r\\n                                <td class=\"review-rating-stars stars\"><span class=\"star fill\">1</span><span class=\"star fill\">2</span><span class=\"star\">3</span><span class=\"star\">4</span><span class=\"star\">5</span></td>\\r\\n                            </tr>\\r\\n                            <tr>\\r\\n                                <td class=\"review-rating-header wifi_and_connectivity\">Wifi &amp; Connectivity</td>\\r\\n                                <td class=\"review-rating-stars stars\"><span class=\"star fill\">1</span><span class=\"star fill\">2</span><span class=\"star fill\">3</span><span class=\"star fill\">4</span><span class=\"star\">5</span></td>\\r\\n                            </tr>\\r\\n                            <tr>\\r\\n                                <td class=\"review-rating-header value_for_money\">Value For Money</td>\\r\\n                                <td class=\"review-rating-stars stars\"><span class=\"star fill\">1</span><span class=\"star fill\">2</span><span class=\"star\">3</span><span class=\"star\">4</span><span class=\"star\">5</span></td>\\r\\n                            </tr>\\r\\n                            <tr><td class=\"review-rating-header recommended\">Recommended</td><td class=\"review-value rating-yes\">yes</td></tr>        </table>\\r\\n\\r\\n                    </div>\\r\\n                    </div>\\r\\n                </div>\\r\\n\\r\\n                    <a href=\"#anchor900774\" class=\"toggle-click tc_mobile_only\"></a>\\r\\n            </article><article itemprop=\"review\" itemscope itemtype=\"http://schema.org/Review\" class=\"comp comp_media-review-rated list-item media position-content review-900322\">\\r\\n                    <meta itemprop=\"datePublished\" content=\"2024-06-29\">\\r\\n                    <div itemprop=\"reviewRating\" itemscope itemtype=\"http://schema.org/Rating\" class=\"rating-10\">\\r\\n                        <span itemprop=\"ratingValue\">2</span>/<span itemprop=\"bestRating\">10</span>\\r\\n                    </div>\\r\\n                <div class=\"body\" id=\"anchor900322\">\\r\\n                    <h2 class=\"text_header\">\"food quality was abysmal\"</h2>\\r\\n                    <h3 class=\"text_sub_header userStatusWrapper\">\\r\\n                        <span itemprop=\"author\" itemscope itemtype=\"http://schema.org/Person\">\\r\\n                        \\r\\n                        <span itemprop=\"name\">K Jasmine</span></span> (Belarus) <time itemprop=\"datePublished\" datetime=\"2024-06-29\">29th June 2024</time></h3>\\r\\n                    <div class=\"tc_mobile\">\\r\\n                    <div class=\"text_content \" itemprop=\"reviewBody\"><strong><a href=\"https://www.airlinequality.com/verified-reviews/\"><em>Not Verified</em></a></strong> |   I recently flew with Qantas and was thoroughly disappointed with the in-flight dining experience. The food quality was abysmal, to say the least. The main course, which was supposed to be a chicken dish, was dry, flavorless, and overcooked. It felt like chewing on rubber. The side vegetables were equally uninspiring, with a mushy texture and no seasoning to speak of. The dessert, a bland and uninspired piece of cake, was equally disappointing. It tasted stale and lacked any semblance of freshness. Even the bread roll was hard and dry, making it nearly inedible. To make matters worse, the meal options were extremely limited, and there were no decent alternatives for passengers with dietary restrictions. The overall presentation of the food was unappetizing, and the portions were inadequate for a long-haul flight. I\\'ve had better meals on budget airlines, and for the price of a Qantas ticket, I expected much more. This experience has definitely made me reconsider flying with Qantas in the future. They need to seriously improve their in-flight dining if they want to retain their customers.</div>\\r\\n                    <div class=\"review-stats\">\\r\\n                        <table class=\"review-ratings\">\\r\\n                            <tr><td class=\"review-rating-header type_of_traveller \">Type Of Traveller</td><td class=\"review-value \">Solo Leisure</td></tr>\\r\\n                            <tr><td class=\"review-rating-header cabin_flown \">Seat Type</td><td class=\"review-value \">Economy Class</td></tr>\\r\\n                            <tr><td class=\"review-rating-header route \">Route</td><td class=\"review-value \">Melbourne to Sydney</td></tr>\\r\\n                            <tr><td class=\"review-rating-header date_flown \">Date Flown</td><td class=\"review-value \">April 2024</td></tr>\\r\\n                            <tr>\\r\\n                                <td class=\"review-rating-header seat_comfort\">Seat Comfort</td>\\r\\n                                <td class=\"review-rating-stars stars\"><span class=\"star fill\">1</span><span class=\"star\">2</span><span class=\"star\">3</span><span class=\"star\">4</span><span class=\"star\">5</span></td>\\r\\n                            </tr>\\r\\n                            <tr>\\r\\n                                <td class=\"review-rating-header cabin_staff_service\">Cabin Staff Service</td>\\r\\n                                <td class=\"review-rating-stars stars\"><span class=\"star fill\">1</span><span class=\"star\">2</span><span class=\"star\">3</span><span class=\"star\">4</span><span class=\"star\">5</span></td>\\r\\n                            </tr>\\r\\n                            <tr>\\r\\n                                <td class=\"review-rating-header ground_service\">Ground Service</td>\\r\\n                                <td class=\"review-rating-stars stars\"><span class=\"star fill\">1</span><span class=\"star\">2</span><span class=\"star\">3</span><span class=\"star\">4</span><span class=\"star\">5</span></td>\\r\\n                            </tr>\\r\\n                            <tr>\\r\\n                                <td class=\"review-rating-header value_for_money\">Value For Money</td>\\r\\n                                <td class=\"review-rating-stars stars\"><span class=\"star fill\">1</span><span class=\"star fill\">2</span><span class=\"star\">3</span><span class=\"star\">4</span><span class=\"star\">5</span></td>\\r\\n                            </tr>\\r\\n                            <tr><td class=\"review-rating-header recommended\">Recommended</td><td class=\"review-value rating-no\">no</td></tr>        </table>\\r\\n\\r\\n                    </div>\\r\\n                    </div>\\r\\n                </div>\\r\\n\\r\\n                    <a href=\"#anchor900322\" class=\"toggle-click tc_mobile_only\"></a>\\r\\n            </article>        <div class=\"aq-ad\">\\n\\t        <script async src=\"//pagead2.googlesyndication.com/pagead/js/adsbygoogle.js\"></script>\\n\\t\\t\\t<ins class=\"adsbygoogle\"\\n\\t\\t\\t     style=\"display:block; width:336px;\"\\n\\t\\t\\t     data-ad-client=\"ca-pub-7401091822721150\"\\n\\t\\t\\t     data-ad-slot=\"9759390443\"\\n\\t\\t\\t     data-ad-format=\"rectangle\"></ins>\\n\\t\\t\\t<script>\\n\\t\\t\\t(adsbygoogle = window.adsbygoogle || []).push({});\\n\\t\\t\\t</script>\\n        </div>\\n    <article itemprop=\"review\" itemscope itemtype=\"http://schema.org/Review\" class=\"comp comp_media-review-rated list-item media position-content review-899859\">\\r\\n                    <meta itemprop=\"datePublished\" content=\"2024-06-25\">\\r\\n                    <div itemprop=\"reviewRating\" itemscope itemtype=\"http://schema.org/Rating\" class=\"rating-10\">\\r\\n                        <span itemprop=\"ratingValue\">2</span>/<span itemprop=\"bestRating\">10</span>\\r\\n                    </div>\\r\\n                <div class=\"body\" id=\"anchor899859\">\\r\\n                    <h2 class=\"text_header\">\"wasted money on a business ticket\"</h2>\\r\\n                    <h3 class=\"text_sub_header userStatusWrapper\">\\r\\n                        <span itemprop=\"author\" itemscope itemtype=\"http://schema.org/Person\">\\r\\n                        \\r\\n                        <span itemprop=\"name\">T Bayne</span></span> (Australia) <time itemprop=\"datePublished\" datetime=\"2024-06-25\">25th June 2024</time></h3>\\r\\n                    <div class=\"tc_mobile\">\\r\\n                    <div class=\"text_content \" itemprop=\"reviewBody\">&#9989; <strong><a href=\"https://www.airlinequality.com/verified-reviews/\"><em>Trip Verified</em></a></strong> |  My husband and I went to Auckland with Air New Zealand and business class was as I expected to be. For various reasons we decided to return with Qantas and this was a very big mistake. Business class was no different to that on a short internal flight within Australia. The seats were old, there was no footrest, the headphones had to be pressed against my ears for any sound. To watch any of the movies, you had to have the Qantas App on the mobile phone. I regret having wasted money on a business ticket and I will never again book with Qantas on a long flight. The only positive comment I have is to say that the cabin crew were very pleasant and helpful.</div>\\r\\n                    <div class=\"review-stats\">\\r\\n                        <table class=\"review-ratings\">\\r\\n                            <tr><td class=\"review-rating-header aircraft \">Aircraft</td><td class=\"review-value \">Boeing 737</td></tr>\\r\\n                            <tr><td class=\"review-rating-header type_of_traveller \">Type Of Traveller</td><td class=\"review-value \">Couple Leisure</td></tr>\\r\\n                            <tr><td class=\"review-rating-header cabin_flown \">Seat Type</td><td class=\"review-value \">Business Class</td></tr>\\r\\n                            <tr><td class=\"review-rating-header route \">Route</td><td class=\"review-value \">Auckland to Adelaide via Melbourne</td></tr>\\r\\n                            <tr><td class=\"review-rating-header date_flown \">Date Flown</td><td class=\"review-value \">June 2024</td></tr>\\r\\n                            <tr>\\r\\n                                <td class=\"review-rating-header seat_comfort\">Seat Comfort</td>\\r\\n                                <td class=\"review-rating-stars stars\"><span class=\"star fill\">1</span><span class=\"star\">2</span><span class=\"star\">3</span><span class=\"star\">4</span><span class=\"star\">5</span></td>\\r\\n                            </tr>\\r\\n                            <tr>\\r\\n                                <td class=\"review-rating-header cabin_staff_service\">Cabin Staff Service</td>\\r\\n                                <td class=\"review-rating-stars stars\"><span class=\"star fill\">1</span><span class=\"star fill\">2</span><span class=\"star fill\">3</span><span class=\"star fill\">4</span><span class=\"star\">5</span></td>\\r\\n                            </tr>\\r\\n                            <tr>\\r\\n                                <td class=\"review-rating-header food_and_beverages\">Food &amp; Beverages</td>\\r\\n                                <td class=\"review-rating-stars stars\"><span class=\"star fill\">1</span><span class=\"star fill\">2</span><span class=\"star fill\">3</span><span class=\"star\">4</span><span class=\"star\">5</span></td>\\r\\n                            </tr>\\r\\n                            <tr>\\r\\n                                <td class=\"review-rating-header inflight_entertainment\">Inflight Entertainment</td>\\r\\n                                <td class=\"review-rating-stars stars\"><span class=\"star fill\">1</span><span class=\"star\">2</span><span class=\"star\">3</span><span class=\"star\">4</span><span class=\"star\">5</span></td>\\r\\n                            </tr>\\r\\n                            <tr>\\r\\n                                <td class=\"review-rating-header ground_service\">Ground Service</td>\\r\\n                                <td class=\"review-rating-stars stars\"><span class=\"star fill\">1</span><span class=\"star fill\">2</span><span class=\"star\">3</span><span class=\"star\">4</span><span class=\"star\">5</span></td>\\r\\n                            </tr>\\r\\n                            <tr>\\r\\n                                <td class=\"review-rating-header wifi_and_connectivity\">Wifi &amp; Connectivity</td>\\r\\n                                <td class=\"review-rating-stars stars\"><span class=\"star fill\">1</span><span class=\"star\">2</span><span class=\"star\">3</span><span class=\"star\">4</span><span class=\"star\">5</span></td>\\r\\n                            </tr>\\r\\n                            <tr>\\r\\n                                <td class=\"review-rating-header value_for_money\">Value For Money</td>\\r\\n                                <td class=\"review-rating-stars stars\"><span class=\"star fill\">1</span><span class=\"star\">2</span><span class=\"star\">3</span><span class=\"star\">4</span><span class=\"star\">5</span></td>\\r\\n                            </tr>\\r\\n                            <tr><td class=\"review-rating-header recommended\">Recommended</td><td class=\"review-value rating-no\">no</td></tr>        </table>\\r\\n\\r\\n                    </div>\\r\\n                    </div>\\r\\n                </div>\\r\\n\\r\\n                    <a href=\"#anchor899859\" class=\"toggle-click tc_mobile_only\"></a>\\r\\n            </article><article itemprop=\"review\" itemscope itemtype=\"http://schema.org/Review\" class=\"comp comp_media-review-rated list-item media position-content review-899334\">\\r\\n                    <meta itemprop=\"datePublished\" content=\"2024-06-20\">\\r\\n                    <div itemprop=\"reviewRating\" itemscope itemtype=\"http://schema.org/Rating\" class=\"rating-10\">\\r\\n                        <span itemprop=\"ratingValue\">4</span>/<span itemprop=\"bestRating\">10</span>\\r\\n                    </div>\\r\\n                <div class=\"body\" id=\"anchor899334\">\\r\\n                    <h2 class=\"text_header\">\"think about the food needs\"</h2>\\r\\n                    <h3 class=\"text_sub_header userStatusWrapper\">\\r\\n                        <span itemprop=\"author\" itemscope itemtype=\"http://schema.org/Person\">\\r\\n                        \\r\\n                        <span itemprop=\"name\">W Neale</span></span> (Australia) <time itemprop=\"datePublished\" datetime=\"2024-06-20\">20th June 2024</time></h3>\\r\\n                    <div class=\"tc_mobile\">\\r\\n                    <div class=\"text_content \" itemprop=\"reviewBody\">&#9989; <strong><a href=\"https://www.airlinequality.com/verified-reviews/\"><em>Trip Verified</em></a></strong> |  I travelled with my husband and daughter on 10 June from Sydney to Dili, Timor-Leste via Darwin. We have been travelling on Qantas for decades and yet, the only lunch available on this trip (few others as well) has been a ham sandwich! Thousands of people who call Australia home don\\'t eat ham or pork, including a few people in your safety video I\\'d say. Please, Qantas, think about the food needs of all your travellers and offer some variety. For cultural awareness one can get all answers from google!</div>\\r\\n                    <div class=\"review-stats\">\\r\\n                        <table class=\"review-ratings\">\\r\\n                            <tr><td class=\"review-rating-header type_of_traveller \">Type Of Traveller</td><td class=\"review-value \">Business</td></tr>\\r\\n                            <tr><td class=\"review-rating-header cabin_flown \">Seat Type</td><td class=\"review-value \">Business Class</td></tr>\\r\\n                            <tr><td class=\"review-rating-header route \">Route</td><td class=\"review-value \">Sydney to Dili via Darwin</td></tr>\\r\\n                            <tr><td class=\"review-rating-header date_flown \">Date Flown</td><td class=\"review-value \">June 2024</td></tr>\\r\\n                            <tr>\\r\\n                                <td class=\"review-rating-header seat_comfort\">Seat Comfort</td>\\r\\n                                <td class=\"review-rating-stars stars\"><span class=\"star fill\">1</span><span class=\"star fill\">2</span><span class=\"star\">3</span><span class=\"star\">4</span><span class=\"star\">5</span></td>\\r\\n                            </tr>\\r\\n                            <tr>\\r\\n                                <td class=\"review-rating-header cabin_staff_service\">Cabin Staff Service</td>\\r\\n                                <td class=\"review-rating-stars stars\"><span class=\"star fill\">1</span><span class=\"star fill\">2</span><span class=\"star fill\">3</span><span class=\"star\">4</span><span class=\"star\">5</span></td>\\r\\n                            </tr>\\r\\n                            <tr>\\r\\n                                <td class=\"review-rating-header food_and_beverages\">Food &amp; Beverages</td>\\r\\n                                <td class=\"review-rating-stars stars\"><span class=\"star fill\">1</span><span class=\"star fill\">2</span><span class=\"star\">3</span><span class=\"star\">4</span><span class=\"star\">5</span></td>\\r\\n                            </tr>\\r\\n                            <tr>\\r\\n                                <td class=\"review-rating-header inflight_entertainment\">Inflight Entertainment</td>\\r\\n                                <td class=\"review-rating-stars stars\"><span class=\"star fill\">1</span><span class=\"star fill\">2</span><span class=\"star\">3</span><span class=\"star\">4</span><span class=\"star\">5</span></td>\\r\\n                            </tr>\\r\\n                            <tr>\\r\\n                                <td class=\"review-rating-header ground_service\">Ground Service</td>\\r\\n                                <td class=\"review-rating-stars stars\"><span class=\"star fill\">1</span><span class=\"star fill\">2</span><span class=\"star\">3</span><span class=\"star\">4</span><span class=\"star\">5</span></td>\\r\\n                            </tr>\\r\\n                            <tr>\\r\\n                                <td class=\"review-rating-header wifi_and_connectivity\">Wifi &amp; Connectivity</td>\\r\\n                                <td class=\"review-rating-stars stars\"><span class=\"star fill\">1</span><span class=\"star fill\">2</span><span class=\"star\">3</span><span class=\"star\">4</span><span class=\"star\">5</span></td>\\r\\n                            </tr>\\r\\n                            <tr>\\r\\n                                <td class=\"review-rating-header value_for_money\">Value For Money</td>\\r\\n                                <td class=\"review-rating-stars stars\"><span class=\"star fill\">1</span><span class=\"star fill\">2</span><span class=\"star\">3</span><span class=\"star\">4</span><span class=\"star\">5</span></td>\\r\\n                            </tr>\\r\\n                            <tr><td class=\"review-rating-header recommended\">Recommended</td><td class=\"review-value rating-no\">no</td></tr>        </table>\\r\\n\\r\\n                    </div>\\r\\n                    </div>\\r\\n                </div>\\r\\n\\r\\n                    <a href=\"#anchor899334\" class=\"toggle-click tc_mobile_only\"></a>\\r\\n            </article><article itemprop=\"review\" itemscope itemtype=\"http://schema.org/Review\" class=\"comp comp_media-review-rated list-item media position-content review-898135\">\\r\\n                    <meta itemprop=\"datePublished\" content=\"2024-06-07\">\\r\\n                    <div itemprop=\"reviewRating\" itemscope itemtype=\"http://schema.org/Rating\" class=\"rating-10\">\\r\\n                        <span itemprop=\"ratingValue\">3</span>/<span itemprop=\"bestRating\">10</span>\\r\\n                    </div>\\r\\n                <div class=\"body\" id=\"anchor898135\">\\r\\n                    <h2 class=\"text_header\">\"Another horrific flight\"</h2>\\r\\n                    <h3 class=\"text_sub_header userStatusWrapper\">\\r\\n                        <span itemprop=\"author\" itemscope itemtype=\"http://schema.org/Person\">\\r\\n                        \\r\\n                        <span itemprop=\"name\">Robin Esdaile</span></span> (Australia) <time itemprop=\"datePublished\" datetime=\"2024-06-07\">7th June 2024</time></h3>\\r\\n                    <div class=\"tc_mobile\">\\r\\n                    <div class=\"text_content \" itemprop=\"reviewBody\">&#9989; <strong><a href=\"https://www.airlinequality.com/verified-reviews/\"><em>Trip Verified</em></a></strong> |  Another horrific flight endured with Qantas. 6 hour delay on departure from Sydney - 3 different explanations as to why water had apparently saturated seats while parked at the gate. The Captain stated a problem with a door caused water to enter the aircraft and engineers needed to do a very careful test - decompression risks? VH-OQI was the operating ac. Ground staff and engineering estimates initially 30 minute delay, then 60 minute, then 120 minute, then 180 minute, then \\'we don\"t know\\'. $15 vouchers handed around at 2, 4 and 5 hour mark - passengers eating junk /snack food for 6 hours instead of a proper dinner. Arrogant ground staff defensive and argumentative to reasonable questions, inviting argument and disrespectful. Once on board - polite, apologetic captain. Food shocking in economy - inedible beef \\'burger\\' a glutinous mess of reconstituted potato mash, frozen carrots and peas and undercooked beef mince drowned in gravy. Literally disgusting and warm at best. Served 3 hours into the 7 hour flight - 11.30pm to midnight Sydney time. Female First Officer buttered the landing in Singapore, smoothest aspect of the whole experience. Singapore to London sector - used a gate with a single security lane to board from 3am for a 4.05am departure. Actual departure 4.57am. Quoting Captain \"Obviously we wont be on time, 30 minutes late because of manpower issues here at Singapore and five and a half hours because the plane needed to be fixed\". No apology. Sounded completely disinterested in even making an announcement - shouldn\\'t have bothered. His arrogance was the only thing he informed us of. One small bottle of water given for the whole flight to passengers, the refills only in little plastic cups. Snack given an hour out of Singapore, no main meal (breakfast) served until 1 hr and 7 mins out from landing, so a 12 hour stretch with nothing. Luke warm \"hot\" breakfast was a petri dish of food poisoning risk - scrambled eggs and pork sausage, grey bacon, green potato hash browns. Sent mine back untouched. I paid $3400 for a return economy ticket to be offered inedible food. Captain at least hit the touchdown zone demonstrating one important basic skill - and in fairness, it was firm but not buried. Qantas is a shadow of its former self. Its new CEO is the financial architect of its current service model. After the return trip to Australia, I won\\'t be bothering to assess her performance. This airline has lost my trust completely - four of my last six trips have been unacceptably dismal and its lead by the attitudes on their staff.</div>\\r\\n                    <div class=\"review-stats\">\\r\\n                        <table class=\"review-ratings\">\\r\\n                            <tr><td class=\"review-rating-header aircraft \">Aircraft</td><td class=\"review-value \">A380</td></tr>\\r\\n                            <tr><td class=\"review-rating-header type_of_traveller \">Type Of Traveller</td><td class=\"review-value \">Business</td></tr>\\r\\n                            <tr><td class=\"review-rating-header cabin_flown \">Seat Type</td><td class=\"review-value \">Economy Class</td></tr>\\r\\n                            <tr><td class=\"review-rating-header route \">Route</td><td class=\"review-value \">Sydney to London via Singapore</td></tr>\\r\\n                            <tr><td class=\"review-rating-header date_flown \">Date Flown</td><td class=\"review-value \">June 2024</td></tr>\\r\\n                            <tr>\\r\\n                                <td class=\"review-rating-header seat_comfort\">Seat Comfort</td>\\r\\n                                <td class=\"review-rating-stars stars\"><span class=\"star fill\">1</span><span class=\"star fill\">2</span><span class=\"star fill\">3</span><span class=\"star\">4</span><span class=\"star\">5</span></td>\\r\\n                            </tr>\\r\\n                            <tr>\\r\\n                                <td class=\"review-rating-header cabin_staff_service\">Cabin Staff Service</td>\\r\\n                                <td class=\"review-rating-stars stars\"><span class=\"star fill\">1</span><span class=\"star fill\">2</span><span class=\"star\">3</span><span class=\"star\">4</span><span class=\"star\">5</span></td>\\r\\n                            </tr>\\r\\n                            <tr>\\r\\n                                <td class=\"review-rating-header food_and_beverages\">Food &amp; Beverages</td>\\r\\n                                <td class=\"review-rating-stars stars\"><span class=\"star fill\">1</span><span class=\"star\">2</span><span class=\"star\">3</span><span class=\"star\">4</span><span class=\"star\">5</span></td>\\r\\n                            </tr>\\r\\n                            <tr>\\r\\n                                <td class=\"review-rating-header inflight_entertainment\">Inflight Entertainment</td>\\r\\n                                <td class=\"review-rating-stars stars\"><span class=\"star fill\">1</span><span class=\"star fill\">2</span><span class=\"star fill\">3</span><span class=\"star\">4</span><span class=\"star\">5</span></td>\\r\\n                            </tr>\\r\\n                            <tr>\\r\\n                                <td class=\"review-rating-header ground_service\">Ground Service</td>\\r\\n                                <td class=\"review-rating-stars stars\"><span class=\"star fill\">1</span><span class=\"star fill\">2</span><span class=\"star\">3</span><span class=\"star\">4</span><span class=\"star\">5</span></td>\\r\\n                            </tr>\\r\\n                            <tr>\\r\\n                                <td class=\"review-rating-header wifi_and_connectivity\">Wifi &amp; Connectivity</td>\\r\\n                                <td class=\"review-rating-stars stars\"><span class=\"star fill\">1</span><span class=\"star\">2</span><span class=\"star\">3</span><span class=\"star\">4</span><span class=\"star\">5</span></td>\\r\\n                            </tr>\\r\\n                            <tr>\\r\\n                                <td class=\"review-rating-header value_for_money\">Value For Money</td>\\r\\n                                <td class=\"review-rating-stars stars\"><span class=\"star fill\">1</span><span class=\"star fill\">2</span><span class=\"star\">3</span><span class=\"star\">4</span><span class=\"star\">5</span></td>\\r\\n                            </tr>\\r\\n                            <tr><td class=\"review-rating-header recommended\">Recommended</td><td class=\"review-value rating-no\">no</td></tr>        </table>\\r\\n\\r\\n                    </div>\\r\\n                    </div>\\r\\n                </div>\\r\\n\\r\\n                    <a href=\"#anchor898135\" class=\"toggle-click tc_mobile_only\"></a>\\r\\n            </article><article itemprop=\"review\" itemscope itemtype=\"http://schema.org/Review\" class=\"comp comp_media-review-rated list-item media position-content review-897304\">\\r\\n                    <meta itemprop=\"datePublished\" content=\"2024-05-30\">\\r\\n                    <div itemprop=\"reviewRating\" itemscope itemtype=\"http://schema.org/Rating\" class=\"rating-10\">\\r\\n                        <span itemprop=\"ratingValue\">1</span>/<span itemprop=\"bestRating\">10</span>\\r\\n                    </div>\\r\\n                <div class=\"body\" id=\"anchor897304\">\\r\\n                    <h2 class=\"text_header\">\"still waiting for the refund\" </h2>\\r\\n                    <h3 class=\"text_sub_header userStatusWrapper\">\\r\\n                        <span itemprop=\"author\" itemscope itemtype=\"http://schema.org/Person\">\\r\\n                        \\r\\n                        <span itemprop=\"name\">Lydia Lou</span></span> (Australia) <time itemprop=\"datePublished\" datetime=\"2024-05-30\">30th May 2024</time></h3>\\r\\n                    <div class=\"tc_mobile\">\\r\\n                    <div class=\"text_content \" itemprop=\"reviewBody\"><strong><a href=\"https://www.airlinequality.com/verified-reviews/\"><em>Not Verified</em></a></strong> |\\xa0 \\xa0After booking and paid the fare, Qantas cancelled all flights from Sydney to Shanghai which gave us a big headache and had to pay extra $2000 for 4 of our family members! This is so disappointing! Whats worse is we are facing financial stress after paying extra $2000 on top of air fare, Qantas yet not refund us money till now - it has been over 2 weeks we are still waiting for the refund. As loyal customers of Qantas, we will never take Qantas again </div>\\r\\n                    <div class=\"review-stats\">\\r\\n                        <table class=\"review-ratings\">\\r\\n                            <tr><td class=\"review-rating-header type_of_traveller \">Type Of Traveller</td><td class=\"review-value \">Family Leisure</td></tr>\\r\\n                            <tr><td class=\"review-rating-header cabin_flown \">Seat Type</td><td class=\"review-value \">Economy Class</td></tr>\\r\\n                            <tr><td class=\"review-rating-header route \">Route</td><td class=\"review-value \">Sydney to Shanghai</td></tr>\\r\\n                            <tr><td class=\"review-rating-header date_flown \">Date Flown</td><td class=\"review-value \">April 2024</td></tr>\\r\\n                            <tr>\\r\\n                                <td class=\"review-rating-header value_for_money\">Value For Money</td>\\r\\n                                <td class=\"review-rating-stars stars\"><span class=\"star fill\">1</span><span class=\"star\">2</span><span class=\"star\">3</span><span class=\"star\">4</span><span class=\"star\">5</span></td>\\r\\n                            </tr>\\r\\n                            <tr><td class=\"review-rating-header recommended\">Recommended</td><td class=\"review-value rating-no\">no</td></tr>        </table>\\r\\n\\r\\n                    </div>\\r\\n                    </div>\\r\\n                </div>\\r\\n\\r\\n                    <a href=\"#anchor897304\" class=\"toggle-click tc_mobile_only\"></a>\\r\\n            </article><article itemprop=\"review\" itemscope itemtype=\"http://schema.org/Review\" class=\"comp comp_media-review-rated list-item media position-content review-896678\">\\r\\n                    <meta itemprop=\"datePublished\" content=\"2024-05-23\">\\r\\n                    <div itemprop=\"reviewRating\" itemscope itemtype=\"http://schema.org/Rating\" class=\"rating-10\">\\r\\n                        <span itemprop=\"ratingValue\">2</span>/<span itemprop=\"bestRating\">10</span>\\r\\n                    </div>\\r\\n                <div class=\"body\" id=\"anchor896678\">\\r\\n                    <h2 class=\"text_header\">\"Simply not acceptable\"</h2>\\r\\n                    <h3 class=\"text_sub_header userStatusWrapper\">\\r\\n                        <span itemprop=\"author\" itemscope itemtype=\"http://schema.org/Person\">\\r\\n                        \\r\\n                        <span itemprop=\"name\">David Zanorti</span></span> (Australia) <time itemprop=\"datePublished\" datetime=\"2024-05-23\">23rd May 2024</time></h3>\\r\\n                    <div class=\"tc_mobile\">\\r\\n                    <div class=\"text_content \" itemprop=\"reviewBody\"><strong><a href=\"https://www.airlinequality.com/verified-reviews/\"><em>Not Verified</em></a></strong> |   It’s concerning to know that Qantas, when they advise you that the flight is cancelled when you arrive to check in at the counter due to operational issue 9/10 it really means no flight crew. So as a result my family were disadvantaged and I need to be home for work meetings. As a result of organising other flights to get back home due to their inconvenience caused do you think QANTAS offered any reimbursement for costs incurred. Simple answer no. Does Qantas and its brand believe it’s above the law and the greatest brand in the world. Arrogance plays no part in business anymore and consumers have the right to know that it is unacceptable to cancel flights and yet not offer compensation for any inconvenience caused. Arrogant Qantas and your new ceo ought to be ashamed. Simply not acceptable. </div>\\r\\n                    <div class=\"review-stats\">\\r\\n                        <table class=\"review-ratings\">\\r\\n                            <tr><td class=\"review-rating-header type_of_traveller \">Type Of Traveller</td><td class=\"review-value \">Family Leisure</td></tr>\\r\\n                            <tr><td class=\"review-rating-header cabin_flown \">Seat Type</td><td class=\"review-value \">Economy Class</td></tr>\\r\\n                            <tr><td class=\"review-rating-header route \">Route</td><td class=\"review-value \">Vancouver to Melbourne</td></tr>\\r\\n                            <tr><td class=\"review-rating-header date_flown \">Date Flown</td><td class=\"review-value \">June 2023</td></tr>\\r\\n                            <tr>\\r\\n                                <td class=\"review-rating-header ground_service\">Ground Service</td>\\r\\n                                <td class=\"review-rating-stars stars\"><span class=\"star fill\">1</span><span class=\"star\">2</span><span class=\"star\">3</span><span class=\"star\">4</span><span class=\"star\">5</span></td>\\r\\n                            </tr>\\r\\n                            <tr>\\r\\n                                <td class=\"review-rating-header value_for_money\">Value For Money</td>\\r\\n                                <td class=\"review-rating-stars stars\"><span class=\"star fill\">1</span><span class=\"star\">2</span><span class=\"star\">3</span><span class=\"star\">4</span><span class=\"star\">5</span></td>\\r\\n                            </tr>\\r\\n                            <tr><td class=\"review-rating-header recommended\">Recommended</td><td class=\"review-value rating-no\">no</td></tr>        </table>\\r\\n\\r\\n                    </div>\\r\\n                    </div>\\r\\n                </div>\\r\\n\\r\\n                    <a href=\"#anchor896678\" class=\"toggle-click tc_mobile_only\"></a>\\r\\n            </article><article itemprop=\"review\" itemscope itemtype=\"http://schema.org/Review\" class=\"comp comp_media-review-rated list-item media position-content review-896543\">\\r\\n                    <meta itemprop=\"datePublished\" content=\"2024-05-22\">\\r\\n                    <div itemprop=\"reviewRating\" itemscope itemtype=\"http://schema.org/Rating\" class=\"rating-10\">\\r\\n                        <span itemprop=\"ratingValue\">2</span>/<span itemprop=\"bestRating\">10</span>\\r\\n                    </div>\\r\\n                <div class=\"body\" id=\"anchor896543\">\\r\\n                    <h2 class=\"text_header\">\"I will never travel Qantas again\"</h2>\\r\\n                    <h3 class=\"text_sub_header userStatusWrapper\">\\r\\n                        <span itemprop=\"author\" itemscope itemtype=\"http://schema.org/Person\">\\r\\n                        \\r\\n                        <span itemprop=\"name\">James Caldwell</span></span> (Australia) <time itemprop=\"datePublished\" datetime=\"2024-05-22\">22nd May 2024</time></h3>\\r\\n                    <div class=\"tc_mobile\">\\r\\n                    <div class=\"text_content \" itemprop=\"reviewBody\"><strong><a href=\"https://www.airlinequality.com/verified-reviews/\"><em>Not Verified</em></a></strong> |   I booked leg room sets at the bulk head. When boarding tickets were issued Qantas changes these and we only worked this out on the plane. At this point Qantas ignored me even when I showed them my ticket receipt. This happened on the return flight too, but this time they said we paid normal price an all the seats are full. Upon transfer the baggage scanners in Sydney decided that my wife\\'s bag was over weight at 15kg. We then stood in line at a Qantas counter for 30minutes while one person attended to the massive line of people. I complained to the Qantas lady standing around, she said, That\\'s just how it is\\'. I will never travel Qantas again.</div>\\r\\n                    <div class=\"review-stats\">\\r\\n                        <table class=\"review-ratings\">\\r\\n                            <tr><td class=\"review-rating-header type_of_traveller \">Type Of Traveller</td><td class=\"review-value \">Couple Leisure</td></tr>\\r\\n                            <tr><td class=\"review-rating-header cabin_flown \">Seat Type</td><td class=\"review-value \">Economy Class</td></tr>\\r\\n                            <tr><td class=\"review-rating-header route \">Route</td><td class=\"review-value \">Brisbane to Seoul via Sydney</td></tr>\\r\\n                            <tr><td class=\"review-rating-header date_flown \">Date Flown</td><td class=\"review-value \">May 2024</td></tr>\\r\\n                            <tr>\\r\\n                                <td class=\"review-rating-header seat_comfort\">Seat Comfort</td>\\r\\n                                <td class=\"review-rating-stars stars\"><span class=\"star fill\">1</span><span class=\"star fill\">2</span><span class=\"star\">3</span><span class=\"star\">4</span><span class=\"star\">5</span></td>\\r\\n                            </tr>\\r\\n                            <tr>\\r\\n                                <td class=\"review-rating-header cabin_staff_service\">Cabin Staff Service</td>\\r\\n                                <td class=\"review-rating-stars stars\"><span class=\"star fill\">1</span><span class=\"star fill\">2</span><span class=\"star\">3</span><span class=\"star\">4</span><span class=\"star\">5</span></td>\\r\\n                            </tr>\\r\\n                            <tr>\\r\\n                                <td class=\"review-rating-header food_and_beverages\">Food &amp; Beverages</td>\\r\\n                                <td class=\"review-rating-stars stars\"><span class=\"star fill\">1</span><span class=\"star fill\">2</span><span class=\"star fill\">3</span><span class=\"star\">4</span><span class=\"star\">5</span></td>\\r\\n                            </tr>\\r\\n                            <tr>\\r\\n                                <td class=\"review-rating-header inflight_entertainment\">Inflight Entertainment</td>\\r\\n                                <td class=\"review-rating-stars stars\"><span class=\"star fill\">1</span><span class=\"star fill\">2</span><span class=\"star\">3</span><span class=\"star\">4</span><span class=\"star\">5</span></td>\\r\\n                            </tr>\\r\\n                            <tr>\\r\\n                                <td class=\"review-rating-header ground_service\">Ground Service</td>\\r\\n                                <td class=\"review-rating-stars stars\"><span class=\"star fill\">1</span><span class=\"star\">2</span><span class=\"star\">3</span><span class=\"star\">4</span><span class=\"star\">5</span></td>\\r\\n                            </tr>\\r\\n                            <tr>\\r\\n                                <td class=\"review-rating-header value_for_money\">Value For Money</td>\\r\\n                                <td class=\"review-rating-stars stars\"><span class=\"star fill\">1</span><span class=\"star\">2</span><span class=\"star\">3</span><span class=\"star\">4</span><span class=\"star\">5</span></td>\\r\\n                            </tr>\\r\\n                            <tr><td class=\"review-rating-header recommended\">Recommended</td><td class=\"review-value rating-no\">no</td></tr>        </table>\\r\\n\\r\\n                    </div>\\r\\n                    </div>\\r\\n                </div>\\r\\n\\r\\n                    <a href=\"#anchor896543\" class=\"toggle-click tc_mobile_only\"></a>\\r\\n            </article><article itemprop=\"review\" itemscope itemtype=\"http://schema.org/Review\" class=\"comp comp_media-review-rated list-item media position-content review-896332\">\\r\\n                    <meta itemprop=\"datePublished\" content=\"2024-05-20\">\\r\\n                    <div itemprop=\"reviewRating\" itemscope itemtype=\"http://schema.org/Rating\" class=\"rating-10\">\\r\\n                        <span itemprop=\"ratingValue\">8</span>/<span itemprop=\"bestRating\">10</span>\\r\\n                    </div>\\r\\n                <div class=\"body\" id=\"anchor896332\">\\r\\n                    <h2 class=\"text_header\">“service on the plane was excellent”</h2>\\r\\n                    <h3 class=\"text_sub_header userStatusWrapper\">\\r\\n                        <span itemprop=\"author\" itemscope itemtype=\"http://schema.org/Person\">\\r\\n                        <a href=\"/reviewer/reviewer-signup\" class=\"userStatus elite\"><span class=\"userStatusReviewCount\">155 reviews</span><svg class=\"userStatusIcon\" version=\"1.1\" xmlns=\"http://www.w3.org/2000/svg\" xmlns:xlink=\"http://www.w3.org/1999/xlink\" viewBox=\"0 0 307.3 193.5\">\\r\\n            <path d=\"M157.9,95c-13.1,5.5-26.3,11.1-38.5,16c-21,8.4-42.4,16-65.1,18.7c-16,1.5-26.5-1-31.6-9.7C15.6,104.3,8.2,88.7,1.1,72.9\\r\\n                C-2.5,64.8,3.3,61.5,11,62c3.2,0.2,6.6,2.1,9.5,4c8.3,5.6,16.4,11.4,24.4,17.5c5,3.8,9.8,4.1,15.4,1.6c30.8-13.5,61.6-27,92.4-40.3\\r\\n                c30.4-13.2,60.7-26.4,91.3-39.1c16.9-7,34.3-8.1,51.3-0.1c3.8,1.8,7.2,4.7,10.5,7.4c4.9,4.1-2.8,12.5-21.8,22.7\\r\\n                c-20.9,10.7-46,22.5-67,33c0,0-31.8,67.3-46.9,99.2c-5.4,11.6-12.7,21.1-25.6,25c-4.4,1.3-5.9,0.5-5.1-4.2\\r\\n                c1.3-8.1,2.8-16.1,4.4-24.1C147.8,143.9,157.1,98.5,157.9,95z\"/>\\r\\n            <path d=\"M151.7,31.5c-14.3,6.2-30.4,13.2-43.7,18.8c0,0-29.9-17.6-43.4-25.8c-1.6-0.9-2.5-2.8-3.8-4.3c1.4-1,2.6-2.2,4.1-3.1\\r\\n                c9.9-5.7,20.4-5.7,31-2.8C113.6,19.3,138,27,151.7,31.5z\"/>\\r\\n        </svg></a>\\r\\n                        <span itemprop=\"name\">John Curtain</span></span> (Australia) <time itemprop=\"datePublished\" datetime=\"2024-05-20\">20th May 2024</time></h3>\\r\\n                    <div class=\"tc_mobile\">\\r\\n                    <div class=\"text_content \" itemprop=\"reviewBody\">&#9989; <strong><a href=\"https://www.airlinequality.com/verified-reviews/\"><em>Trip Verified</em></a></strong> | Check in was smooth, friendly and easy. Departure was on time. The service on the plane was excellent.They also offered a very tasty meal. The wine offered was excellent.A very pleasant way to finish my first visit to Western Australia.</div>\\r\\n                    <div class=\"review-stats\">\\r\\n                        <table class=\"review-ratings\">\\r\\n                            <tr><td class=\"review-rating-header aircraft \">Aircraft</td><td class=\"review-value \">737 800</td></tr>\\r\\n                            <tr><td class=\"review-rating-header type_of_traveller \">Type Of Traveller</td><td class=\"review-value \">Solo Leisure</td></tr>\\r\\n                            <tr><td class=\"review-rating-header cabin_flown \">Seat Type</td><td class=\"review-value \">Business Class</td></tr>\\r\\n                            <tr><td class=\"review-rating-header route \">Route</td><td class=\"review-value \">Broome to Melbourne</td></tr>\\r\\n                            <tr><td class=\"review-rating-header date_flown \">Date Flown</td><td class=\"review-value \">May 2024</td></tr>\\r\\n                            <tr>\\r\\n                                <td class=\"review-rating-header seat_comfort\">Seat Comfort</td>\\r\\n                                <td class=\"review-rating-stars stars\"><span class=\"star fill\">1</span><span class=\"star fill\">2</span><span class=\"star fill\">3</span><span class=\"star fill\">4</span><span class=\"star\">5</span></td>\\r\\n                            </tr>\\r\\n                            <tr>\\r\\n                                <td class=\"review-rating-header cabin_staff_service\">Cabin Staff Service</td>\\r\\n                                <td class=\"review-rating-stars stars\"><span class=\"star fill\">1</span><span class=\"star fill\">2</span><span class=\"star fill\">3</span><span class=\"star fill\">4</span><span class=\"star fill\">5</span></td>\\r\\n                            </tr>\\r\\n                            <tr>\\r\\n                                <td class=\"review-rating-header food_and_beverages\">Food &amp; Beverages</td>\\r\\n                                <td class=\"review-rating-stars stars\"><span class=\"star fill\">1</span><span class=\"star fill\">2</span><span class=\"star fill\">3</span><span class=\"star fill\">4</span><span class=\"star\">5</span></td>\\r\\n                            </tr>\\r\\n                            <tr>\\r\\n                                <td class=\"review-rating-header inflight_entertainment\">Inflight Entertainment</td>\\r\\n                                <td class=\"review-rating-stars stars\"><span class=\"star fill\">1</span><span class=\"star fill\">2</span><span class=\"star fill\">3</span><span class=\"star\">4</span><span class=\"star\">5</span></td>\\r\\n                            </tr>\\r\\n                            <tr>\\r\\n                                <td class=\"review-rating-header ground_service\">Ground Service</td>\\r\\n                                <td class=\"review-rating-stars stars\"><span class=\"star fill\">1</span><span class=\"star fill\">2</span><span class=\"star fill\">3</span><span class=\"star fill\">4</span><span class=\"star fill\">5</span></td>\\r\\n                            </tr>\\r\\n                            <tr>\\r\\n                                <td class=\"review-rating-header wifi_and_connectivity\">Wifi &amp; Connectivity</td>\\r\\n                                <td class=\"review-rating-stars stars\"><span class=\"star fill\">1</span><span class=\"star fill\">2</span><span class=\"star fill\">3</span><span class=\"star\">4</span><span class=\"star\">5</span></td>\\r\\n                            </tr>\\r\\n                            <tr>\\r\\n                                <td class=\"review-rating-header value_for_money\">Value For Money</td>\\r\\n                                <td class=\"review-rating-stars stars\"><span class=\"star fill\">1</span><span class=\"star fill\">2</span><span class=\"star fill\">3</span><span class=\"star\">4</span><span class=\"star\">5</span></td>\\r\\n                            </tr>\\r\\n                            <tr><td class=\"review-rating-header recommended\">Recommended</td><td class=\"review-value rating-yes\">yes</td></tr>        </table>\\r\\n\\r\\n                    </div>\\r\\n                    </div>\\r\\n                </div>\\r\\n\\r\\n                    <a href=\"#anchor896332\" class=\"toggle-click tc_mobile_only\"></a>\\r\\n            </article><article itemprop=\"review\" itemscope itemtype=\"http://schema.org/Review\" class=\"comp comp_media-review-rated list-item media position-content review-896327\">\\r\\n                    <meta itemprop=\"datePublished\" content=\"2024-05-20\">\\r\\n                    <div itemprop=\"reviewRating\" itemscope itemtype=\"http://schema.org/Rating\" class=\"rating-10\">\\r\\n                        <span itemprop=\"ratingValue\">8</span>/<span itemprop=\"bestRating\">10</span>\\r\\n                    </div>\\r\\n                <div class=\"body\" id=\"anchor896327\">\\r\\n                    <h2 class=\"text_header\">\"disappointed that they changed planes\"</h2>\\r\\n                    <h3 class=\"text_sub_header userStatusWrapper\">\\r\\n                        <span itemprop=\"author\" itemscope itemtype=\"http://schema.org/Person\">\\r\\n                        <a href=\"/reviewer/reviewer-signup\" class=\"userStatus elite\"><span class=\"userStatusReviewCount\">155 reviews</span><svg class=\"userStatusIcon\" version=\"1.1\" xmlns=\"http://www.w3.org/2000/svg\" xmlns:xlink=\"http://www.w3.org/1999/xlink\" viewBox=\"0 0 307.3 193.5\">\\r\\n            <path d=\"M157.9,95c-13.1,5.5-26.3,11.1-38.5,16c-21,8.4-42.4,16-65.1,18.7c-16,1.5-26.5-1-31.6-9.7C15.6,104.3,8.2,88.7,1.1,72.9\\r\\n                C-2.5,64.8,3.3,61.5,11,62c3.2,0.2,6.6,2.1,9.5,4c8.3,5.6,16.4,11.4,24.4,17.5c5,3.8,9.8,4.1,15.4,1.6c30.8-13.5,61.6-27,92.4-40.3\\r\\n                c30.4-13.2,60.7-26.4,91.3-39.1c16.9-7,34.3-8.1,51.3-0.1c3.8,1.8,7.2,4.7,10.5,7.4c4.9,4.1-2.8,12.5-21.8,22.7\\r\\n                c-20.9,10.7-46,22.5-67,33c0,0-31.8,67.3-46.9,99.2c-5.4,11.6-12.7,21.1-25.6,25c-4.4,1.3-5.9,0.5-5.1-4.2\\r\\n                c1.3-8.1,2.8-16.1,4.4-24.1C147.8,143.9,157.1,98.5,157.9,95z\"/>\\r\\n            <path d=\"M151.7,31.5c-14.3,6.2-30.4,13.2-43.7,18.8c0,0-29.9-17.6-43.4-25.8c-1.6-0.9-2.5-2.8-3.8-4.3c1.4-1,2.6-2.2,4.1-3.1\\r\\n                c9.9-5.7,20.4-5.7,31-2.8C113.6,19.3,138,27,151.7,31.5z\"/>\\r\\n        </svg></a>\\r\\n                        <span itemprop=\"name\">John Curtain</span></span> (Australia) <time itemprop=\"datePublished\" datetime=\"2024-05-20\">20th May 2024</time></h3>\\r\\n                    <div class=\"tc_mobile\">\\r\\n                    <div class=\"text_content \" itemprop=\"reviewBody\">&#9989; <strong><a href=\"https://www.airlinequality.com/verified-reviews/\"><em>Trip Verified</em></a></strong> |  A very enjoyable flight. I had originally booked a flight with the wide bodied A330-200 with lie flat seats and I was disappointed that they changed planes. Nevertheless, the service was excellent, with very tasty food and excellent wine. I also appreciated access to wifi.The plane arrived on time.</div>\\r\\n                    <div class=\"review-stats\">\\r\\n                        <table class=\"review-ratings\">\\r\\n                            <tr><td class=\"review-rating-header aircraft \">Aircraft</td><td class=\"review-value \">Boeing 737 800</td></tr>\\r\\n                            <tr><td class=\"review-rating-header type_of_traveller \">Type Of Traveller</td><td class=\"review-value \">Solo Leisure</td></tr>\\r\\n                            <tr><td class=\"review-rating-header cabin_flown \">Seat Type</td><td class=\"review-value \">Business Class</td></tr>\\r\\n                            <tr><td class=\"review-rating-header route \">Route</td><td class=\"review-value \">Melbourne to Perth</td></tr>\\r\\n                            <tr><td class=\"review-rating-header date_flown \">Date Flown</td><td class=\"review-value \">May 2024</td></tr>\\r\\n                            <tr>\\r\\n                                <td class=\"review-rating-header seat_comfort\">Seat Comfort</td>\\r\\n                                <td class=\"review-rating-stars stars\"><span class=\"star fill\">1</span><span class=\"star fill\">2</span><span class=\"star fill\">3</span><span class=\"star fill\">4</span><span class=\"star\">5</span></td>\\r\\n                            </tr>\\r\\n                            <tr>\\r\\n                                <td class=\"review-rating-header cabin_staff_service\">Cabin Staff Service</td>\\r\\n                                <td class=\"review-rating-stars stars\"><span class=\"star fill\">1</span><span class=\"star fill\">2</span><span class=\"star fill\">3</span><span class=\"star fill\">4</span><span class=\"star fill\">5</span></td>\\r\\n                            </tr>\\r\\n                            <tr>\\r\\n                                <td class=\"review-rating-header food_and_beverages\">Food &amp; Beverages</td>\\r\\n                                <td class=\"review-rating-stars stars\"><span class=\"star fill\">1</span><span class=\"star fill\">2</span><span class=\"star fill\">3</span><span class=\"star fill\">4</span><span class=\"star\">5</span></td>\\r\\n                            </tr>\\r\\n                            <tr>\\r\\n                                <td class=\"review-rating-header inflight_entertainment\">Inflight Entertainment</td>\\r\\n                                <td class=\"review-rating-stars stars\"><span class=\"star fill\">1</span><span class=\"star fill\">2</span><span class=\"star fill\">3</span><span class=\"star\">4</span><span class=\"star\">5</span></td>\\r\\n                            </tr>\\r\\n                            <tr>\\r\\n                                <td class=\"review-rating-header ground_service\">Ground Service</td>\\r\\n                                <td class=\"review-rating-stars stars\"><span class=\"star fill\">1</span><span class=\"star fill\">2</span><span class=\"star fill\">3</span><span class=\"star fill\">4</span><span class=\"star\">5</span></td>\\r\\n                            </tr>\\r\\n                            <tr>\\r\\n                                <td class=\"review-rating-header wifi_and_connectivity\">Wifi &amp; Connectivity</td>\\r\\n                                <td class=\"review-rating-stars stars\"><span class=\"star fill\">1</span><span class=\"star fill\">2</span><span class=\"star fill\">3</span><span class=\"star\">4</span><span class=\"star\">5</span></td>\\r\\n                            </tr>\\r\\n                            <tr>\\r\\n                                <td class=\"review-rating-header value_for_money\">Value For Money</td>\\r\\n                                <td class=\"review-rating-stars stars\"><span class=\"star fill\">1</span><span class=\"star fill\">2</span><span class=\"star fill\">3</span><span class=\"star\">4</span><span class=\"star\">5</span></td>\\r\\n                            </tr>\\r\\n                            <tr><td class=\"review-rating-header recommended\">Recommended</td><td class=\"review-value rating-yes\">yes</td></tr>        </table>\\r\\n\\r\\n                    </div>\\r\\n                    </div>\\r\\n                </div>\\r\\n\\r\\n                    <a href=\"#anchor896327\" class=\"toggle-click tc_mobile_only\"></a>\\r\\n            </article>\\n\\t\\t\\t\\t\\t\\t</article>\\n\\t\\t\\t\\t\\t\\t<div class=\\'col-content\\'>\\n\\t\\t\\t\\t\\t\\t\\t\\t\\t\\t\\t\\t\\t<article class=\"comp comp_reviews-pagination querylist-pagination position-\">\\n\\t\\t\\t\\t\\t\\t\\t\\t<ul>\\n\\t\\t\\t\\t\\t\\t\\t\\t\\t\\t\\t\\t\\t\\t\\t\\t\\t\\t\\t<li class=\"off\">\\n\\t\\t\\t\\t\\t\\t\\t\\t\\t\\t\\t<span>&lt;&lt;</span>\\n\\t\\t\\t\\t\\t\\t\\t\\t\\t\\t</li>\\n\\t\\t\\t\\t\\t\\t\\t\\t\\t\\t\\t\\t\\t\\t\\t\\t\\t\\t\\t\\t<li>\\n\\t\\t\\t\\t\\t\\t\\t\\t\\t\\t\\t\\t<a href=\"/airline-reviews/qantas-airways/page/1/\" class=\"active\">1</a>\\n\\t\\t\\t\\t\\t\\t\\t\\t\\t\\t\\t</li>\\n\\t\\t\\t\\t\\t\\t\\t\\t\\t\\t\\t\\t\\t\\t\\t\\t\\t\\t\\t\\t\\t<li>\\n\\t\\t\\t\\t\\t\\t\\t\\t\\t\\t\\t\\t<a href=\"/airline-reviews/qantas-airways/page/2/\" >2</a>\\n\\t\\t\\t\\t\\t\\t\\t\\t\\t\\t\\t</li>\\n\\t\\t\\t\\t\\t\\t\\t\\t\\t\\t\\t\\t\\t\\t\\t\\t\\t\\t\\t\\t\\t<li>\\n\\t\\t\\t\\t\\t\\t\\t\\t\\t\\t\\t\\t<a href=\"/airline-reviews/qantas-airways/page/3/\" >3</a>\\n\\t\\t\\t\\t\\t\\t\\t\\t\\t\\t\\t</li>\\n\\t\\t\\t\\t\\t\\t\\t\\t\\t\\t\\t\\t\\t\\t\\t\\t\\t\\t\\t\\t\\t<li class=\"off\">\\n\\t\\t\\t\\t\\t\\t\\t\\t\\t\\t\\t\\t<span>...</span>\\n\\t\\t\\t\\t\\t\\t\\t\\t\\t\\t\\t</li>\\n\\t\\t\\t\\t\\t\\t\\t\\t\\t\\t\\t\\t\\t\\t\\t\\t\\t\\t\\t\\t\\t\\t<li>\\n\\t\\t\\t\\t\\t\\t\\t\\t\\t\\t\\t\\t<a href=\"/airline-reviews/qantas-airways/page/189/\" >189</a>\\n\\t\\t\\t\\t\\t\\t\\t\\t\\t\\t\\t</li>\\n\\t\\t\\t\\t\\t\\t\\t\\t\\t\\t\\t\\t\\t\\t\\t\\t\\t\\t\\t\\t\\t<li>\\n\\t\\t\\t\\t\\t\\t\\t\\t\\t\\t\\t\\t<a href=\"/airline-reviews/qantas-airways/page/190/\" >190</a>\\n\\t\\t\\t\\t\\t\\t\\t\\t\\t\\t\\t</li>\\n\\t\\t\\t\\t\\t\\t\\t\\t\\t\\t\\t\\t\\t\\t\\t\\t\\t\\t\\t\\t\\t<li>\\n\\t\\t\\t\\t\\t\\t\\t\\t\\t\\t\\t\\t<a href=\"/airline-reviews/qantas-airways/page/191/\" >191</a>\\n\\t\\t\\t\\t\\t\\t\\t\\t\\t\\t\\t</li>\\n\\t\\t\\t\\t\\t\\t\\t\\t\\t\\t\\t\\t\\t\\t\\t\\t\\t\\t\\t\\t<li>\\n\\t\\t\\t\\t\\t\\t\\t\\t\\t\\t\\t<a href=\"/airline-reviews/qantas-airways/page/2/\">&gt;&gt;</a>\\n\\t\\t\\t\\t\\t\\t\\t\\t\\t\\t</li>\\n\\t\\t\\t\\t\\t\\t\\t\\t\\t\\t\\t\\t\\t\\t\\t\\t\\t</ul>\\n\\t\\t\\t\\t\\t\\t\\t\\t\\t\\t\\t\\t\\t\\t\\t\\t<div class=\"pagination-total\">1 to 10 of 1910 Reviews</div>\\n\\t\\t\\t\\t\\t\\t\\t</article>\\n\\t\\t\\t\\t\\t\\t\\n<!--\\n\\t\\t\\t\\t\\t\\t<article class=\"comp comp__adsense position-content leaderboard\">\\n\\t\\t\\t\\t\\t\\t\\t\\t\\t\\t\\t\\t\\t</article>\\n-->\\n\\t\\t\\t\\t\\t</div>\\n\\t\\t\\t\\t\\t</div>\\n\\t\\t\\t\\t\\t<div class=\\'col-right\\'>\\n\\t\\t\\t\\t\\t\\n\\t\\t\\t\\t\\t\\t\\t<div id=\"sidebar1\" class=\"sidebar large-4 medium-4 columns\" role=\"complementary\">\\n\\t\\n\\t<div id=\"custom_html-7\" class=\"widget_text widget widget_custom_html\"><h2 class=\"text_header\">World&#8217;s Best Airlines in 2024</h2><div class=\"textwidget custom-html-widget\">» The <strong><a target=\"_blank\" href=\"https://www.worldairlineawards.com/\" rel=\"noopener\">Worlds Best Airlines in 2024</a></strong> are announced</div></div>        <div class=\"aq-ad\">\\n\\t        <script async src=\"//pagead2.googlesyndication.com/pagead/js/adsbygoogle.js\"></script>\\n\\t\\t\\t<ins class=\"adsbygoogle\"\\n\\t\\t\\t     style=\"display:block; width:300px;\"\\n\\t\\t\\t     data-ad-client=\"ca-pub-7401091822721150\"\\n\\t\\t\\t     data-ad-slot=\"3494250443\"\\n\\t\\t\\t     data-ad-format=\"auto\"></ins>\\n\\t\\t\\t<script>\\n\\t\\t\\t(adsbygoogle = window.adsbygoogle || []).push({});\\n\\t\\t\\t</script>\\n        </div>\\n    <div id=\"custom_html-8\" class=\"widget_text widget widget_custom_html\"><h2 class=\"text_header\">World&#8217;s Best Airports in 2024</h2><div class=\"textwidget custom-html-widget\">» The <strong><a target=\"_blank\" href=\"https://www.worldairportawards.com/\" rel=\"noopener\">Worlds Best Airports 2024</a></strong> are announced</div></div><div id=\"custom_html-31\" class=\"widget_text widget widget_custom_html\"><div class=\"textwidget custom-html-widget\"><hr></div></div><div id=\"custom_html-12\" class=\"widget_text widget widget_custom_html\"><h2 class=\"text_header\">THE BEST AIRLINE CABIN CREW</h2><div class=\"textwidget custom-html-widget\">» The <strong><a target=\"_blank\" href=\"https://www.worldairlineawards.com/worlds-best-airline-cabin-crew-2024/\" rel=\"noopener\">Worlds Best Airline Cabin Crew 2024 Awards</a></strong> are announced</div></div>        <div class=\"aq-ad\">\\n\\t        <script async src=\"//pagead2.googlesyndication.com/pagead/js/adsbygoogle.js\"></script>\\n\\t\\t\\t<ins class=\"adsbygoogle\"\\n\\t\\t\\t     style=\"display:block; width:300px;\"\\n\\t\\t\\t     data-ad-client=\"ca-pub-7401091822721150\"\\n\\t\\t\\t     data-ad-slot=\"4151821647\"\\n\\t\\t\\t     data-ad-format=\"rectangle\"></ins>\\n\\t\\t\\t<script>\\n\\t\\t\\t(adsbygoogle = window.adsbygoogle || []).push({});\\n\\t\\t\\t</script>\\n        </div>\\n            <article class=\"comp position-content mediumrectangle review-photos\">\\n\\t\\t\\t<h2 class=\"text_header\">Qantas Airways Photos</h2>\\n    \\t\\t<div class=\"\">\\n\\t\\t\\t<ul class=\\'clearing-thumbs\\' data-clearing><li class=\\'\\'><a href=\\'https://www.airlinequality.com/wp-content/uploads/2024/04/20240420_211822-scaled.jpg\\'><img width=\"150\" height=\"150\" src=\"https://www.airlinequality.com/wp-content/uploads/2024/04/20240420_211822-150x150.jpg\" class=\"attachment-thumbnail size-thumbnail\" alt=\"\" decoding=\"async\" srcset=\"https://www.airlinequality.com/wp-content/uploads/2024/04/20240420_211822-150x150.jpg 150w, https://www.airlinequality.com/wp-content/uploads/2024/04/20240420_211822-125x125.jpg 125w, https://www.airlinequality.com/wp-content/uploads/2024/04/20240420_211822-120x120.jpg 120w, https://www.airlinequality.com/wp-content/uploads/2024/04/20240420_211822-95x95.jpg 95w, https://www.airlinequality.com/wp-content/uploads/2024/04/20240420_211822-180x180.jpg 180w, https://www.airlinequality.com/wp-content/uploads/2024/04/20240420_211822-50x50.jpg 50w, https://www.airlinequality.com/wp-content/uploads/2024/04/20240420_211822-500x500.jpg 500w\" sizes=\"(max-width: 150px) 100vw, 150px\" /></a></li><li class=\\'\\'><a href=\\'https://www.airlinequality.com/wp-content/uploads/2024/03/20240304_083711-scaled.jpg\\'><img width=\"150\" height=\"150\" src=\"https://www.airlinequality.com/wp-content/uploads/2024/03/20240304_083711-150x150.jpg\" class=\"attachment-thumbnail size-thumbnail\" alt=\"\" decoding=\"async\" srcset=\"https://www.airlinequality.com/wp-content/uploads/2024/03/20240304_083711-150x150.jpg 150w, https://www.airlinequality.com/wp-content/uploads/2024/03/20240304_083711-125x125.jpg 125w, https://www.airlinequality.com/wp-content/uploads/2024/03/20240304_083711-120x120.jpg 120w, https://www.airlinequality.com/wp-content/uploads/2024/03/20240304_083711-95x95.jpg 95w, https://www.airlinequality.com/wp-content/uploads/2024/03/20240304_083711-180x180.jpg 180w, https://www.airlinequality.com/wp-content/uploads/2024/03/20240304_083711-50x50.jpg 50w, https://www.airlinequality.com/wp-content/uploads/2024/03/20240304_083711-500x500.jpg 500w\" sizes=\"(max-width: 150px) 100vw, 150px\" /></a></li><li class=\\'\\'><a href=\\'https://www.airlinequality.com/wp-content/uploads/2024/01/F2D38FA9-8FDA-4F46-99FA-C0CCED0F24C2-scaled.jpeg\\'><img width=\"150\" height=\"150\" src=\"https://www.airlinequality.com/wp-content/uploads/2024/01/F2D38FA9-8FDA-4F46-99FA-C0CCED0F24C2-150x150.jpeg\" class=\"attachment-thumbnail size-thumbnail\" alt=\"\" decoding=\"async\" srcset=\"https://www.airlinequality.com/wp-content/uploads/2024/01/F2D38FA9-8FDA-4F46-99FA-C0CCED0F24C2-150x150.jpeg 150w, https://www.airlinequality.com/wp-content/uploads/2024/01/F2D38FA9-8FDA-4F46-99FA-C0CCED0F24C2-125x125.jpeg 125w, https://www.airlinequality.com/wp-content/uploads/2024/01/F2D38FA9-8FDA-4F46-99FA-C0CCED0F24C2-120x120.jpeg 120w, https://www.airlinequality.com/wp-content/uploads/2024/01/F2D38FA9-8FDA-4F46-99FA-C0CCED0F24C2-95x95.jpeg 95w, https://www.airlinequality.com/wp-content/uploads/2024/01/F2D38FA9-8FDA-4F46-99FA-C0CCED0F24C2-180x180.jpeg 180w, https://www.airlinequality.com/wp-content/uploads/2024/01/F2D38FA9-8FDA-4F46-99FA-C0CCED0F24C2-50x50.jpeg 50w, https://www.airlinequality.com/wp-content/uploads/2024/01/F2D38FA9-8FDA-4F46-99FA-C0CCED0F24C2-500x500.jpeg 500w\" sizes=\"(max-width: 150px) 100vw, 150px\" /></a></li><li class=\\'\\'><a href=\\'\\'></a></li></ul>    \\t\\t</div>\\n    \\t\\t<form action=\"/review-pages/gallery-airline-reviews/\" method=\"post\" id=\"gallery-form\">\\n\\t    \\t\\t<input type=\"hidden\" name=\"reviewID\" value=\"156361\" />\\n    \\t\\t\\t<button class=\"button\" onclick=\"document.getElementById(\\'gallery-form\\').submit();\">\\n\\t\\t\\t\\tView All Photos    \\t\\t\\t</button>\\n    \\t\\t</form>\\n        </article>\\n            <div class=\"aq-ad\">\\n\\t        <script async src=\"//pagead2.googlesyndication.com/pagead/js/adsbygoogle.js\"></script>\\n\\t\\t\\t<ins class=\"adsbygoogle\"\\n\\t\\t\\t     style=\"display:block; width:300px;\"\\n\\t\\t\\t     data-ad-client=\"ca-pub-7401091822721150\"\\n\\t\\t\\t     data-ad-slot=\"4151821647\"\\n\\t\\t\\t     data-ad-format=\"rectangle\"></ins>\\n\\t\\t\\t<script>\\n\\t\\t\\t(adsbygoogle = window.adsbygoogle || []).push({});\\n\\t\\t\\t</script>\\n        </div>\\n    \\n\\t\\n\\n</div>\\n\\t\\t\\t\\t\\t\\t\\n\\n\\n\\t\\t\\t\\t\\t\\t</div>\\n\\t\\t\\t\\t\\t</div>\\n\\t\\t\\t\\t</section>\\n\\t\\t\\t</div> <!-- end #main -->\\n\\t\\t</div> <!-- end #inner-content -->\\n\\t</div> <!-- end #content -->\\n    <div id=\"content\">\\n        <div id=\"inner-content\" class=\"clearfix\">\\n            <div id=\"main\" role=\"main\">\\n\\n                <section class=\"layout-section layout-1 border-top\">\\n                    <div class=\\'col-content\\'>\\n                                <div class=\"aq-ad\">\\n\\t        <script async src=\"//pagead2.googlesyndication.com/pagead/js/adsbygoogle.js\"></script>\\n\\t\\t\\t<ins class=\"adsbygoogle\"\\n\\t\\t\\t     style=\"display:block;\"\\n\\t\\t\\t     data-ad-client=\"ca-pub-7401091822721150\"\\n\\t\\t\\t     data-ad-slot=\"1761601644\"\\n\\t\\t\\t     data-ad-format=\"auto\"></ins>\\n\\t\\t\\t<script>\\n\\t\\t\\t(adsbygoogle = window.adsbygoogle || []).push({});\\n\\t\\t\\t</script>\\n        </div>\\n                        </div>\\n                </section>\\n\\n            </div>\\n        </div>\\n    </div>\\n\\n\\n<script async src=\"//pagead2.googlesyndication.com/pagead/js/adsbygoogle.js\"></script>\\n<ins class=\"adsbygoogle\"\\n    style=\"display:none\"\\n    data-ad-client=\"ca-pub-7401091822721150\"\\n    data-reactive-ad-format=\"1\"\\n    data-ad-channel=\"8143418842\"></ins>\\n<script>(adsbygoogle = window.adsbygoogle || []).push({});</script>\\n<footer class=\"footer clearfix\" role=\"contentinfo\">\\n    <div id=\"inner-footer\">\\n        <div class=\"footer-nav quick-links\">\\n            <h2>Quick Links</h2>\\n            <ul id=\"menu-quick-links\" class=\"footer-main-nav side-nav\"><li id=\"menu-item-155421\" class=\"menu-item menu-item-type-post_type menu-item-object-page menu-item-155421\"><a href=\"https://www.airlinequality.com/info/cookies/\">Cookies Policy</a></li>\\n<li id=\"menu-item-884780\" class=\"menu-item menu-item-type-post_type menu-item-object-page menu-item-884780\"><a href=\"https://www.airlinequality.com/info/privacy-policy/\">Privacy Policy</a></li>\\n<li id=\"menu-item-88544\" class=\"menu-item menu-item-type-post_type menu-item-object-page menu-item-88544\"><a href=\"https://www.airlinequality.com/info/legal-use/\">Terms &#038; Conditions</a></li>\\n<li id=\"menu-item-88548\" class=\"menu-item menu-item-type-post_type menu-item-object-page menu-item-88548\"><a href=\"https://www.airlinequality.com/info/editorial-policy/\">Editorial Policy</a></li>\\n</ul>        </div>\\n        <div class=\"footer-nav about-links\">\\n            <h2>About</h2>\\n            <ul id=\"menu-about-links\" class=\"footer-sub-nav  side-nav\"><li id=\"menu-item-88793\" class=\"menu-item menu-item-type-post_type menu-item-object-page menu-item-88793\"><a href=\"https://www.airlinequality.com/contact-us/\">Contact &#038; Feedback</a></li>\\n<li id=\"menu-item-154908\" class=\"menu-item menu-item-type-post_type menu-item-object-page menu-item-154908\"><a href=\"https://www.airlinequality.com/info/support/\">Help &#038; Support</a></li>\\n<li id=\"menu-item-88796\" class=\"menu-item menu-item-type-post_type menu-item-object-page menu-item-88796\"><a href=\"https://www.airlinequality.com/about-us/\">About Us</a></li>\\n<li id=\"menu-item-667262\" class=\"menu-item menu-item-type-post_type menu-item-object-page menu-item-667262\"><a href=\"https://www.airlinequality.com/site-map/\">Site Map</a></li>\\n</ul>        </div>\\n\\n        <div class=\"description\">\\n\\t                        <p>The comprehensive Airline and Airport customer review site for airlines and airports across the world. Read traveller reviews and opinions for Airlines and Airports worldwide, airline lounges and airline Seats. View airline, airport, seat, and lounge photos. </p>\\n\\t\\t\\t            <p>&copy; 1999-2024 Copyright SKYTRAX</p>\\n\\t\\t\\t<ul class=\"social\">\\n\\t<li class=\"facebook\">\\n\\t\\t<a href=\"https://www.facebook.com/pages/Skytrax/110801075638605\" target=\"_blank\">Follow us on facebook</a>\\n\\t</li>\\n\\t<li class=\"twitter\">\\n\\t\\t<a href=\"https://twitter.com/airlinequality\" target=\"_blank\">Follow us on twitter</a>\\n\\t</li>\\n\\t<li class=\"youtube\">\\n\\t\\t<a href=\"https://www.youtube.com/channel/UCxnW-L6M9GZPeShvIq5x-Ug\" target=\"_blank\">Follow us on YouTube</a>\\n\\t</li>\\n\\t<li class=\"instagram\">\\n\\t\\t<a href=\"https://instagram.com/skytrax_uk/\" target=\"_blank\">Follow us on Instagram</a>\\n\\t</li>\\n</ul>\\n        </div>\\n    </div>\\n<!--    <div class=\"credit\">-->\\n<!-- <p><a href=\"http://gendall.co.uk/\">Developed by Gendall</a></p>-->\\n<!--    </div>-->\\n    <!-- end #inner-footer -->\\n</footer> <!-- end .footer -->\\n</div> <!-- end #container -->\\n<!-- </div> --> <!-- end .inner-wrap -->\\n<!-- </div> --> <!-- end .off-canvas-wrap -->\\n\\n    \\n\\n<!-- all js scripts are loaded in library/joints.php -->\\n<script type=\"text/javascript\" id=\"google_cse_v2-js-extra\">\\n/* <![CDATA[ */\\nvar scriptParams = {\"google_search_engine_id\":\"017679995690221766716:2jeansnuuqa\"};\\n/* ]]> */\\n</script>\\n<script type=\"text/javascript\" src=\"https://www.airlinequality.com/wp-content/plugins/wp-google-search/assets/js/google_cse_v2.js\" id=\"google_cse_v2-js\" defer></script>\\n<script type=\"text/javascript\" src=\"https://www.airlinequality.com/wp-content/themes/airlinequality2014new/library/js/foundation/foundation.js\" id=\"foundation-js-js\" defer></script>\\n<script type=\"text/javascript\" src=\"https://www.airlinequality.com/wp-content/themes/airlinequality2014new/library/js/foundation/foundation.offcanvas.js\" id=\"foundation-js-offcanvas-js\" defer></script>\\n<script type=\"text/javascript\" src=\"https://www.airlinequality.com/wp-content/themes/airlinequality2014new/library/js/foundation/foundation.tab.js\" id=\"foundation-js-tab-js\" defer></script>\\n<script type=\"text/javascript\" src=\"https://www.airlinequality.com/wp-content/themes/airlinequality2014new/library/js/foundation/foundation.dropdown.js\" id=\"foundation-js-dropdown-js\" defer></script>\\n<script type=\"text/javascript\" src=\"https://www.airlinequality.com/wp-content/themes/airlinequality2014new/library/js/foundation/foundation.abide.js\" id=\"foundation-js-abide-js\" defer></script>\\n<script type=\"text/javascript\" src=\"https://www.airlinequality.com/wp-content/themes/airlinequality2014new/library/js/foundation/foundation.clearing.js\" id=\"foundation-js-clearing-js\" defer></script>\\n<script type=\"text/javascript\" src=\"https://www.airlinequality.com/wp-content/themes/airlinequality2014new/library/js/foundation/foundation.accordion.js\" id=\"foundation-js-accordion-js\" defer></script>\\n<script type=\"text/javascript\" src=\"https://www.airlinequality.com/wp-content/themes/airlinequality2014new/library/js/foundation/foundation.tooltip.js\" id=\"foundation-js-tooltip-js\" defer></script>\\n<script type=\"text/javascript\" src=\"https://www.airlinequality.com/wp-includes/js/jquery/ui/core.min.js\" id=\"jquery-ui-core-js\" defer></script>\\n<script type=\"text/javascript\" src=\"https://www.airlinequality.com/wp-includes/js/jquery/ui/mouse.min.js\" id=\"jquery-ui-mouse-js\" defer></script>\\n<script type=\"text/javascript\" src=\"https://www.airlinequality.com/wp-includes/js/jquery/ui/slider.min.js\" id=\"jquery-ui-slider-js\" defer></script>\\n<script type=\"text/javascript\" src=\"https://www.airlinequality.com/wp-content/themes/airlinequality2014new/library/js/vendor/jquery.ui.touch-punch.min.js\" id=\"touchpunch-js\" defer></script>\\n<script type=\"text/javascript\" src=\"https://www.airlinequality.com/wp-content/themes/airlinequality2014new/library/js/vendor/lightbox.min.js\" id=\"lightbox-js\" defer></script>\\n<script type=\"text/javascript\" src=\"https://www.airlinequality.com/wp-content/themes/airlinequality2014new/library/js/vendor/textcounter.min.js\" id=\"textCounter-js\" defer></script>\\n<script type=\"text/javascript\" src=\"//cdn.jsdelivr.net/npm/slick-carousel@1.8.1/slick/slick.min.js\" id=\"slick-js\" defer></script>\\n<script type=\"text/javascript\" src=\"https://www.airlinequality.com/wp-includes/js/jquery/ui/menu.min.js\" id=\"jquery-ui-menu-js\" defer></script>\\n<script type=\"text/javascript\" src=\"https://www.airlinequality.com/wp-includes/js/dist/vendor/wp-polyfill-inert.min.js\" id=\"wp-polyfill-inert-js\" defer></script>\\n<script type=\"text/javascript\" src=\"https://www.airlinequality.com/wp-includes/js/dist/vendor/regenerator-runtime.min.js\" id=\"regenerator-runtime-js\" defer></script>\\n<script type=\"text/javascript\" src=\"https://www.airlinequality.com/wp-includes/js/dist/vendor/wp-polyfill.min.js\" id=\"wp-polyfill-js\"></script>\\n<script type=\"text/javascript\" src=\"https://www.airlinequality.com/wp-includes/js/dist/dom-ready.min.js\" id=\"wp-dom-ready-js\" defer></script>\\n<script type=\"text/javascript\" src=\"https://www.airlinequality.com/wp-includes/js/dist/hooks.min.js\" id=\"wp-hooks-js\"></script>\\n<script type=\"text/javascript\" src=\"https://www.airlinequality.com/wp-includes/js/dist/i18n.min.js\" id=\"wp-i18n-js\"></script>\\n<script type=\"text/javascript\" id=\"wp-i18n-js-after\">\\n/* <![CDATA[ */\\nwp.i18n.setLocaleData( { \\'text direction\\\\u0004ltr\\': [ \\'ltr\\' ] } );\\n/* ]]> */\\n</script>\\n<script type=\"text/javascript\" id=\"wp-a11y-js-translations\">\\n/* <![CDATA[ */\\n( function( domain, translations ) {\\n\\tvar localeData = translations.locale_data[ domain ] || translations.locale_data.messages;\\n\\tlocaleData[\"\"].domain = domain;\\n\\twp.i18n.setLocaleData( localeData, domain );\\n} )( \"default\", {\"translation-revision-date\":\"2024-04-09 12:18:08+0000\",\"generator\":\"GlotPress\\\\/4.0.1\",\"domain\":\"messages\",\"locale_data\":{\"messages\":{\"\":{\"domain\":\"messages\",\"plural-forms\":\"nplurals=2; plural=n != 1;\",\"lang\":\"en_GB\"},\"Notifications\":[\"Notifications\"]}},\"comment\":{\"reference\":\"wp-includes\\\\/js\\\\/dist\\\\/a11y.js\"}} );\\n/* ]]> */\\n</script>\\n<script type=\"text/javascript\" src=\"https://www.airlinequality.com/wp-includes/js/dist/a11y.min.js\" id=\"wp-a11y-js\" defer></script>\\n<script type=\"text/javascript\" src=\"https://www.airlinequality.com/wp-includes/js/jquery/ui/autocomplete.min.js\" id=\"jquery-ui-autocomplete-js\" defer></script>\\n<script type=\"text/javascript\" src=\"https://www.airlinequality.com/wp-content/themes/airlinequality2014new/library/js/scripts.js\" id=\"joints-js-js\" defer></script>\\n<!--[if lt IE 9]>\\n<script src=\"library/js/rem.js\" type=\"text/javascript\"></script>\\n<![endif]-->\\n<script>\\n  (function(i,s,o,g,r,a,m){i[\\'GoogleAnalyticsObject\\']=r;i[r]=i[r]||function(){\\n  (i[r].q=i[r].q||[]).push(arguments)},i[r].l=1*new Date();a=s.createElement(o),\\n  m=s.getElementsByTagName(o)[0];a.async=1;a.src=g;m.parentNode.insertBefore(a,m)\\n  })(window,document,\\'script\\',\\'https://www.google-analytics.com/analytics.js\\',\\'ga\\');\\n  ga(\\'create\\', \\'UA-7107328-1\\', \\'auto\\');\\n  ga(\\'send\\', \\'pageview\\');\\n</script>\\n</body>\\n\\n</html> <!-- end page -->\\n<!-- This website is like a Rocket, isn\\'t it? Performance optimized by WP Rocket. Learn more: https://wp-rocket.me - Debug: cached@1720436793 -->'"
      ]
     },
     "execution_count": 4,
     "metadata": {},
     "output_type": "execute_result"
    }
   ],
   "source": [
    "html_content"
   ]
  },
  {
   "cell_type": "markdown",
   "id": "6500537a",
   "metadata": {
    "heading_collapsed": true,
    "hidden": true
   },
   "source": [
    "#### Scraping Airline Reviews"
   ]
  },
  {
   "cell_type": "code",
   "execution_count": 61,
   "id": "73805abd",
   "metadata": {
    "hidden": true
   },
   "outputs": [
    {
     "name": "stdout",
     "output_type": "stream",
     "text": [
      "Scraping page 1\n",
      "Scraping page 2\n",
      "Scraping page 3\n",
      "Scraping page 4\n",
      "Scraping page 5\n",
      "Scraping page 6\n",
      "Scraping page 7\n",
      "Scraping page 8\n",
      "Scraping page 9\n",
      "Scraping page 10\n",
      "Scraping page 11\n",
      "Scraping page 12\n",
      "Scraping page 13\n",
      "Scraping page 14\n",
      "Scraping page 15\n",
      "Scraping page 16\n",
      "Scraping page 17\n",
      "Scraping page 18\n",
      "Scraping page 19\n",
      "Scraping page 20\n",
      "Scraping page 21\n",
      "Scraping page 22\n",
      "Scraping page 23\n",
      "Scraping page 24\n",
      "Scraping page 25\n",
      "Scraping page 26\n",
      "Scraping page 27\n",
      "Scraping page 28\n",
      "Scraping page 29\n",
      "Scraping page 30\n",
      "Scraping page 31\n",
      "Scraping page 32\n",
      "Scraping page 33\n",
      "Scraping page 34\n",
      "Scraping page 35\n",
      "Scraping page 36\n",
      "Scraping page 37\n",
      "Scraping page 38\n",
      "Scraping page 39\n",
      "Scraping page 40\n",
      "Scraping page 41\n",
      "Scraping page 42\n",
      "Scraping page 43\n",
      "Scraping page 44\n",
      "Scraping page 45\n",
      "Scraping page 46\n",
      "Scraping page 47\n",
      "Scraping page 48\n",
      "Scraping page 49\n",
      "Scraping page 50\n",
      "Scraping page 51\n",
      "Scraping page 52\n",
      "Scraping page 53\n",
      "Scraping page 54\n",
      "Scraping page 55\n",
      "Scraping page 56\n",
      "Scraping page 57\n",
      "Scraping page 58\n",
      "Scraping page 59\n",
      "Scraping page 60\n",
      "Scraping page 61\n",
      "Scraping page 62\n",
      "Scraping page 63\n",
      "Scraping page 64\n",
      "Scraping page 65\n",
      "Scraping page 66\n",
      "Scraping page 67\n",
      "Scraping page 68\n",
      "Scraping page 69\n",
      "Scraping page 70\n",
      "Scraping page 71\n",
      "Scraping page 72\n",
      "Scraping page 73\n",
      "Scraping page 74\n",
      "Scraping page 75\n",
      "Scraping page 76\n",
      "Scraping page 77\n",
      "Scraping page 78\n",
      "Scraping page 79\n",
      "Scraping page 80\n",
      "Scraping page 81\n",
      "Scraping page 82\n",
      "Scraping page 83\n",
      "Scraping page 84\n",
      "Scraping page 85\n",
      "Scraping page 86\n",
      "Scraping page 87\n",
      "Scraping page 88\n",
      "Scraping page 89\n",
      "Scraping page 90\n",
      "Scraping page 91\n",
      "Scraping page 92\n",
      "Scraping page 93\n",
      "Scraping page 94\n",
      "Scraping page 95\n",
      "Scraping page 96\n",
      "Scraping page 97\n",
      "Scraping page 98\n",
      "Scraping page 99\n",
      "Scraping page 100\n",
      "Scraping page 101\n",
      "Scraping page 102\n",
      "Scraping page 103\n",
      "Scraping page 104\n",
      "Scraping page 105\n",
      "Scraping page 106\n",
      "Scraping page 107\n",
      "Scraping page 108\n",
      "Scraping page 109\n",
      "Scraping page 110\n",
      "Scraping page 111\n",
      "Scraping page 112\n",
      "Scraping page 113\n",
      "Scraping page 114\n",
      "Scraping page 115\n",
      "Scraping page 116\n",
      "Scraping page 117\n",
      "Scraping page 118\n",
      "Scraping page 119\n",
      "Scraping page 120\n",
      "Scraping page 121\n",
      "Scraping page 122\n",
      "Scraping page 123\n",
      "Scraping page 124\n",
      "Scraping page 125\n",
      "Scraping page 126\n",
      "Scraping page 127\n",
      "Scraping page 128\n",
      "Scraping page 129\n",
      "Scraping page 130\n",
      "Scraping page 131\n",
      "Scraping page 132\n",
      "Scraping page 133\n",
      "Scraping page 134\n",
      "Scraping page 135\n",
      "Scraping page 136\n",
      "Scraping page 137\n",
      "Scraping page 138\n",
      "Scraping page 139\n",
      "Scraping page 140\n",
      "Scraping page 141\n",
      "Scraping page 142\n",
      "Scraping page 143\n",
      "Scraping page 144\n",
      "Scraping page 145\n",
      "Scraping page 146\n",
      "Scraping page 147\n",
      "Scraping page 148\n",
      "Scraping page 149\n",
      "Scraping page 150\n",
      "Scraping page 151\n",
      "Scraping page 152\n",
      "Scraping page 153\n",
      "Scraping page 154\n",
      "Scraping page 155\n",
      "Scraping page 156\n",
      "Scraping page 157\n",
      "Scraping page 158\n",
      "Scraping page 159\n",
      "Scraping page 160\n",
      "Scraping page 161\n",
      "Scraping page 162\n",
      "Scraping page 163\n",
      "Scraping page 164\n",
      "Scraping page 165\n",
      "Scraping page 166\n",
      "Scraping page 167\n",
      "Scraping page 168\n",
      "Scraping page 169\n",
      "Scraping page 170\n",
      "Scraping page 171\n",
      "Scraping page 172\n",
      "Scraping page 173\n",
      "Scraping page 174\n",
      "Scraping page 175\n",
      "Scraping page 176\n",
      "Scraping page 177\n",
      "Scraping page 178\n",
      "Scraping page 179\n",
      "Scraping page 180\n",
      "Scraping page 181\n",
      "Scraping page 182\n",
      "Scraping page 183\n",
      "Scraping page 184\n",
      "Scraping page 185\n",
      "Scraping page 186\n",
      "Scraping page 187\n",
      "Scraping page 188\n",
      "Scraping page 189\n",
      "Scraping page 190\n",
      "Scraping page 191\n",
      "Scraping page 192\n",
      "No more pages to scrape or page not found.\n",
      "                                 title         author        date  \\\n",
      "0                 \"Significant delays\"        C Meade  2024-07-03   \n",
      "1           \"food quality was abysmal\"      K Jasmine  2024-06-29   \n",
      "2  \"wasted money on a business ticket\"        T Bayne  2024-06-25   \n",
      "3         \"think about the food needs\"        W Neale  2024-06-20   \n",
      "4            \"Another horrific flight\"  Robin Esdaile  2024-06-07   \n",
      "\n",
      "                                                body rating        aircraft  \\\n",
      "0  ✅ Trip Verified |  Significant delays with fir...      4  boeing 737-800   \n",
      "1  Not Verified |   I recently flew with Qantas a...      2             NaN   \n",
      "2  ✅ Trip Verified |  My husband and I went to Au...      2      boeing 737   \n",
      "3  ✅ Trip Verified |  I travelled with my husband...      4             NaN   \n",
      "4  ✅ Trip Verified |  Another horrific flight end...      3            a380   \n",
      "\n",
      "  type_of_traveller       seat_type                               route  \\\n",
      "0          business   economy class                  adelaide to sydney   \n",
      "1      solo leisure   economy class                 melbourne to sydney   \n",
      "2    couple leisure  business class  auckland to adelaide via melbourne   \n",
      "3          business  business class           sydney to dili via darwin   \n",
      "4          business   economy class      sydney to london via singapore   \n",
      "\n",
      "   date_flown  seat_comfort  cabin_staff_service  food_&_beverages  \\\n",
      "0   june 2024           3.0                  4.0               3.0   \n",
      "1  april 2024           1.0                  1.0               NaN   \n",
      "2   june 2024           1.0                  4.0               3.0   \n",
      "3   june 2024           2.0                  3.0               2.0   \n",
      "4   june 2024           3.0                  2.0               1.0   \n",
      "\n",
      "   inflight_entertainment  ground_service  wifi_&_connectivity  \\\n",
      "0                     4.0             2.0                  4.0   \n",
      "1                     NaN             1.0                  NaN   \n",
      "2                     1.0             2.0                  1.0   \n",
      "3                     2.0             2.0                  2.0   \n",
      "4                     3.0             2.0                  1.0   \n",
      "\n",
      "   value_for_money recommended  \n",
      "0              2.0         yes  \n",
      "1              2.0          no  \n",
      "2              1.0          no  \n",
      "3              2.0          no  \n",
      "4              2.0          no  \n"
     ]
    }
   ],
   "source": [
    "def parse_star_rating(star_container):\n",
    "    # Check for star ratings\n",
    "    stars = star_container.find_all('span', class_='star')\n",
    "    if stars:\n",
    "        rating = sum(1 for star in stars if 'fill' in star['class'])\n",
    "        return rating\n",
    "    # Handle textual responses\n",
    "    textual_rating = star_container.text.strip().lower()\n",
    "    if textual_rating in ['yes', 'no']:\n",
    "        return textual_rating\n",
    "    return 'No rating'  # Default case if no stars or known text is found\n",
    "\n",
    "def fetch_reviews(url):\n",
    "    # Fetch the page\n",
    "    response = requests.get(url)\n",
    "    response.raise_for_status()  # This will raise an error if the fetch fails\n",
    "\n",
    "    # Parse the HTML\n",
    "    soup = BeautifulSoup(response.text, 'html.parser')\n",
    "    \n",
    "    # Find all review articles\n",
    "    reviews = soup.find_all('article', itemprop='review')\n",
    "    all_reviews = []\n",
    "    \n",
    "    for review in reviews:\n",
    "        review_details = {\n",
    "            'title': review.find('h2', class_='text_header').text.strip() if review.find('h2', class_='text_header') else 'No title',\n",
    "            'author': review.find('span', itemprop='name').text.strip() if review.find('span', itemprop='name') else 'Anonymous',\n",
    "            'date': review.find('time', itemprop='datePublished')['datetime'] if review.find('time', itemprop='datePublished') else 'No date',\n",
    "            'body': review.find('div', class_='text_content').text.strip() if review.find('div', class_='text_content') else 'No content',\n",
    "            'rating': review.find('div', itemprop='reviewRating').find('span', itemprop='ratingValue').text if review.find('div', itemprop='reviewRating') else 'No rating'\n",
    "        }\n",
    "\n",
    "        # Parse ratings\n",
    "        rating_table = review.find('table', class_='review-ratings')\n",
    "        if rating_table:\n",
    "            for row in rating_table.find_all('tr'):\n",
    "                category = row.find('td', class_='review-rating-header').text.strip().replace(' ', '_').lower()\n",
    "                stars = row.find('td', class_='review-rating-stars')\n",
    "                if stars:\n",
    "                    review_details[category] = parse_star_rating(stars)\n",
    "                else:\n",
    "                    # Handle rows where no star spans are found, might be textual\n",
    "                    review_details[category] = row.find('td', class_='review-value').text.strip().lower()\n",
    "\n",
    "        all_reviews.append(review_details)\n",
    "    \n",
    "    return all_reviews, soup\n",
    "\n",
    "def main():\n",
    "    base_url = 'https://www.airlinequality.com/airline-reviews/qantas-airways/page/'\n",
    "    \n",
    "    all_data = []\n",
    "    current_page = 1\n",
    "    \n",
    "    while True:\n",
    "        print(f\"Scraping page {current_page}\")\n",
    "        url = f\"{base_url}{current_page}/\"\n",
    "        reviews, soup = fetch_reviews(url)\n",
    "        \n",
    "        if reviews is None or not reviews:\n",
    "            print(\"No more pages to scrape or page not found.\")\n",
    "            break\n",
    "        all_data.extend(reviews)\n",
    "        current_page += 1\n",
    "\n",
    "    df = pd.DataFrame(all_data)\n",
    "    return df\n",
    "\n",
    "if __name__ == '__main__':\n",
    "    airline_review_df = main()\n",
    "    print(airline_review_df.head())\n",
    "    "
   ]
  },
  {
   "cell_type": "markdown",
   "id": "15c990a7",
   "metadata": {
    "heading_collapsed": true,
    "hidden": true
   },
   "source": [
    "#### Scraping Seat Reviews"
   ]
  },
  {
   "cell_type": "code",
   "execution_count": 70,
   "id": "43a5e8cf",
   "metadata": {
    "hidden": true
   },
   "outputs": [
    {
     "name": "stdout",
     "output_type": "stream",
     "text": [
      "Scraping page 1\n",
      "Scraping page 2\n",
      "Scraping page 3\n",
      "Scraping page 4\n",
      "Scraping page 5\n",
      "Scraping page 6\n",
      "Scraping page 7\n",
      "Scraping page 8\n",
      "Scraping page 9\n",
      "Scraping page 10\n",
      "Scraping page 11\n",
      "No more pages to scrape or page not found.\n",
      "                                    title                author        date  \\\n",
      "0  \"You are separated by a fixed divider”        Michael Kinder  2022-09-29   \n",
      "1               \"private and comfortable\"               B Heale  2020-01-08   \n",
      "2               \"very comfortable for me\"  Muhammad Tahir Hanif  2019-12-08   \n",
      "3                  \"seat was comfortable\"         Alan Sargeant  2019-10-21   \n",
      "4                \"cheap out on breakfast\"            Davy Adams  2019-10-20   \n",
      "\n",
      "                                                body rating       seat_type  \\\n",
      "0  ✅ Trip Verified |  In September we took our fi...      2  business class   \n",
      "1  ✅ Trip Verified |  The A380 has an extremely p...     10     first class   \n",
      "2  ✅ Trip Verified |  Seat was nice and wide, ver...      9   economy class   \n",
      "3  ✅ Trip Verified |  The A330-300 business class...      9  business class   \n",
      "4  ✅ Trip Verified |  Row 6 is sandwiched between...      5  business class   \n",
      "\n",
      "       aircraft_type    seat_layout      date_flown type_of_traveller  ...  \\\n",
      "0           a330-300          1x2x1  september 2022           leisure  ...   \n",
      "1               a380          1x1x1    january 2020          business  ...   \n",
      "2  boeing 787 / a330  3x3x3 / 2x4x2   november 2019      solo leisure  ...   \n",
      "3           a330-300          1x2x1     august 2019           leisure  ...   \n",
      "4           a330-200          1x2x1    october 2019           leisure  ...   \n",
      "\n",
      "   seat/bed_length  seat_privacy  power_supply  seat_storage  recommended  \\\n",
      "0              5.0           1.0           4.0           4.0           no   \n",
      "1              5.0           5.0           5.0           5.0          yes   \n",
      "2              NaN           NaN           5.0           5.0          yes   \n",
      "3              5.0           4.0           NaN           4.0          yes   \n",
      "4              5.0           1.0           5.0           5.0           no   \n",
      "\n",
      "   seat_legroom  seat_recline seat_width  aisle_space  viewing_tv_screen  \n",
      "0           NaN           NaN        NaN          NaN                NaN  \n",
      "1           NaN           NaN        NaN          NaN                NaN  \n",
      "2           5.0           4.0        4.0          4.0                5.0  \n",
      "3           NaN           NaN        NaN          NaN                NaN  \n",
      "4           NaN           NaN        NaN          NaN                NaN  \n",
      "\n",
      "[5 rows x 23 columns]\n"
     ]
    }
   ],
   "source": [
    "def parse_star_rating(star_container):\n",
    "    # Check for star ratings\n",
    "    stars = star_container.find_all('span', class_='star')\n",
    "    if stars:\n",
    "        rating = sum(1 for star in stars if 'fill' in star['class'])\n",
    "        return rating\n",
    "    # Handle textual responses\n",
    "    textual_rating = star_container.text.strip().lower()\n",
    "    if textual_rating in ['yes', 'no']:\n",
    "        return textual_rating\n",
    "    return 'No rating'  # Default case if no stars or known text is found\n",
    "\n",
    "def fetch_reviews(url):\n",
    "    # Fetch the page\n",
    "    response = requests.get(url)\n",
    "    response.raise_for_status()  # This will raise an error if the fetch fails\n",
    "\n",
    "    # Parse the HTML\n",
    "    soup = BeautifulSoup(response.text, 'html.parser')\n",
    "    \n",
    "    # Find all review articles\n",
    "    reviews = soup.find_all('article', itemprop='review')\n",
    "    all_reviews = []\n",
    "    \n",
    "    for review in reviews:\n",
    "        review_details = {\n",
    "            'title': review.find('h2', class_='text_header').text.strip() if review.find('h2', class_='text_header') else 'No title',\n",
    "            'author': review.find('span', itemprop='name').text.strip() if review.find('span', itemprop='name') else 'Anonymous',\n",
    "            'date': review.find('time', itemprop='datePublished')['datetime'] if review.find('time', itemprop='datePublished') else 'No date',\n",
    "            'body': review.find('div', class_='text_content').text.strip() if review.find('div', class_='text_content') else 'No content',\n",
    "            'rating': review.find('div', itemprop='reviewRating').find('span', itemprop='ratingValue').text if review.find('div', itemprop='reviewRating') else 'No rating'\n",
    "        }\n",
    "\n",
    "        # Parse ratings\n",
    "        rating_table = review.find('table', class_='review-ratings')\n",
    "        if rating_table:\n",
    "            for row in rating_table.find_all('tr'):\n",
    "                category = row.find('td', class_='review-rating-header').text.strip().replace(' ', '_').lower()\n",
    "                stars = row.find('td', class_='review-rating-stars')\n",
    "                if stars:\n",
    "                    review_details[category] = parse_star_rating(stars)\n",
    "                else:\n",
    "                    # Handle rows where no star spans are found, might be textual\n",
    "                    review_details[category] = row.find('td', class_='review-value').text.strip().lower()\n",
    "\n",
    "        all_reviews.append(review_details)\n",
    "    \n",
    "    return all_reviews, soup\n",
    "\n",
    "def main():\n",
    "    base_url = 'https://www.airlinequality.com/seat-reviews/qantas-airways/page/'\n",
    "    \n",
    "    all_data = []\n",
    "    current_page = 1\n",
    "    \n",
    "    while True:\n",
    "        print(f\"Scraping page {current_page}\")\n",
    "        url = f\"{base_url}{current_page}/\"\n",
    "        reviews, soup = fetch_reviews(url)\n",
    "        \n",
    "        if reviews is None or not reviews:\n",
    "            print(\"No more pages to scrape or page not found.\")\n",
    "            break\n",
    "        all_data.extend(reviews)\n",
    "        current_page += 1\n",
    "\n",
    "    df = pd.DataFrame(all_data)\n",
    "    return df\n",
    "\n",
    "if __name__ == '__main__':\n",
    "    seat_review_df = main()\n",
    "    print(seat_review_df.head())\n",
    "    "
   ]
  },
  {
   "cell_type": "markdown",
   "id": "dc6f0adb",
   "metadata": {
    "heading_collapsed": true,
    "hidden": true
   },
   "source": [
    "#### Scraping Lounge Reviews"
   ]
  },
  {
   "cell_type": "code",
   "execution_count": 78,
   "id": "13d0133c",
   "metadata": {
    "hidden": true
   },
   "outputs": [
    {
     "name": "stdout",
     "output_type": "stream",
     "text": [
      "Scraping page 1\n",
      "Scraping page 2\n",
      "Scraping page 3\n",
      "Scraping page 4\n",
      "Scraping page 5\n",
      "Scraping page 6\n",
      "Scraping page 7\n",
      "Scraping page 8\n",
      "Scraping page 9\n",
      "Scraping page 10\n",
      "Scraping page 11\n",
      "Scraping page 12\n",
      "Scraping page 13\n",
      "Scraping page 14\n",
      "Scraping page 15\n",
      "Scraping page 16\n",
      "Scraping page 17\n",
      "Scraping page 18\n",
      "Scraping page 19\n",
      "Scraping page 20\n",
      "Scraping page 21\n",
      "Scraping page 22\n",
      "Scraping page 23\n",
      "Scraping page 24\n",
      "Scraping page 25\n",
      "Scraping page 26\n",
      "Scraping page 27\n",
      "No more pages to scrape or page not found.\n",
      "                               title        author        date  \\\n",
      "0              \"noticed no GF foods\"  Irene Taylor  2024-05-30   \n",
      "1       \"The lounge was pretty grim\"  Tony Maddern  2023-12-21   \n",
      "2  \"really let their standards slip\"     M Kellett  2023-09-13   \n",
      "3  \"The lounge is absolutely filthy\"      O Binder  2023-07-20   \n",
      "4            \"The lounge was filthy\"  Ed Blackwell  2023-05-11   \n",
      "\n",
      "                                                body rating  \\\n",
      "0  Not Verified |   I am gluten free. I went to g...      5   \n",
      "1  ✅ Trip Verified |  The lounge was pretty grim,...      3   \n",
      "2  Not Verified |  Qantas have really let their s...      3   \n",
      "3  Not Verified |  The lounge is absolutely filth...      2   \n",
      "4  Not Verified |  Food was poor, and a lot of th...      3   \n",
      "\n",
      "             airport  type_of_lounge     date_visit type_of_traveller  \\\n",
      "0  vancouver airport  business class       may 2024          business   \n",
      "1  melbourne airport  frequent flyer  december 2023               NaN   \n",
      "2     sydney airport  business class    august 2023          business   \n",
      "3     sydney airport  business class      july 2023          business   \n",
      "4     sydney airport  business class       may 2023          business   \n",
      "\n",
      "   comfort  cleanliness  bar_&_beverages  catering  washrooms  \\\n",
      "0        3            5              4.0       1.0        5.0   \n",
      "1        3            4              2.0       2.0        3.0   \n",
      "2        4            3              3.0       1.0        2.0   \n",
      "3        2            1              NaN       1.0        1.0   \n",
      "4        2            1              2.0       2.0        1.0   \n",
      "\n",
      "   wifi_connectivity  staff_service recommended                  lounge_name  \n",
      "0                4.0            3.0          no                          NaN  \n",
      "1                3.0            NaN         yes                          NaN  \n",
      "2                5.0            2.0          no        business class lounge  \n",
      "3                4.0            2.0          no  qantas international lounge  \n",
      "4                NaN            3.0          no                          NaN  \n"
     ]
    }
   ],
   "source": [
    "def parse_star_rating(star_container):\n",
    "    # Check for star ratings\n",
    "    stars = star_container.find_all('span', class_='star')\n",
    "    if stars:\n",
    "        rating = sum(1 for star in stars if 'fill' in star['class'])\n",
    "        return rating\n",
    "    # Handle textual responses\n",
    "    textual_rating = star_container.text.strip().lower()\n",
    "    if textual_rating in ['yes', 'no']:\n",
    "        return textual_rating\n",
    "    return 'No rating'  # Default case if no stars or known text is found\n",
    "\n",
    "def fetch_reviews(url):\n",
    "    # Fetch the page\n",
    "    response = requests.get(url)\n",
    "    response.raise_for_status()  # This will raise an error if the fetch fails\n",
    "\n",
    "    # Parse the HTML\n",
    "    soup = BeautifulSoup(response.text, 'html.parser')\n",
    "    \n",
    "    # Find all review articles\n",
    "    reviews = soup.find_all('article', itemprop='review')\n",
    "    all_reviews = []\n",
    "    \n",
    "    for review in reviews:\n",
    "        review_details = {\n",
    "            'title': review.find('h2', class_='text_header').text.strip() if review.find('h2', class_='text_header') else 'No title',\n",
    "            'author': review.find('span', itemprop='name').text.strip() if review.find('span', itemprop='name') else 'Anonymous',\n",
    "            'date': review.find('time', itemprop='datePublished')['datetime'] if review.find('time', itemprop='datePublished') else 'No date',\n",
    "            'body': review.find('div', class_='text_content').text.strip() if review.find('div', class_='text_content') else 'No content',\n",
    "            'rating': review.find('div', itemprop='reviewRating').find('span', itemprop='ratingValue').text if review.find('div', itemprop='reviewRating') else 'No rating'\n",
    "        }\n",
    "\n",
    "        # Parse ratings\n",
    "        rating_table = review.find('table', class_='review-ratings')\n",
    "        if rating_table:\n",
    "            for row in rating_table.find_all('tr'):\n",
    "                category = row.find('td', class_='review-rating-header').text.strip().replace(' ', '_').lower()\n",
    "                stars = row.find('td', class_='review-rating-stars')\n",
    "                if stars:\n",
    "                    review_details[category] = parse_star_rating(stars)\n",
    "                else:\n",
    "                    # Handle rows where no star spans are found, might be textual\n",
    "                    review_details[category] = row.find('td', class_='review-value').text.strip().lower()\n",
    "\n",
    "        all_reviews.append(review_details)\n",
    "    \n",
    "    return all_reviews, soup\n",
    "\n",
    "def main():\n",
    "    base_url = 'https://www.airlinequality.com/lounge-reviews/qantas-airways/page/'\n",
    "    \n",
    "    all_data = []\n",
    "    current_page = 1\n",
    "    \n",
    "    while True:\n",
    "        print(f\"Scraping page {current_page}\")\n",
    "        url = f\"{base_url}{current_page}/\"\n",
    "        reviews, soup = fetch_reviews(url)\n",
    "        \n",
    "        if reviews is None or not reviews:\n",
    "            print(\"No more pages to scrape or page not found.\")\n",
    "            break\n",
    "        all_data.extend(reviews)\n",
    "        current_page += 1\n",
    "\n",
    "    df = pd.DataFrame(all_data)\n",
    "    return df\n",
    "\n",
    "if __name__ == '__main__':\n",
    "    lounge_review_df = main()\n",
    "    print(lounge_review_df.head())\n",
    "    "
   ]
  },
  {
   "cell_type": "markdown",
   "id": "b6c9c680",
   "metadata": {
    "heading_collapsed": true
   },
   "source": [
    "### Inspecting the dataframes"
   ]
  },
  {
   "cell_type": "code",
   "execution_count": 8,
   "id": "61798835",
   "metadata": {
    "hidden": true
   },
   "outputs": [],
   "source": [
    "# remove at the end\n",
    "airline_review_df = pd.read_csv('review_df.csv')\n",
    "seat_review_df = pd.read_csv('seat_review_df.csv')\n",
    "lounge_review_df = pd.read_csv('lounge_review_df.csv')"
   ]
  },
  {
   "cell_type": "code",
   "execution_count": 9,
   "id": "28aaebaa",
   "metadata": {
    "hidden": true
   },
   "outputs": [],
   "source": [
    "# remove at the end\n",
    "airline_review_df.drop(airline_review_df.columns[0], axis=1, inplace=True)\n",
    "seat_review_df.drop(seat_review_df.columns[0], axis=1, inplace=True)\n",
    "lounge_review_df.drop(lounge_review_df.columns[0], axis=1, inplace=True)"
   ]
  },
  {
   "cell_type": "code",
   "execution_count": 10,
   "id": "0841e00c",
   "metadata": {
    "hidden": true
   },
   "outputs": [],
   "source": [
    "pd.set_option('display.max_columns', None)"
   ]
  },
  {
   "cell_type": "code",
   "execution_count": 11,
   "id": "fd7ad7a4",
   "metadata": {
    "hidden": true
   },
   "outputs": [
    {
     "data": {
      "text/html": [
       "<div>\n",
       "<style scoped>\n",
       "    .dataframe tbody tr th:only-of-type {\n",
       "        vertical-align: middle;\n",
       "    }\n",
       "\n",
       "    .dataframe tbody tr th {\n",
       "        vertical-align: top;\n",
       "    }\n",
       "\n",
       "    .dataframe thead th {\n",
       "        text-align: right;\n",
       "    }\n",
       "</style>\n",
       "<table border=\"1\" class=\"dataframe\">\n",
       "  <thead>\n",
       "    <tr style=\"text-align: right;\">\n",
       "      <th></th>\n",
       "      <th>title</th>\n",
       "      <th>author</th>\n",
       "      <th>date</th>\n",
       "      <th>body</th>\n",
       "      <th>rating</th>\n",
       "      <th>aircraft</th>\n",
       "      <th>type_of_traveller</th>\n",
       "      <th>seat_type</th>\n",
       "      <th>route</th>\n",
       "      <th>date_flown</th>\n",
       "      <th>seat_comfort</th>\n",
       "      <th>cabin_staff_service</th>\n",
       "      <th>food_&amp;_beverages</th>\n",
       "      <th>inflight_entertainment</th>\n",
       "      <th>ground_service</th>\n",
       "      <th>wifi_&amp;_connectivity</th>\n",
       "      <th>value_for_money</th>\n",
       "      <th>recommended</th>\n",
       "    </tr>\n",
       "  </thead>\n",
       "  <tbody>\n",
       "    <tr>\n",
       "      <th>0</th>\n",
       "      <td>\"Significant delays\"</td>\n",
       "      <td>C Meade</td>\n",
       "      <td>2024-07-03</td>\n",
       "      <td>✅ Trip Verified |  Significant delays with fir...</td>\n",
       "      <td>4</td>\n",
       "      <td>boeing 737-800</td>\n",
       "      <td>business</td>\n",
       "      <td>economy class</td>\n",
       "      <td>adelaide to sydney</td>\n",
       "      <td>june 2024</td>\n",
       "      <td>3.0</td>\n",
       "      <td>4.0</td>\n",
       "      <td>3.0</td>\n",
       "      <td>4.0</td>\n",
       "      <td>2.0</td>\n",
       "      <td>4.0</td>\n",
       "      <td>2.0</td>\n",
       "      <td>yes</td>\n",
       "    </tr>\n",
       "    <tr>\n",
       "      <th>1</th>\n",
       "      <td>\"food quality was abysmal\"</td>\n",
       "      <td>K Jasmine</td>\n",
       "      <td>2024-06-29</td>\n",
       "      <td>Not Verified |   I recently flew with Qantas a...</td>\n",
       "      <td>2</td>\n",
       "      <td>NaN</td>\n",
       "      <td>solo leisure</td>\n",
       "      <td>economy class</td>\n",
       "      <td>melbourne to sydney</td>\n",
       "      <td>april 2024</td>\n",
       "      <td>1.0</td>\n",
       "      <td>1.0</td>\n",
       "      <td>NaN</td>\n",
       "      <td>NaN</td>\n",
       "      <td>1.0</td>\n",
       "      <td>NaN</td>\n",
       "      <td>2.0</td>\n",
       "      <td>no</td>\n",
       "    </tr>\n",
       "    <tr>\n",
       "      <th>2</th>\n",
       "      <td>\"wasted money on a business ticket\"</td>\n",
       "      <td>T Bayne</td>\n",
       "      <td>2024-06-25</td>\n",
       "      <td>✅ Trip Verified |  My husband and I went to Au...</td>\n",
       "      <td>2</td>\n",
       "      <td>boeing 737</td>\n",
       "      <td>couple leisure</td>\n",
       "      <td>business class</td>\n",
       "      <td>auckland to adelaide via melbourne</td>\n",
       "      <td>june 2024</td>\n",
       "      <td>1.0</td>\n",
       "      <td>4.0</td>\n",
       "      <td>3.0</td>\n",
       "      <td>1.0</td>\n",
       "      <td>2.0</td>\n",
       "      <td>1.0</td>\n",
       "      <td>1.0</td>\n",
       "      <td>no</td>\n",
       "    </tr>\n",
       "    <tr>\n",
       "      <th>3</th>\n",
       "      <td>\"think about the food needs\"</td>\n",
       "      <td>W Neale</td>\n",
       "      <td>2024-06-20</td>\n",
       "      <td>✅ Trip Verified |  I travelled with my husband...</td>\n",
       "      <td>4</td>\n",
       "      <td>NaN</td>\n",
       "      <td>business</td>\n",
       "      <td>business class</td>\n",
       "      <td>sydney to dili via darwin</td>\n",
       "      <td>june 2024</td>\n",
       "      <td>2.0</td>\n",
       "      <td>3.0</td>\n",
       "      <td>2.0</td>\n",
       "      <td>2.0</td>\n",
       "      <td>2.0</td>\n",
       "      <td>2.0</td>\n",
       "      <td>2.0</td>\n",
       "      <td>no</td>\n",
       "    </tr>\n",
       "    <tr>\n",
       "      <th>4</th>\n",
       "      <td>\"Another horrific flight\"</td>\n",
       "      <td>Robin Esdaile</td>\n",
       "      <td>2024-06-07</td>\n",
       "      <td>✅ Trip Verified |  Another horrific flight end...</td>\n",
       "      <td>3</td>\n",
       "      <td>a380</td>\n",
       "      <td>business</td>\n",
       "      <td>economy class</td>\n",
       "      <td>sydney to london via singapore</td>\n",
       "      <td>june 2024</td>\n",
       "      <td>3.0</td>\n",
       "      <td>2.0</td>\n",
       "      <td>1.0</td>\n",
       "      <td>3.0</td>\n",
       "      <td>2.0</td>\n",
       "      <td>1.0</td>\n",
       "      <td>2.0</td>\n",
       "      <td>no</td>\n",
       "    </tr>\n",
       "  </tbody>\n",
       "</table>\n",
       "</div>"
      ],
      "text/plain": [
       "                                 title         author        date  \\\n",
       "0                 \"Significant delays\"        C Meade  2024-07-03   \n",
       "1           \"food quality was abysmal\"      K Jasmine  2024-06-29   \n",
       "2  \"wasted money on a business ticket\"        T Bayne  2024-06-25   \n",
       "3         \"think about the food needs\"        W Neale  2024-06-20   \n",
       "4            \"Another horrific flight\"  Robin Esdaile  2024-06-07   \n",
       "\n",
       "                                                body  rating        aircraft  \\\n",
       "0  ✅ Trip Verified |  Significant delays with fir...       4  boeing 737-800   \n",
       "1  Not Verified |   I recently flew with Qantas a...       2             NaN   \n",
       "2  ✅ Trip Verified |  My husband and I went to Au...       2      boeing 737   \n",
       "3  ✅ Trip Verified |  I travelled with my husband...       4             NaN   \n",
       "4  ✅ Trip Verified |  Another horrific flight end...       3            a380   \n",
       "\n",
       "  type_of_traveller       seat_type                               route  \\\n",
       "0          business   economy class                  adelaide to sydney   \n",
       "1      solo leisure   economy class                 melbourne to sydney   \n",
       "2    couple leisure  business class  auckland to adelaide via melbourne   \n",
       "3          business  business class           sydney to dili via darwin   \n",
       "4          business   economy class      sydney to london via singapore   \n",
       "\n",
       "   date_flown  seat_comfort  cabin_staff_service  food_&_beverages  \\\n",
       "0   june 2024           3.0                  4.0               3.0   \n",
       "1  april 2024           1.0                  1.0               NaN   \n",
       "2   june 2024           1.0                  4.0               3.0   \n",
       "3   june 2024           2.0                  3.0               2.0   \n",
       "4   june 2024           3.0                  2.0               1.0   \n",
       "\n",
       "   inflight_entertainment  ground_service  wifi_&_connectivity  \\\n",
       "0                     4.0             2.0                  4.0   \n",
       "1                     NaN             1.0                  NaN   \n",
       "2                     1.0             2.0                  1.0   \n",
       "3                     2.0             2.0                  2.0   \n",
       "4                     3.0             2.0                  1.0   \n",
       "\n",
       "   value_for_money recommended  \n",
       "0              2.0         yes  \n",
       "1              2.0          no  \n",
       "2              1.0          no  \n",
       "3              2.0          no  \n",
       "4              2.0          no  "
      ]
     },
     "execution_count": 11,
     "metadata": {},
     "output_type": "execute_result"
    }
   ],
   "source": [
    "airline_review_df.head()"
   ]
  },
  {
   "cell_type": "code",
   "execution_count": 12,
   "id": "b8d15f3a",
   "metadata": {
    "hidden": true
   },
   "outputs": [
    {
     "data": {
      "text/html": [
       "<div>\n",
       "<style scoped>\n",
       "    .dataframe tbody tr th:only-of-type {\n",
       "        vertical-align: middle;\n",
       "    }\n",
       "\n",
       "    .dataframe tbody tr th {\n",
       "        vertical-align: top;\n",
       "    }\n",
       "\n",
       "    .dataframe thead th {\n",
       "        text-align: right;\n",
       "    }\n",
       "</style>\n",
       "<table border=\"1\" class=\"dataframe\">\n",
       "  <thead>\n",
       "    <tr style=\"text-align: right;\">\n",
       "      <th></th>\n",
       "      <th>title</th>\n",
       "      <th>author</th>\n",
       "      <th>date</th>\n",
       "      <th>body</th>\n",
       "      <th>rating</th>\n",
       "      <th>seat_type</th>\n",
       "      <th>aircraft_type</th>\n",
       "      <th>seat_layout</th>\n",
       "      <th>date_flown</th>\n",
       "      <th>type_of_traveller</th>\n",
       "      <th>sleep_comfort</th>\n",
       "      <th>sitting_comfort</th>\n",
       "      <th>seat/bed_width</th>\n",
       "      <th>seat/bed_length</th>\n",
       "      <th>seat_privacy</th>\n",
       "      <th>power_supply</th>\n",
       "      <th>seat_storage</th>\n",
       "      <th>recommended</th>\n",
       "      <th>seat_legroom</th>\n",
       "      <th>seat_recline</th>\n",
       "      <th>seat_width</th>\n",
       "      <th>aisle_space</th>\n",
       "      <th>viewing_tv_screen</th>\n",
       "    </tr>\n",
       "  </thead>\n",
       "  <tbody>\n",
       "    <tr>\n",
       "      <th>0</th>\n",
       "      <td>\"You are separated by a fixed divider”</td>\n",
       "      <td>Michael Kinder</td>\n",
       "      <td>2022-09-29</td>\n",
       "      <td>✅ Trip Verified |  In September we took our fi...</td>\n",
       "      <td>2</td>\n",
       "      <td>business class</td>\n",
       "      <td>a330-300</td>\n",
       "      <td>1x2x1</td>\n",
       "      <td>september 2022</td>\n",
       "      <td>leisure</td>\n",
       "      <td>3.0</td>\n",
       "      <td>1.0</td>\n",
       "      <td>3.0</td>\n",
       "      <td>5.0</td>\n",
       "      <td>1.0</td>\n",
       "      <td>4.0</td>\n",
       "      <td>4.0</td>\n",
       "      <td>no</td>\n",
       "      <td>NaN</td>\n",
       "      <td>NaN</td>\n",
       "      <td>NaN</td>\n",
       "      <td>NaN</td>\n",
       "      <td>NaN</td>\n",
       "    </tr>\n",
       "    <tr>\n",
       "      <th>1</th>\n",
       "      <td>\"private and comfortable\"</td>\n",
       "      <td>B Heale</td>\n",
       "      <td>2020-01-08</td>\n",
       "      <td>✅ Trip Verified |  The A380 has an extremely p...</td>\n",
       "      <td>10</td>\n",
       "      <td>first class</td>\n",
       "      <td>a380</td>\n",
       "      <td>1x1x1</td>\n",
       "      <td>january 2020</td>\n",
       "      <td>business</td>\n",
       "      <td>5.0</td>\n",
       "      <td>5.0</td>\n",
       "      <td>5.0</td>\n",
       "      <td>5.0</td>\n",
       "      <td>5.0</td>\n",
       "      <td>5.0</td>\n",
       "      <td>5.0</td>\n",
       "      <td>yes</td>\n",
       "      <td>NaN</td>\n",
       "      <td>NaN</td>\n",
       "      <td>NaN</td>\n",
       "      <td>NaN</td>\n",
       "      <td>NaN</td>\n",
       "    </tr>\n",
       "    <tr>\n",
       "      <th>2</th>\n",
       "      <td>\"very comfortable for me\"</td>\n",
       "      <td>Muhammad Tahir Hanif</td>\n",
       "      <td>2019-12-08</td>\n",
       "      <td>✅ Trip Verified |  Seat was nice and wide, ver...</td>\n",
       "      <td>9</td>\n",
       "      <td>economy class</td>\n",
       "      <td>boeing 787 / a330</td>\n",
       "      <td>3x3x3 / 2x4x2</td>\n",
       "      <td>november 2019</td>\n",
       "      <td>solo leisure</td>\n",
       "      <td>NaN</td>\n",
       "      <td>NaN</td>\n",
       "      <td>NaN</td>\n",
       "      <td>NaN</td>\n",
       "      <td>NaN</td>\n",
       "      <td>5.0</td>\n",
       "      <td>5.0</td>\n",
       "      <td>yes</td>\n",
       "      <td>5.0</td>\n",
       "      <td>4.0</td>\n",
       "      <td>4.0</td>\n",
       "      <td>4.0</td>\n",
       "      <td>5.0</td>\n",
       "    </tr>\n",
       "    <tr>\n",
       "      <th>3</th>\n",
       "      <td>\"seat was comfortable\"</td>\n",
       "      <td>Alan Sargeant</td>\n",
       "      <td>2019-10-21</td>\n",
       "      <td>✅ Trip Verified |  The A330-300 business class...</td>\n",
       "      <td>9</td>\n",
       "      <td>business class</td>\n",
       "      <td>a330-300</td>\n",
       "      <td>1x2x1</td>\n",
       "      <td>august 2019</td>\n",
       "      <td>leisure</td>\n",
       "      <td>5.0</td>\n",
       "      <td>5.0</td>\n",
       "      <td>5.0</td>\n",
       "      <td>5.0</td>\n",
       "      <td>4.0</td>\n",
       "      <td>NaN</td>\n",
       "      <td>4.0</td>\n",
       "      <td>yes</td>\n",
       "      <td>NaN</td>\n",
       "      <td>NaN</td>\n",
       "      <td>NaN</td>\n",
       "      <td>NaN</td>\n",
       "      <td>NaN</td>\n",
       "    </tr>\n",
       "    <tr>\n",
       "      <th>4</th>\n",
       "      <td>\"cheap out on breakfast\"</td>\n",
       "      <td>Davy Adams</td>\n",
       "      <td>2019-10-20</td>\n",
       "      <td>✅ Trip Verified |  Row 6 is sandwiched between...</td>\n",
       "      <td>5</td>\n",
       "      <td>business class</td>\n",
       "      <td>a330-200</td>\n",
       "      <td>1x2x1</td>\n",
       "      <td>october 2019</td>\n",
       "      <td>leisure</td>\n",
       "      <td>3.0</td>\n",
       "      <td>5.0</td>\n",
       "      <td>4.0</td>\n",
       "      <td>5.0</td>\n",
       "      <td>1.0</td>\n",
       "      <td>5.0</td>\n",
       "      <td>5.0</td>\n",
       "      <td>no</td>\n",
       "      <td>NaN</td>\n",
       "      <td>NaN</td>\n",
       "      <td>NaN</td>\n",
       "      <td>NaN</td>\n",
       "      <td>NaN</td>\n",
       "    </tr>\n",
       "  </tbody>\n",
       "</table>\n",
       "</div>"
      ],
      "text/plain": [
       "                                    title                author        date  \\\n",
       "0  \"You are separated by a fixed divider”        Michael Kinder  2022-09-29   \n",
       "1               \"private and comfortable\"               B Heale  2020-01-08   \n",
       "2               \"very comfortable for me\"  Muhammad Tahir Hanif  2019-12-08   \n",
       "3                  \"seat was comfortable\"         Alan Sargeant  2019-10-21   \n",
       "4                \"cheap out on breakfast\"            Davy Adams  2019-10-20   \n",
       "\n",
       "                                                body  rating       seat_type  \\\n",
       "0  ✅ Trip Verified |  In September we took our fi...       2  business class   \n",
       "1  ✅ Trip Verified |  The A380 has an extremely p...      10     first class   \n",
       "2  ✅ Trip Verified |  Seat was nice and wide, ver...       9   economy class   \n",
       "3  ✅ Trip Verified |  The A330-300 business class...       9  business class   \n",
       "4  ✅ Trip Verified |  Row 6 is sandwiched between...       5  business class   \n",
       "\n",
       "       aircraft_type    seat_layout      date_flown type_of_traveller  \\\n",
       "0           a330-300          1x2x1  september 2022           leisure   \n",
       "1               a380          1x1x1    january 2020          business   \n",
       "2  boeing 787 / a330  3x3x3 / 2x4x2   november 2019      solo leisure   \n",
       "3           a330-300          1x2x1     august 2019           leisure   \n",
       "4           a330-200          1x2x1    october 2019           leisure   \n",
       "\n",
       "   sleep_comfort  sitting_comfort  seat/bed_width  seat/bed_length  \\\n",
       "0            3.0              1.0             3.0              5.0   \n",
       "1            5.0              5.0             5.0              5.0   \n",
       "2            NaN              NaN             NaN              NaN   \n",
       "3            5.0              5.0             5.0              5.0   \n",
       "4            3.0              5.0             4.0              5.0   \n",
       "\n",
       "   seat_privacy  power_supply  seat_storage recommended  seat_legroom  \\\n",
       "0           1.0           4.0           4.0          no           NaN   \n",
       "1           5.0           5.0           5.0         yes           NaN   \n",
       "2           NaN           5.0           5.0         yes           5.0   \n",
       "3           4.0           NaN           4.0         yes           NaN   \n",
       "4           1.0           5.0           5.0          no           NaN   \n",
       "\n",
       "   seat_recline  seat_width  aisle_space  viewing_tv_screen  \n",
       "0           NaN         NaN          NaN                NaN  \n",
       "1           NaN         NaN          NaN                NaN  \n",
       "2           4.0         4.0          4.0                5.0  \n",
       "3           NaN         NaN          NaN                NaN  \n",
       "4           NaN         NaN          NaN                NaN  "
      ]
     },
     "execution_count": 12,
     "metadata": {},
     "output_type": "execute_result"
    }
   ],
   "source": [
    "seat_review_df.head()"
   ]
  },
  {
   "cell_type": "code",
   "execution_count": 13,
   "id": "ec435c74",
   "metadata": {
    "hidden": true
   },
   "outputs": [
    {
     "data": {
      "text/html": [
       "<div>\n",
       "<style scoped>\n",
       "    .dataframe tbody tr th:only-of-type {\n",
       "        vertical-align: middle;\n",
       "    }\n",
       "\n",
       "    .dataframe tbody tr th {\n",
       "        vertical-align: top;\n",
       "    }\n",
       "\n",
       "    .dataframe thead th {\n",
       "        text-align: right;\n",
       "    }\n",
       "</style>\n",
       "<table border=\"1\" class=\"dataframe\">\n",
       "  <thead>\n",
       "    <tr style=\"text-align: right;\">\n",
       "      <th></th>\n",
       "      <th>title</th>\n",
       "      <th>author</th>\n",
       "      <th>date</th>\n",
       "      <th>body</th>\n",
       "      <th>rating</th>\n",
       "      <th>airport</th>\n",
       "      <th>type_of_lounge</th>\n",
       "      <th>date_visit</th>\n",
       "      <th>type_of_traveller</th>\n",
       "      <th>comfort</th>\n",
       "      <th>cleanliness</th>\n",
       "      <th>bar_&amp;_beverages</th>\n",
       "      <th>catering</th>\n",
       "      <th>washrooms</th>\n",
       "      <th>wifi_connectivity</th>\n",
       "      <th>staff_service</th>\n",
       "      <th>recommended</th>\n",
       "      <th>lounge_name</th>\n",
       "    </tr>\n",
       "  </thead>\n",
       "  <tbody>\n",
       "    <tr>\n",
       "      <th>0</th>\n",
       "      <td>\"noticed no GF foods\"</td>\n",
       "      <td>Irene Taylor</td>\n",
       "      <td>2024-05-30</td>\n",
       "      <td>Not Verified |   I am gluten free. I went to g...</td>\n",
       "      <td>5</td>\n",
       "      <td>vancouver airport</td>\n",
       "      <td>business class</td>\n",
       "      <td>may 2024</td>\n",
       "      <td>business</td>\n",
       "      <td>3</td>\n",
       "      <td>5</td>\n",
       "      <td>4.0</td>\n",
       "      <td>1.0</td>\n",
       "      <td>5.0</td>\n",
       "      <td>4.0</td>\n",
       "      <td>3.0</td>\n",
       "      <td>no</td>\n",
       "      <td>NaN</td>\n",
       "    </tr>\n",
       "    <tr>\n",
       "      <th>1</th>\n",
       "      <td>\"The lounge was pretty grim\"</td>\n",
       "      <td>Tony Maddern</td>\n",
       "      <td>2023-12-21</td>\n",
       "      <td>✅ Trip Verified |  The lounge was pretty grim,...</td>\n",
       "      <td>3</td>\n",
       "      <td>melbourne airport</td>\n",
       "      <td>frequent flyer</td>\n",
       "      <td>december 2023</td>\n",
       "      <td>NaN</td>\n",
       "      <td>3</td>\n",
       "      <td>4</td>\n",
       "      <td>2.0</td>\n",
       "      <td>2.0</td>\n",
       "      <td>3.0</td>\n",
       "      <td>3.0</td>\n",
       "      <td>NaN</td>\n",
       "      <td>yes</td>\n",
       "      <td>NaN</td>\n",
       "    </tr>\n",
       "    <tr>\n",
       "      <th>2</th>\n",
       "      <td>\"really let their standards slip\"</td>\n",
       "      <td>M Kellett</td>\n",
       "      <td>2023-09-13</td>\n",
       "      <td>Not Verified |  Qantas have really let their s...</td>\n",
       "      <td>3</td>\n",
       "      <td>sydney airport</td>\n",
       "      <td>business class</td>\n",
       "      <td>august 2023</td>\n",
       "      <td>business</td>\n",
       "      <td>4</td>\n",
       "      <td>3</td>\n",
       "      <td>3.0</td>\n",
       "      <td>1.0</td>\n",
       "      <td>2.0</td>\n",
       "      <td>5.0</td>\n",
       "      <td>2.0</td>\n",
       "      <td>no</td>\n",
       "      <td>business class lounge</td>\n",
       "    </tr>\n",
       "    <tr>\n",
       "      <th>3</th>\n",
       "      <td>\"The lounge is absolutely filthy\"</td>\n",
       "      <td>O Binder</td>\n",
       "      <td>2023-07-20</td>\n",
       "      <td>Not Verified |  The lounge is absolutely filth...</td>\n",
       "      <td>2</td>\n",
       "      <td>sydney airport</td>\n",
       "      <td>business class</td>\n",
       "      <td>july 2023</td>\n",
       "      <td>business</td>\n",
       "      <td>2</td>\n",
       "      <td>1</td>\n",
       "      <td>NaN</td>\n",
       "      <td>1.0</td>\n",
       "      <td>1.0</td>\n",
       "      <td>4.0</td>\n",
       "      <td>2.0</td>\n",
       "      <td>no</td>\n",
       "      <td>qantas international lounge</td>\n",
       "    </tr>\n",
       "    <tr>\n",
       "      <th>4</th>\n",
       "      <td>\"The lounge was filthy\"</td>\n",
       "      <td>Ed Blackwell</td>\n",
       "      <td>2023-05-11</td>\n",
       "      <td>Not Verified |  Food was poor, and a lot of th...</td>\n",
       "      <td>3</td>\n",
       "      <td>sydney airport</td>\n",
       "      <td>business class</td>\n",
       "      <td>may 2023</td>\n",
       "      <td>business</td>\n",
       "      <td>2</td>\n",
       "      <td>1</td>\n",
       "      <td>2.0</td>\n",
       "      <td>2.0</td>\n",
       "      <td>1.0</td>\n",
       "      <td>NaN</td>\n",
       "      <td>3.0</td>\n",
       "      <td>no</td>\n",
       "      <td>NaN</td>\n",
       "    </tr>\n",
       "  </tbody>\n",
       "</table>\n",
       "</div>"
      ],
      "text/plain": [
       "                               title        author        date  \\\n",
       "0              \"noticed no GF foods\"  Irene Taylor  2024-05-30   \n",
       "1       \"The lounge was pretty grim\"  Tony Maddern  2023-12-21   \n",
       "2  \"really let their standards slip\"     M Kellett  2023-09-13   \n",
       "3  \"The lounge is absolutely filthy\"      O Binder  2023-07-20   \n",
       "4            \"The lounge was filthy\"  Ed Blackwell  2023-05-11   \n",
       "\n",
       "                                                body  rating  \\\n",
       "0  Not Verified |   I am gluten free. I went to g...       5   \n",
       "1  ✅ Trip Verified |  The lounge was pretty grim,...       3   \n",
       "2  Not Verified |  Qantas have really let their s...       3   \n",
       "3  Not Verified |  The lounge is absolutely filth...       2   \n",
       "4  Not Verified |  Food was poor, and a lot of th...       3   \n",
       "\n",
       "             airport  type_of_lounge     date_visit type_of_traveller  \\\n",
       "0  vancouver airport  business class       may 2024          business   \n",
       "1  melbourne airport  frequent flyer  december 2023               NaN   \n",
       "2     sydney airport  business class    august 2023          business   \n",
       "3     sydney airport  business class      july 2023          business   \n",
       "4     sydney airport  business class       may 2023          business   \n",
       "\n",
       "   comfort  cleanliness  bar_&_beverages  catering  washrooms  \\\n",
       "0        3            5              4.0       1.0        5.0   \n",
       "1        3            4              2.0       2.0        3.0   \n",
       "2        4            3              3.0       1.0        2.0   \n",
       "3        2            1              NaN       1.0        1.0   \n",
       "4        2            1              2.0       2.0        1.0   \n",
       "\n",
       "   wifi_connectivity  staff_service recommended                  lounge_name  \n",
       "0                4.0            3.0          no                          NaN  \n",
       "1                3.0            NaN         yes                          NaN  \n",
       "2                5.0            2.0          no        business class lounge  \n",
       "3                4.0            2.0          no  qantas international lounge  \n",
       "4                NaN            3.0          no                          NaN  "
      ]
     },
     "execution_count": 13,
     "metadata": {},
     "output_type": "execute_result"
    }
   ],
   "source": [
    "lounge_review_df.head()"
   ]
  },
  {
   "cell_type": "markdown",
   "id": "79b1a17b",
   "metadata": {
    "heading_collapsed": true
   },
   "source": [
    "### Getting it ready for Sentiment Analysis"
   ]
  },
  {
   "cell_type": "code",
   "execution_count": 14,
   "id": "01c7ecaa",
   "metadata": {
    "hidden": true
   },
   "outputs": [],
   "source": [
    "selected_columns = ['title', 'body', 'rating']\n",
    "reviews_df = airline_review_df[selected_columns]\n",
    "reviews_df2 = seat_review_df[selected_columns]\n",
    "reviews_df3 = lounge_review_df[selected_columns]"
   ]
  },
  {
   "cell_type": "code",
   "execution_count": 15,
   "id": "dd7fb121",
   "metadata": {
    "hidden": true
   },
   "outputs": [],
   "source": [
    "df = pd.concat([reviews_df, reviews_df2, reviews_df3], ignore_index=True)"
   ]
  },
  {
   "cell_type": "code",
   "execution_count": 16,
   "id": "6827f13e",
   "metadata": {
    "hidden": true
   },
   "outputs": [],
   "source": [
    "df = df.rename(columns={'body': 'text'})"
   ]
  },
  {
   "cell_type": "code",
   "execution_count": 17,
   "id": "9df24882",
   "metadata": {
    "hidden": true
   },
   "outputs": [
    {
     "data": {
      "text/html": [
       "<div>\n",
       "<style scoped>\n",
       "    .dataframe tbody tr th:only-of-type {\n",
       "        vertical-align: middle;\n",
       "    }\n",
       "\n",
       "    .dataframe tbody tr th {\n",
       "        vertical-align: top;\n",
       "    }\n",
       "\n",
       "    .dataframe thead th {\n",
       "        text-align: right;\n",
       "    }\n",
       "</style>\n",
       "<table border=\"1\" class=\"dataframe\">\n",
       "  <thead>\n",
       "    <tr style=\"text-align: right;\">\n",
       "      <th></th>\n",
       "      <th>title</th>\n",
       "      <th>text</th>\n",
       "      <th>rating</th>\n",
       "    </tr>\n",
       "  </thead>\n",
       "  <tbody>\n",
       "    <tr>\n",
       "      <th>0</th>\n",
       "      <td>\"Significant delays\"</td>\n",
       "      <td>✅ Trip Verified |  Significant delays with fir...</td>\n",
       "      <td>4</td>\n",
       "    </tr>\n",
       "    <tr>\n",
       "      <th>1</th>\n",
       "      <td>\"food quality was abysmal\"</td>\n",
       "      <td>Not Verified |   I recently flew with Qantas a...</td>\n",
       "      <td>2</td>\n",
       "    </tr>\n",
       "    <tr>\n",
       "      <th>2</th>\n",
       "      <td>\"wasted money on a business ticket\"</td>\n",
       "      <td>✅ Trip Verified |  My husband and I went to Au...</td>\n",
       "      <td>2</td>\n",
       "    </tr>\n",
       "    <tr>\n",
       "      <th>3</th>\n",
       "      <td>\"think about the food needs\"</td>\n",
       "      <td>✅ Trip Verified |  I travelled with my husband...</td>\n",
       "      <td>4</td>\n",
       "    </tr>\n",
       "    <tr>\n",
       "      <th>4</th>\n",
       "      <td>\"Another horrific flight\"</td>\n",
       "      <td>✅ Trip Verified |  Another horrific flight end...</td>\n",
       "      <td>3</td>\n",
       "    </tr>\n",
       "  </tbody>\n",
       "</table>\n",
       "</div>"
      ],
      "text/plain": [
       "                                 title  \\\n",
       "0                 \"Significant delays\"   \n",
       "1           \"food quality was abysmal\"   \n",
       "2  \"wasted money on a business ticket\"   \n",
       "3         \"think about the food needs\"   \n",
       "4            \"Another horrific flight\"   \n",
       "\n",
       "                                                text  rating  \n",
       "0  ✅ Trip Verified |  Significant delays with fir...       4  \n",
       "1  Not Verified |   I recently flew with Qantas a...       2  \n",
       "2  ✅ Trip Verified |  My husband and I went to Au...       2  \n",
       "3  ✅ Trip Verified |  I travelled with my husband...       4  \n",
       "4  ✅ Trip Verified |  Another horrific flight end...       3  "
      ]
     },
     "execution_count": 17,
     "metadata": {},
     "output_type": "execute_result"
    }
   ],
   "source": [
    "df.head()"
   ]
  },
  {
   "cell_type": "code",
   "execution_count": 18,
   "id": "6a3cb2a1",
   "metadata": {
    "hidden": true
   },
   "outputs": [
    {
     "name": "stderr",
     "output_type": "stream",
     "text": [
      "/var/folders/yw/4jpdvg_930bf7v2860107yfw0000gn/T/ipykernel_2718/2092697092.py:1: FutureWarning: ChainedAssignmentError: behaviour will change in pandas 3.0!\n",
      "You are setting values through chained assignment. Currently this works in certain cases, but when using Copy-on-Write (which will become the default behaviour in pandas 3.0) this will never work to update the original DataFrame or Series, because the intermediate object on which we are setting values will behave as a copy.\n",
      "A typical example is when you are setting values in a column of a DataFrame, like:\n",
      "\n",
      "df[\"col\"][row_indexer] = value\n",
      "\n",
      "Use `df.loc[row_indexer, \"col\"] = values` instead, to perform the assignment in a single step and ensure this keeps updating the original `df`.\n",
      "\n",
      "See the caveats in the documentation: https://pandas.pydata.org/pandas-docs/stable/user_guide/indexing.html#returning-a-view-versus-a-copy\n",
      "\n",
      "  df['rating'][df['rating']<=7]=0\n",
      "/var/folders/yw/4jpdvg_930bf7v2860107yfw0000gn/T/ipykernel_2718/2092697092.py:1: SettingWithCopyWarning: \n",
      "A value is trying to be set on a copy of a slice from a DataFrame\n",
      "\n",
      "See the caveats in the documentation: https://pandas.pydata.org/pandas-docs/stable/user_guide/indexing.html#returning-a-view-versus-a-copy\n",
      "  df['rating'][df['rating']<=7]=0\n",
      "/var/folders/yw/4jpdvg_930bf7v2860107yfw0000gn/T/ipykernel_2718/2092697092.py:2: FutureWarning: ChainedAssignmentError: behaviour will change in pandas 3.0!\n",
      "You are setting values through chained assignment. Currently this works in certain cases, but when using Copy-on-Write (which will become the default behaviour in pandas 3.0) this will never work to update the original DataFrame or Series, because the intermediate object on which we are setting values will behave as a copy.\n",
      "A typical example is when you are setting values in a column of a DataFrame, like:\n",
      "\n",
      "df[\"col\"][row_indexer] = value\n",
      "\n",
      "Use `df.loc[row_indexer, \"col\"] = values` instead, to perform the assignment in a single step and ensure this keeps updating the original `df`.\n",
      "\n",
      "See the caveats in the documentation: https://pandas.pydata.org/pandas-docs/stable/user_guide/indexing.html#returning-a-view-versus-a-copy\n",
      "\n",
      "  df['rating'][df['rating']>7]=1\n",
      "/var/folders/yw/4jpdvg_930bf7v2860107yfw0000gn/T/ipykernel_2718/2092697092.py:2: SettingWithCopyWarning: \n",
      "A value is trying to be set on a copy of a slice from a DataFrame\n",
      "\n",
      "See the caveats in the documentation: https://pandas.pydata.org/pandas-docs/stable/user_guide/indexing.html#returning-a-view-versus-a-copy\n",
      "  df['rating'][df['rating']>7]=1\n"
     ]
    }
   ],
   "source": [
    "df['rating'][df['rating']<=7]=0\n",
    "df['rating'][df['rating']>7]=1"
   ]
  },
  {
   "cell_type": "code",
   "execution_count": 19,
   "id": "fd1d3486",
   "metadata": {
    "hidden": true
   },
   "outputs": [
    {
     "data": {
      "text/plain": [
       "array([0, 1])"
      ]
     },
     "execution_count": 19,
     "metadata": {},
     "output_type": "execute_result"
    }
   ],
   "source": [
    "df['rating'].unique()"
   ]
  },
  {
   "cell_type": "code",
   "execution_count": 20,
   "id": "a7beea76",
   "metadata": {
    "hidden": true
   },
   "outputs": [],
   "source": [
    "data_pos = df[df['rating'] == 1]\n",
    "data_neg = df[df['rating'] == 0]"
   ]
  },
  {
   "cell_type": "code",
   "execution_count": 21,
   "id": "0eb9e5ac",
   "metadata": {
    "hidden": true
   },
   "outputs": [
    {
     "data": {
      "text/plain": [
       "868"
      ]
     },
     "execution_count": 21,
     "metadata": {},
     "output_type": "execute_result"
    }
   ],
   "source": [
    "len(data_pos)"
   ]
  },
  {
   "cell_type": "code",
   "execution_count": 22,
   "id": "962b0acb",
   "metadata": {
    "hidden": true
   },
   "outputs": [
    {
     "data": {
      "text/plain": [
       "1395"
      ]
     },
     "execution_count": 22,
     "metadata": {},
     "output_type": "execute_result"
    }
   ],
   "source": [
    "len(data_neg)"
   ]
  },
  {
   "cell_type": "markdown",
   "id": "8725366b",
   "metadata": {
    "heading_collapsed": true,
    "hidden": true
   },
   "source": [
    "#### Making statement text in lower case"
   ]
  },
  {
   "cell_type": "code",
   "execution_count": 23,
   "id": "95521cb9",
   "metadata": {
    "hidden": true
   },
   "outputs": [],
   "source": [
    "df['text']=df['text'].str.lower()"
   ]
  },
  {
   "cell_type": "code",
   "execution_count": 24,
   "id": "e6140e14",
   "metadata": {
    "hidden": true
   },
   "outputs": [
    {
     "data": {
      "text/plain": [
       "2258    the ambience is active but quiet. from the tel...\n",
       "2259    this lounge is immaculately maintained - as wa...\n",
       "2260    the staff were attentive and friendly. as ther...\n",
       "2261    sydney business lounge very spacious with nice...\n",
       "2262    the renovated qantas club at perth internation...\n",
       "Name: text, dtype: object"
      ]
     },
     "execution_count": 24,
     "metadata": {},
     "output_type": "execute_result"
    }
   ],
   "source": [
    "df['text'].tail()"
   ]
  },
  {
   "cell_type": "code",
   "execution_count": 25,
   "id": "40340f1e",
   "metadata": {
    "hidden": true
   },
   "outputs": [
    {
     "data": {
      "text/plain": [
       "0    ✅ trip verified | significant delays first ann...\n",
       "1    verified | recently flew qantas thoroughly dis...\n",
       "2    ✅ trip verified | husband went auckland air ne...\n",
       "3    ✅ trip verified | travelled husband daughter 1...\n",
       "4    ✅ trip verified | another horrific flight endu...\n",
       "Name: text, dtype: object"
      ]
     },
     "execution_count": 25,
     "metadata": {},
     "output_type": "execute_result"
    }
   ],
   "source": [
    "STOPWORDS = set(stopwords.words('english'))\n",
    "def cleaning_stopwords(text):\n",
    "    return \" \".join([word for word in str(text).split() if word not in STOPWORDS])\n",
    "df['text'] = df['text'].apply(lambda text: cleaning_stopwords(text))\n",
    "df['text'].head()"
   ]
  },
  {
   "cell_type": "markdown",
   "id": "9c8cb92e",
   "metadata": {
    "heading_collapsed": true,
    "hidden": true
   },
   "source": [
    "#### Cleaning and removing punctuations"
   ]
  },
  {
   "cell_type": "code",
   "execution_count": 26,
   "id": "347a2f57",
   "metadata": {
    "hidden": true
   },
   "outputs": [],
   "source": [
    "english_punctuations = string.punctuation\n",
    "punctuations_list = english_punctuations\n",
    "def cleaning_punctuations(text):\n",
    "    translator = str.maketrans('', '', punctuations_list)\n",
    "    return text.translate(translator)"
   ]
  },
  {
   "cell_type": "code",
   "execution_count": 27,
   "id": "bc8518ff",
   "metadata": {
    "hidden": true
   },
   "outputs": [
    {
     "data": {
      "text/plain": [
       "2258    ambience active quiet telephone call day askin...\n",
       "2259    lounge immaculately maintained  stated previou...\n",
       "2260    staff attentive friendly airside pharmacy sydn...\n",
       "2261    sydney business lounge spacious nice views foo...\n",
       "2262    renovated qantas club perth international vast...\n",
       "Name: text, dtype: object"
      ]
     },
     "execution_count": 27,
     "metadata": {},
     "output_type": "execute_result"
    }
   ],
   "source": [
    "df['text']= df['text'].apply(lambda x: cleaning_punctuations(x))\n",
    "df['text'].tail()"
   ]
  },
  {
   "cell_type": "markdown",
   "id": "4e6a8c6e",
   "metadata": {
    "heading_collapsed": true,
    "hidden": true
   },
   "source": [
    "#### Cleaning and removing repeating characters"
   ]
  },
  {
   "cell_type": "code",
   "execution_count": 28,
   "id": "1e80f69f",
   "metadata": {
    "hidden": true
   },
   "outputs": [],
   "source": [
    "def cleaning_repeating_char(text):\n",
    "    return re.sub(r'(.)\\1+', r'\\1', text)"
   ]
  },
  {
   "cell_type": "code",
   "execution_count": 29,
   "id": "85583205",
   "metadata": {
    "hidden": true
   },
   "outputs": [
    {
     "data": {
      "text/plain": [
       "2258    ambience active quiet telephone cal day asking...\n",
       "2259    lounge imaculately maintained stated previousl...\n",
       "2260    staf atentive friendly airside pharmacy sydney...\n",
       "2261    sydney busines lounge spacious nice views fod ...\n",
       "2262    renovated qantas club perth international vast...\n",
       "Name: text, dtype: object"
      ]
     },
     "execution_count": 29,
     "metadata": {},
     "output_type": "execute_result"
    }
   ],
   "source": [
    "df['text'] = df['text'].apply(lambda x: cleaning_repeating_char(x))\n",
    "df['text'].tail()"
   ]
  },
  {
   "cell_type": "markdown",
   "id": "60570304",
   "metadata": {
    "heading_collapsed": true,
    "hidden": true
   },
   "source": [
    "#### Cleaning and removing numeric numbers"
   ]
  },
  {
   "cell_type": "code",
   "execution_count": 30,
   "id": "4d9f6e07",
   "metadata": {
    "hidden": true
   },
   "outputs": [],
   "source": [
    "def cleaning_numbers(data):\n",
    "    return re.sub('[0-9]+', '', data)"
   ]
  },
  {
   "cell_type": "code",
   "execution_count": 31,
   "id": "b5f6899d",
   "metadata": {
    "hidden": true
   },
   "outputs": [
    {
     "data": {
      "text/plain": [
       "2258    ambience active quiet telephone cal day asking...\n",
       "2259    lounge imaculately maintained stated previousl...\n",
       "2260    staf atentive friendly airside pharmacy sydney...\n",
       "2261    sydney busines lounge spacious nice views fod ...\n",
       "2262    renovated qantas club perth international vast...\n",
       "Name: text, dtype: object"
      ]
     },
     "execution_count": 31,
     "metadata": {},
     "output_type": "execute_result"
    }
   ],
   "source": [
    "df['text'] = df['text'].apply(lambda x: cleaning_numbers(x))\n",
    "df['text'].tail()"
   ]
  },
  {
   "cell_type": "markdown",
   "id": "1045490a",
   "metadata": {
    "heading_collapsed": true,
    "hidden": true
   },
   "source": [
    "#### Getting tokenization of the text"
   ]
  },
  {
   "cell_type": "code",
   "execution_count": 32,
   "id": "286dcf76",
   "metadata": {
    "hidden": true
   },
   "outputs": [],
   "source": [
    "tokenizer = RegexpTokenizer(r'\\w+')\n",
    "df['text'] = df['text'].apply(tokenizer.tokenize)"
   ]
  },
  {
   "cell_type": "code",
   "execution_count": 33,
   "id": "068eb3b7",
   "metadata": {
    "hidden": true
   },
   "outputs": [
    {
     "data": {
      "text/plain": [
       "0    [trip, verified, significant, delays, first, a...\n",
       "1    [verified, recently, flew, qantas, thoroughly,...\n",
       "2    [trip, verified, husband, went, auckland, air,...\n",
       "3    [trip, verified, traveled, husband, daughter, ...\n",
       "4    [trip, verified, another, horific, flight, end...\n",
       "Name: text, dtype: object"
      ]
     },
     "execution_count": 33,
     "metadata": {},
     "output_type": "execute_result"
    }
   ],
   "source": [
    "df['text'].head()"
   ]
  },
  {
   "cell_type": "markdown",
   "id": "9912f698",
   "metadata": {
    "heading_collapsed": true,
    "hidden": true
   },
   "source": [
    "#### Applying Stemming"
   ]
  },
  {
   "cell_type": "code",
   "execution_count": 35,
   "id": "92e74ee2",
   "metadata": {
    "hidden": true
   },
   "outputs": [],
   "source": [
    "st = nltk.PorterStemmer()\n",
    "def stemming_on_text(data):\n",
    "    text = [st.stem(word) for word in data]\n",
    "    return data\n",
    "\n",
    "df['text']= df['text'].apply(lambda x: stemming_on_text(x))"
   ]
  },
  {
   "cell_type": "code",
   "execution_count": 36,
   "id": "353caa40",
   "metadata": {
    "hidden": true
   },
   "outputs": [
    {
     "data": {
      "text/plain": [
       "0    [trip, verified, significant, delays, first, a...\n",
       "1    [verified, recently, flew, qantas, thoroughly,...\n",
       "2    [trip, verified, husband, went, auckland, air,...\n",
       "3    [trip, verified, traveled, husband, daughter, ...\n",
       "4    [trip, verified, another, horific, flight, end...\n",
       "Name: text, dtype: object"
      ]
     },
     "execution_count": 36,
     "metadata": {},
     "output_type": "execute_result"
    }
   ],
   "source": [
    "df['text'].head()"
   ]
  },
  {
   "cell_type": "markdown",
   "id": "d37cddcf",
   "metadata": {
    "heading_collapsed": true,
    "hidden": true
   },
   "source": [
    "#### Applying Lemmatizer"
   ]
  },
  {
   "cell_type": "code",
   "execution_count": 37,
   "id": "81ab451b",
   "metadata": {
    "hidden": true
   },
   "outputs": [],
   "source": [
    "lm = nltk.WordNetLemmatizer()\n",
    "def lemmatizer_on_text(data):\n",
    "    text = [lm.lemmatize(word) for word in data]\n",
    "    return data\n",
    "\n",
    "df['text'] = df['text'].apply(lambda x: lemmatizer_on_text(x))"
   ]
  },
  {
   "cell_type": "code",
   "execution_count": 38,
   "id": "566eef59",
   "metadata": {
    "hidden": true
   },
   "outputs": [
    {
     "data": {
      "text/plain": [
       "0    [trip, verified, significant, delays, first, a...\n",
       "1    [verified, recently, flew, qantas, thoroughly,...\n",
       "2    [trip, verified, husband, went, auckland, air,...\n",
       "3    [trip, verified, traveled, husband, daughter, ...\n",
       "4    [trip, verified, another, horific, flight, end...\n",
       "Name: text, dtype: object"
      ]
     },
     "execution_count": 38,
     "metadata": {},
     "output_type": "execute_result"
    }
   ],
   "source": [
    "df['text'].head()"
   ]
  },
  {
   "cell_type": "markdown",
   "id": "15423cda",
   "metadata": {
    "heading_collapsed": true,
    "hidden": true
   },
   "source": [
    "#### Stripping unnecessary characters"
   ]
  },
  {
   "cell_type": "code",
   "execution_count": 55,
   "id": "ecee5802",
   "metadata": {
    "hidden": true
   },
   "outputs": [],
   "source": [
    "# Remove leading and trailing square brackets\n",
    "df['text'] = df['text'].str.strip('[]')"
   ]
  },
  {
   "cell_type": "markdown",
   "id": "0d88cbb6",
   "metadata": {},
   "source": [
    "### Training a ML model"
   ]
  },
  {
   "cell_type": "markdown",
   "id": "badd9198",
   "metadata": {},
   "source": [
    "#### Preparing the input features for training"
   ]
  },
  {
   "cell_type": "code",
   "execution_count": 57,
   "id": "a9b8810a",
   "metadata": {},
   "outputs": [],
   "source": [
    "cv = CountVectorizer()\n",
    "tfidf = TfidfVectorizer(max_features=3000)"
   ]
  },
  {
   "cell_type": "code",
   "execution_count": 58,
   "id": "c1fd8836",
   "metadata": {},
   "outputs": [],
   "source": [
    "X = tfidf.fit_transform(df['text']).toarray()"
   ]
  },
  {
   "cell_type": "code",
   "execution_count": 59,
   "id": "eda76862",
   "metadata": {},
   "outputs": [
    {
     "data": {
      "text/plain": [
       "(2263, 3000)"
      ]
     },
     "execution_count": 59,
     "metadata": {},
     "output_type": "execute_result"
    }
   ],
   "source": [
    "X.shape"
   ]
  },
  {
   "cell_type": "code",
   "execution_count": 61,
   "id": "159c1c0b",
   "metadata": {},
   "outputs": [],
   "source": [
    "y = df['rating'].values"
   ]
  },
  {
   "cell_type": "code",
   "execution_count": 63,
   "id": "ca3ef252",
   "metadata": {},
   "outputs": [],
   "source": [
    "X_train,X_test,y_train,y_test = train_test_split(X,y,test_size=0.2,random_state=2)"
   ]
  },
  {
   "cell_type": "markdown",
   "id": "99ed34b6",
   "metadata": {},
   "source": [
    "#### Model Training"
   ]
  },
  {
   "cell_type": "code",
   "execution_count": 69,
   "id": "b65a83cc",
   "metadata": {},
   "outputs": [],
   "source": [
    "xgb = XGBClassifier(n_estimators=50,random_state=2)"
   ]
  },
  {
   "cell_type": "code",
   "execution_count": 70,
   "id": "f7c7c8a7",
   "metadata": {},
   "outputs": [],
   "source": [
    "def train_classifier(clf,X_train,y_train,X_test,y_test):\n",
    "    clf.fit(X_train,y_train)\n",
    "    y_pred = clf.predict(X_test)\n",
    "    accuracy = accuracy_score(y_test,y_pred)\n",
    "    precision = precision_score(y_test,y_pred)\n",
    "    \n",
    "    return accuracy,precision"
   ]
  },
  {
   "cell_type": "code",
   "execution_count": 72,
   "id": "b81d19a5",
   "metadata": {},
   "outputs": [
    {
     "data": {
      "text/plain": [
       "(0.8079470198675497, 0.808641975308642)"
      ]
     },
     "execution_count": 72,
     "metadata": {},
     "output_type": "execute_result"
    }
   ],
   "source": [
    "train_classifier(xgb,X_train,y_train,X_test,y_test)"
   ]
  },
  {
   "cell_type": "code",
   "execution_count": 73,
   "id": "edee42e1",
   "metadata": {},
   "outputs": [],
   "source": [
    "pickle.dump(tfidf,open('vectorizer.pkl','wb'))\n",
    "pickle.dump(xgb,open('model.pkl','wb'))"
   ]
  },
  {
   "cell_type": "code",
   "execution_count": null,
   "id": "36b09ab5",
   "metadata": {},
   "outputs": [],
   "source": []
  }
 ],
 "metadata": {
  "kernelspec": {
   "display_name": "Python 3 (ipykernel)",
   "language": "python",
   "name": "python3"
  },
  "language_info": {
   "codemirror_mode": {
    "name": "ipython",
    "version": 3
   },
   "file_extension": ".py",
   "mimetype": "text/x-python",
   "name": "python",
   "nbconvert_exporter": "python",
   "pygments_lexer": "ipython3",
   "version": "3.12.2"
  },
  "varInspector": {
   "cols": {
    "lenName": 16,
    "lenType": 16,
    "lenVar": 40
   },
   "kernels_config": {
    "python": {
     "delete_cmd_postfix": "",
     "delete_cmd_prefix": "del ",
     "library": "var_list.py",
     "varRefreshCmd": "print(var_dic_list())"
    },
    "r": {
     "delete_cmd_postfix": ") ",
     "delete_cmd_prefix": "rm(",
     "library": "var_list.r",
     "varRefreshCmd": "cat(var_dic_list()) "
    }
   },
   "types_to_exclude": [
    "module",
    "function",
    "builtin_function_or_method",
    "instance",
    "_Feature"
   ],
   "window_display": false
  }
 },
 "nbformat": 4,
 "nbformat_minor": 5
}
